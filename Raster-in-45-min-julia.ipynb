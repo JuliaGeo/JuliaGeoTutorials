{
 "cells": [
  {
   "cell_type": "markdown",
   "metadata": {},
   "source": [
    "\n",
    "\n",
    "# Raster analysis in Julia in 45 minutes\n",
    "\n",
    "This tutorial is based on the xarray in 45 minutes \n",
    "https://tutorial.xarray.dev/overview/xarray-in-45-min.html\n",
    "\n",
    "In this lesson, we discuss cover the basics of Raster analysis data structures. By the\n",
    "end of the lesson, we will be able to:\n",
    "\n",
    "- Understand the basic data structures in Julia\n",
    "- Inspect `DimArray` and `DimStack` objects.\n",
    "- Read and write netCDF files using Rasters.jl.\n",
    "- Understand that there are many packages that build on top of xarray\n",
    "\n",
    "\n",
    "We'll start by reviewing the various components of the Xarray data model, represented here visually:\n",
    "\n",
    "<img src=\"https://docs.xarray.dev/en/stable/_images/dataset-diagram.png\" align=\"center\" width=\"50%\">"
   ]
  },
  {
   "cell_type": "markdown",
   "metadata": {},
   "source": [
    "As example data we use the data in the xarray-data repository\n",
    "\n",
    "Here we'll use `air temperature` from the [National Center for Environmental Prediction](https://www.weather.gov/ncep/). Xarray objects have convenient HTML representations to give an overview of what we're working with:"
   ]
  },
  {
   "cell_type": "markdown",
   "metadata": {},
   "source": [
    "Before we can start we need to activate the current environment"
   ]
  },
  {
   "cell_type": "code",
   "execution_count": 4,
   "metadata": {},
   "outputs": [
    {
     "name": "stderr",
     "output_type": "stream",
     "text": [
      "\u001b[32m\u001b[1m  Activating\u001b[22m\u001b[39m new project at `~/Documents/JuliaGeoTutorials`\n"
     ]
    }
   ],
   "source": [
    "]activate ."
   ]
  },
  {
   "cell_type": "code",
   "execution_count": 13,
   "metadata": {},
   "outputs": [
    {
     "data": {
      "text/plain": [
       "RasterStack\u001b[90m with dimensions: \u001b[39m\n",
       "  \u001b[31mX\u001b[39m Mapped{Float32} \u001b[36mFloat32[200.0, 202.5, …, 327.5, 330.0]\u001b[39m ForwardOrdered Regular Points crs: EPSG mappedcrs: EPSG,\n",
       "  \u001b[31mY\u001b[39m Mapped{Float32} \u001b[36mFloat32[75.0, 72.5, …, 17.5, 15.0]\u001b[39m ReverseOrdered Regular Points crs: EPSG mappedcrs: EPSG,\n",
       "  \u001b[31mTi\u001b[39m Sampled{DateTime} \u001b[36mDateTime[2013-01-01T00:04:02.688, …, 2014-12-31T18:03:13.280]\u001b[39m ForwardOrdered Irregular Points\n",
       "\u001b[90mand \u001b[39m1 layer:\n",
       "\u001b[33m  :air\u001b[39m Float64\u001b[90m dims: \u001b[39m\u001b[31mX\u001b[39m, \u001b[31mY\u001b[39m, \u001b[31mTi\u001b[39m (53×25×2920)\n",
       "\n",
       "\u001b[90mwith metadata \u001b[39mMetadata{Rasters.NCDsource}\u001b[90m of \u001b[39mDict{String, Any} with 5 entries:\n",
       "  \"references\"  => \"http://www.esrl.noaa.gov/psd/data/gridded/data.ncep.reanaly…\n",
       "  \"platform\"    => \"Model\"\n",
       "  \"title\"       => \"4x daily NMC reanalysis (1948)\"\n",
       "  \"description\" => \"Data is from NMC initialized reanalysis\\n(4x/day).  These a…\n",
       "  \"Conventions\" => \"COARDS\""
      ]
     },
     "execution_count": 13,
     "metadata": {},
     "output_type": "execute_result"
    }
   ],
   "source": [
    "using Rasters\n",
    "using NCDatasets\n",
    "\n",
    "path = \"data/air_temperature.nc\"\n",
    "# First we download the data locally if needed.\n",
    "if !isfile(path)\n",
    "    download(\"https://github.com/pydata/xarray-data/blob/master/air_temperature.nc\", \"air_temperature.nc\")\n",
    "end\n",
    "\n",
    "# Now we can open the data as a RasterStack\n",
    "ds = RasterStack(path)"
   ]
  },
  {
   "cell_type": "markdown",
   "metadata": {},
   "source": []
  },
  {
   "cell_type": "markdown",
   "metadata": {},
   "source": [
    "## What's in a DimStack? \n",
    "\n",
    "*Many DimArrays!* \n",
    "\n",
    "DimStacks are dictionary-like containers of \"DimArray\"s. They are a mapping of\n",
    "variable name to DimArray.\n",
    "The RasterStack is a special case of a DimStack with some geospatial information.\n",
    "The DimArray s in the DimStack can share dimensions butdon't have all the same dimensionality.\n",
    "If layers share a dimension name, this dimension is only stored once for the whole DimStack."
   ]
  },
  {
   "cell_type": "code",
   "execution_count": 14,
   "metadata": {},
   "outputs": [
    {
     "data": {
      "text/plain": [
       "53×25×2920 Raster{Float64,3}\u001b[33m air\u001b[39m\u001b[90m with dimensions: \u001b[39m\n",
       "  \u001b[31mX\u001b[39m Mapped{Float32} \u001b[36mFloat32[200.0, 202.5, …, 327.5, 330.0]\u001b[39m ForwardOrdered Regular Points crs: EPSG mappedcrs: EPSG,\n",
       "  \u001b[31mY\u001b[39m Mapped{Float32} \u001b[36mFloat32[75.0, 72.5, …, 17.5, 15.0]\u001b[39m ReverseOrdered Regular Points crs: EPSG mappedcrs: EPSG,\n",
       "  \u001b[31mTi\u001b[39m Sampled{DateTime} \u001b[36mDateTime[2013-01-01T00:04:02.688, …, 2014-12-31T18:03:13.280]\u001b[39m ForwardOrdered Irregular Points\n",
       "\u001b[90mextent: \u001b[39mExtent(X = (200.0f0, 330.0f0), Y = (15.0f0, 75.0f0), Ti = (DateTime(\"2013-01-01T00:04:02.688\"), DateTime(\"2014-12-31T18:03:13.280\")))\u001b[90mmissingval: \u001b[39mmissing\u001b[90mcrs: \u001b[39mEPSG:4326\n",
       "\u001b[90mmappedcrs: \u001b[39mEPSG:4326\n",
       "\u001b[90mparent:\u001b[39m\n",
       "[:, :, 1]\n",
       "         \u001b[90m75.0\u001b[39m    \u001b[90m72.5\u001b[39m    \u001b[90m70.0\u001b[39m    \u001b[90m67.5\u001b[39m  …   \u001b[90m22.5\u001b[39m    \u001b[90m20.0\u001b[39m    \u001b[90m17.5\u001b[39m    \u001b[90m15.0\u001b[39m\n",
       " \u001b[39m\u001b[90m200.0\u001b[39m  \u001b[39m\u001b[39m241.2   \u001b[39m\u001b[39m243.8   \u001b[39m\u001b[39m250.0   \u001b[39m\u001b[39m266.5     \u001b[39m\u001b[39m297.0   \u001b[39m\u001b[39m296.6   \u001b[39m\u001b[39m295.9   \u001b[39m\u001b[39m296.29\n",
       " \u001b[39m\u001b[90m202.5\u001b[39m  \u001b[39m\u001b[39m242.5   \u001b[39m\u001b[39m244.5   \u001b[39m\u001b[39m249.8   \u001b[39m\u001b[39m267.1     \u001b[39m\u001b[39m296.7   \u001b[39m\u001b[39m296.2   \u001b[39m\u001b[39m296.2   \u001b[39m\u001b[39m296.79\n",
       " \u001b[39m\u001b[90m205.0\u001b[39m  \u001b[39m\u001b[39m243.5   \u001b[39m\u001b[39m244.7   \u001b[39m\u001b[39m248.89  \u001b[39m\u001b[39m267.1     \u001b[39m\u001b[39m296.1   \u001b[39m\u001b[39m296.4   \u001b[39m\u001b[39m296.79  \u001b[39m\u001b[39m297.1\n",
       " \u001b[39m\u001b[90m207.5\u001b[39m  \u001b[39m\u001b[39m244.0   \u001b[39m\u001b[39m244.2   \u001b[39m\u001b[39m247.5   \u001b[39m\u001b[39m266.7     \u001b[39m\u001b[39m295.9   \u001b[39m\u001b[39m296.5   \u001b[39m\u001b[39m296.5   \u001b[39m\u001b[39m297.0\n",
       " \u001b[39m\u001b[90m210.0\u001b[39m  \u001b[39m\u001b[39m244.1   \u001b[39m\u001b[39m243.39  \u001b[39m\u001b[39m246.0   \u001b[39m\u001b[39m265.9  …  \u001b[39m\u001b[39m294.9   \u001b[39m\u001b[39m295.5   \u001b[39m\u001b[39m296.1   \u001b[39m\u001b[39m296.9\n",
       " \u001b[39m\u001b[90m212.5\u001b[39m  \u001b[39m\u001b[39m243.89  \u001b[39m\u001b[39m242.39  \u001b[39m\u001b[39m244.39  \u001b[39m\u001b[39m264.7     \u001b[39m\u001b[39m293.4   \u001b[39m\u001b[39m294.0   \u001b[39m\u001b[39m295.1   \u001b[39m\u001b[39m296.4\n",
       " \u001b[39m\u001b[90m215.0\u001b[39m  \u001b[39m\u001b[39m243.6   \u001b[39m\u001b[39m241.7   \u001b[39m\u001b[39m243.1   \u001b[39m\u001b[39m263.1     \u001b[39m\u001b[39m292.79  \u001b[39m\u001b[39m293.6   \u001b[39m\u001b[39m294.6   \u001b[39m\u001b[39m296.0\n",
       "   ⋮                                   ⋱                            ⋮\n",
       " \u001b[39m\u001b[90m312.5\u001b[39m  \u001b[39m227.3   \u001b[39m237.5   \u001b[39m243.7   \u001b[39m240.8     \u001b[39m297.4   \u001b[39m298.0   \u001b[39m298.6   \u001b[39m298.7\n",
       " \u001b[39m\u001b[90m315.0\u001b[39m  \u001b[39m227.0   \u001b[39m235.0   \u001b[39m238.3   \u001b[39m235.2  …  \u001b[39m297.0   \u001b[39m297.29  \u001b[39m297.9   \u001b[39m298.6\n",
       " \u001b[39m\u001b[90m317.5\u001b[39m  \u001b[39m227.5   \u001b[39m233.2   \u001b[39m234.5   \u001b[39m235.2     \u001b[39m296.9   \u001b[39m297.2   \u001b[39m297.4   \u001b[39m298.0\n",
       " \u001b[39m\u001b[90m320.0\u001b[39m  \u001b[39m228.8   \u001b[39m232.0   \u001b[39m232.39  \u001b[39m239.3     \u001b[39m296.29  \u001b[39m296.7   \u001b[39m296.9   \u001b[39m297.79\n",
       " \u001b[39m\u001b[90m322.5\u001b[39m  \u001b[39m230.6   \u001b[39m231.8   \u001b[39m231.89  \u001b[39m244.6     \u001b[39m295.6   \u001b[39m295.79  \u001b[39m296.29  \u001b[39m297.6\n",
       " \u001b[39m\u001b[90m325.0\u001b[39m  \u001b[39m232.8   \u001b[39m232.8   \u001b[39m233.2   \u001b[39m249.2     \u001b[39m295.1   \u001b[39m295.4   \u001b[39m295.9   \u001b[39m296.9\n",
       " \u001b[39m\u001b[90m327.5\u001b[39m  \u001b[39m235.5   \u001b[39m235.3   \u001b[39m236.39  \u001b[39m253.1  …  \u001b[39m295.1   \u001b[39m295.1   \u001b[39m295.9   \u001b[39m296.79\n",
       " \u001b[39m\u001b[90m330.0\u001b[39m  \u001b[39m238.6   \u001b[39m239.3   \u001b[39m241.7   \u001b[39m256.9     \u001b[39m294.9   \u001b[39m294.7   \u001b[39m295.2   \u001b[39m296.6\n",
       "\u001b[90m[and 2919 more slices...]\u001b[39m"
      ]
     },
     "execution_count": 14,
     "metadata": {},
     "output_type": "execute_result"
    },
    {
     "name": "stdout",
     "output_type": "stream",
     "text": [
      "\n",
      "\n"
     ]
    }
   ],
   "source": [
    "# pull out \"air\" dataarray with dictionary syntax\n",
    "ds[\"air\"]"
   ]
  },
  {
   "cell_type": "markdown",
   "metadata": {},
   "source": [
    "You can save some typing by using the \"attribute\" or \"dot\" notation and using tab completion. \n"
   ]
  },
  {
   "cell_type": "code",
   "execution_count": 15,
   "metadata": {},
   "outputs": [
    {
     "data": {
      "text/plain": [
       "53×25×2920 Raster{Float64,3}\u001b[33m air\u001b[39m\u001b[90m with dimensions: \u001b[39m\n",
       "  \u001b[31mX\u001b[39m Mapped{Float32} \u001b[36mFloat32[200.0, 202.5, …, 327.5, 330.0]\u001b[39m ForwardOrdered Regular Points crs: EPSG mappedcrs: EPSG,\n",
       "  \u001b[31mY\u001b[39m Mapped{Float32} \u001b[36mFloat32[75.0, 72.5, …, 17.5, 15.0]\u001b[39m ReverseOrdered Regular Points crs: EPSG mappedcrs: EPSG,\n",
       "  \u001b[31mTi\u001b[39m Sampled{DateTime} \u001b[36mDateTime[2013-01-01T00:04:02.688, …, 2014-12-31T18:03:13.280]\u001b[39m ForwardOrdered Irregular Points\n",
       "\u001b[90mextent: \u001b[39mExtent(X = (200.0f0, 330.0f0), Y = (15.0f0, 75.0f0), Ti = (DateTime(\"2013-01-01T00:04:02.688\"), DateTime(\"2014-12-31T18:03:13.280\")))\u001b[90mmissingval: \u001b[39mmissing\u001b[90mcrs: \u001b[39mEPSG:4326\n",
       "\u001b[90mmappedcrs: \u001b[39mEPSG:4326\n",
       "\u001b[90mparent:\u001b[39m\n",
       "[:, :, 1]\n",
       "         \u001b[90m75.0\u001b[39m    \u001b[90m72.5\u001b[39m    \u001b[90m70.0\u001b[39m    \u001b[90m67.5\u001b[39m  …   \u001b[90m22.5\u001b[39m    \u001b[90m20.0\u001b[39m    \u001b[90m17.5\u001b[39m    \u001b[90m15.0\u001b[39m\n",
       " \u001b[39m\u001b[90m200.0\u001b[39m  \u001b[39m\u001b[39m241.2   \u001b[39m\u001b[39m243.8   \u001b[39m\u001b[39m250.0   \u001b[39m\u001b[39m266.5     \u001b[39m\u001b[39m297.0   \u001b[39m\u001b[39m296.6   \u001b[39m\u001b[39m295.9   \u001b[39m\u001b[39m296.29\n",
       " \u001b[39m\u001b[90m202.5\u001b[39m  \u001b[39m\u001b[39m242.5   \u001b[39m\u001b[39m244.5   \u001b[39m\u001b[39m249.8   \u001b[39m\u001b[39m267.1     \u001b[39m\u001b[39m296.7   \u001b[39m\u001b[39m296.2   \u001b[39m\u001b[39m296.2   \u001b[39m\u001b[39m296.79\n",
       " \u001b[39m\u001b[90m205.0\u001b[39m  \u001b[39m\u001b[39m243.5   \u001b[39m\u001b[39m244.7   \u001b[39m\u001b[39m248.89  \u001b[39m\u001b[39m267.1     \u001b[39m\u001b[39m296.1   \u001b[39m\u001b[39m296.4   \u001b[39m\u001b[39m296.79  \u001b[39m\u001b[39m297.1\n",
       " \u001b[39m\u001b[90m207.5\u001b[39m  \u001b[39m\u001b[39m244.0   \u001b[39m\u001b[39m244.2   \u001b[39m\u001b[39m247.5   \u001b[39m\u001b[39m266.7     \u001b[39m\u001b[39m295.9   \u001b[39m\u001b[39m296.5   \u001b[39m\u001b[39m296.5   \u001b[39m\u001b[39m297.0\n",
       " \u001b[39m\u001b[90m210.0\u001b[39m  \u001b[39m\u001b[39m244.1   \u001b[39m\u001b[39m243.39  \u001b[39m\u001b[39m246.0   \u001b[39m\u001b[39m265.9  …  \u001b[39m\u001b[39m294.9   \u001b[39m\u001b[39m295.5   \u001b[39m\u001b[39m296.1   \u001b[39m\u001b[39m296.9\n",
       " \u001b[39m\u001b[90m212.5\u001b[39m  \u001b[39m\u001b[39m243.89  \u001b[39m\u001b[39m242.39  \u001b[39m\u001b[39m244.39  \u001b[39m\u001b[39m264.7     \u001b[39m\u001b[39m293.4   \u001b[39m\u001b[39m294.0   \u001b[39m\u001b[39m295.1   \u001b[39m\u001b[39m296.4\n",
       " \u001b[39m\u001b[90m215.0\u001b[39m  \u001b[39m\u001b[39m243.6   \u001b[39m\u001b[39m241.7   \u001b[39m\u001b[39m243.1   \u001b[39m\u001b[39m263.1     \u001b[39m\u001b[39m292.79  \u001b[39m\u001b[39m293.6   \u001b[39m\u001b[39m294.6   \u001b[39m\u001b[39m296.0\n",
       "   ⋮                                   ⋱                            ⋮\n",
       " \u001b[39m\u001b[90m312.5\u001b[39m  \u001b[39m227.3   \u001b[39m237.5   \u001b[39m243.7   \u001b[39m240.8     \u001b[39m297.4   \u001b[39m298.0   \u001b[39m298.6   \u001b[39m298.7\n",
       " \u001b[39m\u001b[90m315.0\u001b[39m  \u001b[39m227.0   \u001b[39m235.0   \u001b[39m238.3   \u001b[39m235.2  …  \u001b[39m297.0   \u001b[39m297.29  \u001b[39m297.9   \u001b[39m298.6\n",
       " \u001b[39m\u001b[90m317.5\u001b[39m  \u001b[39m227.5   \u001b[39m233.2   \u001b[39m234.5   \u001b[39m235.2     \u001b[39m296.9   \u001b[39m297.2   \u001b[39m297.4   \u001b[39m298.0\n",
       " \u001b[39m\u001b[90m320.0\u001b[39m  \u001b[39m228.8   \u001b[39m232.0   \u001b[39m232.39  \u001b[39m239.3     \u001b[39m296.29  \u001b[39m296.7   \u001b[39m296.9   \u001b[39m297.79\n",
       " \u001b[39m\u001b[90m322.5\u001b[39m  \u001b[39m230.6   \u001b[39m231.8   \u001b[39m231.89  \u001b[39m244.6     \u001b[39m295.6   \u001b[39m295.79  \u001b[39m296.29  \u001b[39m297.6\n",
       " \u001b[39m\u001b[90m325.0\u001b[39m  \u001b[39m232.8   \u001b[39m232.8   \u001b[39m233.2   \u001b[39m249.2     \u001b[39m295.1   \u001b[39m295.4   \u001b[39m295.9   \u001b[39m296.9\n",
       " \u001b[39m\u001b[90m327.5\u001b[39m  \u001b[39m235.5   \u001b[39m235.3   \u001b[39m236.39  \u001b[39m253.1  …  \u001b[39m295.1   \u001b[39m295.1   \u001b[39m295.9   \u001b[39m296.79\n",
       " \u001b[39m\u001b[90m330.0\u001b[39m  \u001b[39m238.6   \u001b[39m239.3   \u001b[39m241.7   \u001b[39m256.9     \u001b[39m294.9   \u001b[39m294.7   \u001b[39m295.2   \u001b[39m296.6\n",
       "\u001b[90m[and 2919 more slices...]\u001b[39m"
      ]
     },
     "execution_count": 15,
     "metadata": {},
     "output_type": "execute_result"
    },
    {
     "name": "stdout",
     "output_type": "stream",
     "text": [
      "\n",
      "\n"
     ]
    }
   ],
   "source": [
    "# pull out dataarray using dot notation\n",
    "ds.air"
   ]
  },
  {
   "cell_type": "markdown",
   "metadata": {},
   "source": [
    "## What's in a DimArray? \n",
    "\n",
    "*data + (a lot of) metadata*\n",
    "\n"
   ]
  },
  {
   "cell_type": "markdown",
   "metadata": {},
   "source": [
    "### Name (optional)"
   ]
  },
  {
   "cell_type": "code",
   "execution_count": 18,
   "metadata": {},
   "outputs": [
    {
     "data": {
      "text/plain": [
       ":air"
      ]
     },
     "execution_count": 18,
     "metadata": {},
     "output_type": "execute_result"
    }
   ],
   "source": [
    "da = ds.air\n",
    "\n",
    "Rasters.name(da)"
   ]
  },
  {
   "cell_type": "markdown",
   "metadata": {},
   "source": [
    "### Named dimensions \n",
    "\n",
    "`dims(da)` correspond to the axes of your data. \n",
    "\n",
    "In this case we have 2 spatial dimensions (`X` and `Y`) and one temporal dimension (`Ti`)."
   ]
  },
  {
   "cell_type": "code",
   "execution_count": 19,
   "metadata": {},
   "outputs": [
    {
     "data": {
      "text/plain": [
       "\u001b[31mX\u001b[39m Mapped{Float32} \u001b[36mFloat32[200.0, 202.5, …, 327.5, 330.0]\u001b[39m ForwardOrdered Regular Points crs: EPSG mappedcrs: EPSG,\n",
       "\u001b[31mY\u001b[39m Mapped{Float32} \u001b[36mFloat32[75.0, 72.5, …, 17.5, 15.0]\u001b[39m ReverseOrdered Regular Points crs: EPSG mappedcrs: EPSG,\n",
       "\u001b[31mTi\u001b[39m Sampled{DateTime} \u001b[36mDateTime[2013-01-01T00:04:02.688, …, 2014-12-31T18:03:13.280]\u001b[39m ForwardOrdered Irregular Points"
      ]
     },
     "execution_count": 19,
     "metadata": {},
     "output_type": "execute_result"
    }
   ],
   "source": [
    "dims(da)"
   ]
  },
  {
   "cell_type": "markdown",
   "metadata": {},
   "source": [
    "You can also extract a single dimension."
   ]
  },
  {
   "cell_type": "code",
   "execution_count": null,
   "metadata": {},
   "outputs": [],
   "source": [
    "# extracting coordinate variables\n",
    "dims(da, X)"
   ]
  },
  {
   "cell_type": "markdown",
   "metadata": {},
   "source": [
    "It is useful to think of the values in the dimensions as axis\n",
    "\"labels\" such as \"tick labels\" in a figure. These are coordinate locations on a\n",
    "grid at which you have data.\n"
   ]
  },
  {
   "cell_type": "markdown",
   "metadata": {},
   "source": [
    "### Arbitrary attributes \n",
    "\n",
    "`metadata` is a metadata object that can hold arbitrary attributes that describe the underlying data. "
   ]
  },
  {
   "cell_type": "code",
   "execution_count": null,
   "metadata": {},
   "outputs": [],
   "source": [
    "metadata(da)"
   ]
  },
  {
   "cell_type": "code",
   "execution_count": null,
   "metadata": {},
   "outputs": [],
   "source": [
    "# assign your own attributes!\n",
    "metadata(da)[\"myattrs\"] = \"Mine\""
   ]
  },
  {
   "cell_type": "markdown",
   "metadata": {},
   "source": [
    "### Underlying data \n",
    "\n",
    "\n",
    "A DimensionalData data structures wrap underlying simpler array-like data structures. These arrays have to fit into the Julia Array interface but can be either in memory arrays or DiskArray.jl arrays for lazy access or  part of Xarray is quite extensible allowing for distributed array, GPU arrays, sparse arrays, arrays with units etc. We'll  briefly look at this later in this tutorial.\n",
    "\n",
    "To access the underlying data use the `parent` function:"
   ]
  },
  {
   "cell_type": "code",
   "execution_count": null,
   "metadata": {},
   "outputs": [],
   "source": [
    "parent(da)"
   ]
  },
  {
   "cell_type": "code",
   "execution_count": null,
   "metadata": {},
   "outputs": [],
   "source": [
    "# what is the type of the underlying data\n",
    "typeof(parent(da)"
   ]
  },
  {
   "cell_type": "markdown",
   "metadata": {},
   "source": [
    "We can change the underlying data type by using the lazy keyword for opening the data.\n",
    "This is especially helpful for very large data or data that is hosted online where we would not want to download the whole dataset before starting the analysis.\n"
   ]
  },
  {
   "cell_type": "code",
   "execution_count": 21,
   "metadata": {},
   "outputs": [
    {
     "data": {
      "text/plain": [
       "RasterStack\u001b[90m with dimensions: \u001b[39m\n",
       "  \u001b[31mY\u001b[39m Mapped{Float32} \u001b[36mFloat32[75.0, 72.5, …, 17.5, 15.0]\u001b[39m ReverseOrdered Regular Points crs: EPSG mappedcrs: EPSG,\n",
       "  \u001b[31mTi\u001b[39m Sampled{DateTime} \u001b[36mDateTime[2013-01-01T00:04:02.688, …, 2014-12-31T18:03:13.280]\u001b[39m ForwardOrdered Irregular Points,\n",
       "  \u001b[31mX\u001b[39m Mapped{Float32} \u001b[36mFloat32[200.0, 202.5, …, 327.5, 330.0]\u001b[39m ForwardOrdered Regular Points crs: EPSG mappedcrs: EPSG\n",
       "\u001b[90mand \u001b[39m1 layer:\n",
       "\u001b[33m  :air\u001b[39m Union{Missing, Float64}\u001b[90m dims: \u001b[39m\u001b[31mX\u001b[39m, \u001b[31mY\u001b[39m, \u001b[31mTi\u001b[39m (53×25×2920)\n",
       "\n",
       "\u001b[90mwith metadata \u001b[39mMetadata{Rasters.NCDsource}\u001b[90m of \u001b[39mDict{String, Any} with 5 entries:\n",
       "  \"references\"  => \"http://www.esrl.noaa.gov/psd/data/gridded/data.ncep.reanaly…\n",
       "  \"platform\"    => \"Model\"\n",
       "  \"title\"       => \"4x daily NMC reanalysis (1948)\"\n",
       "  \"description\" => \"Data is from NMC initialized reanalysis\\n(4x/day).  These a…\n",
       "  \"Conventions\" => \"COARDS\"\u001b[90mfrom file:\u001b[39m\n",
       "air_temperature.nc\n"
      ]
     },
     "execution_count": 21,
     "metadata": {},
     "output_type": "execute_result"
    }
   ],
   "source": [
    "dsl = RasterStack(path, lazy=true)"
   ]
  },
  {
   "cell_type": "code",
   "execution_count": 22,
   "metadata": {},
   "outputs": [
    {
     "data": {
      "text/plain": [
       "53×25×2920 Raster{Union{Missing, Float64},3}\u001b[33m air\u001b[39m\u001b[90m with dimensions: \u001b[39m\n",
       "  \u001b[31mX\u001b[39m Mapped{Float32} \u001b[36mFloat32[200.0, 202.5, …, 327.5, 330.0]\u001b[39m ForwardOrdered Regular Points crs: EPSG mappedcrs: EPSG,\n",
       "  \u001b[31mY\u001b[39m Mapped{Float32} \u001b[36mFloat32[75.0, 72.5, …, 17.5, 15.0]\u001b[39m ReverseOrdered Regular Points crs: EPSG mappedcrs: EPSG,\n",
       "  \u001b[31mTi\u001b[39m Sampled{DateTime} \u001b[36mDateTime[2013-01-01T00:04:02.688, …, 2014-12-31T18:03:13.280]\u001b[39m ForwardOrdered Irregular Points\n",
       "\u001b[90mextent: \u001b[39mExtent(X = (200.0f0, 330.0f0), Y = (15.0f0, 75.0f0), Ti = (DateTime(\"2013-01-01T00:04:02.688\"), DateTime(\"2014-12-31T18:03:13.280\")))\u001b[90mmissingval: \u001b[39mmissing\u001b[90mcrs: \u001b[39mEPSG:4326\n",
       "\u001b[90mmappedcrs: \u001b[39mEPSG:4326\n",
       "\u001b[90mfrom file:\u001b[39m\n",
       "air_temperature.nc"
      ]
     },
     "execution_count": 22,
     "metadata": {},
     "output_type": "execute_result"
    },
    {
     "name": "stdout",
     "output_type": "stream",
     "text": [
      "\n",
      "\n"
     ]
    }
   ],
   "source": [
    "dal = dsl.air"
   ]
  },
  {
   "cell_type": "code",
   "execution_count": 24,
   "metadata": {},
   "outputs": [
    {
     "data": {
      "text/plain": [
       "Rasters.FileArray{Rasters.NCDsource, Union{Missing, Float64}, 3, Symbol, DiskArrays.GridChunks{3, Tuple{DiskArrays.RegularChunks, DiskArrays.RegularChunks, DiskArrays.RegularChunks}}, DiskArrays.Unchunked}"
      ]
     },
     "execution_count": 24,
     "metadata": {},
     "output_type": "execute_result"
    }
   ],
   "source": [
    "typeof(parent(dal))"
   ]
  },
  {
   "cell_type": "markdown",
   "metadata": {},
   "source": [
    "### Review\n",
    "\n",
    "DimensionalData provides two main data structures:\n",
    "\n",
    "1. `DimArrays` that wrap underlying data containers and contain associated metadata in the \n",
    "1. `DimStacks` that are dictionary-like containers of DataArrays\n",
    "\n",
    "`DimArrays` contain underlying arrays and associated metadata:\n",
    "1. Name\n",
    "2. Dimension names\n",
    "3. Lookup values\n",
    "4. Metadata"
   ]
  },
  {
   "cell_type": "markdown",
   "metadata": {},
   "source": [
    "---"
   ]
  },
  {
   "cell_type": "markdown",
   "metadata": {},
   "source": [
    "## Why named dimensions and labeled dimensions? \n",
    "\n",
    "Metadata provides context and provides code that is more legible. This reduces the likelihood of errors from typos and makes analysis more intuitive and fun!\n",
    "\n",
    "### Analysis without named dimensions:"
   ]
  },
  {
   "cell_type": "code",
   "execution_count": 27,
   "metadata": {},
   "outputs": [
    {
     "data": {
      "text/plain": [
       "53×25×2920 Array{Float64, 3}:\n",
       "[:, :, 1] =\n",
       " 241.2   243.8   250.0   266.5   274.5   …  297.0   296.6   295.9   296.29\n",
       " 242.5   244.5   249.8   267.1   274.29     296.7   296.2   296.2   296.79\n",
       " 243.5   244.7   248.89  267.1   274.1      296.1   296.4   296.79  297.1\n",
       " 244.0   244.2   247.5   266.7   274.0      295.9   296.5   296.5   297.0\n",
       " 244.1   243.39  246.0   265.9   273.79     294.9   295.5   296.1   296.9\n",
       " 243.89  242.39  244.39  264.7   273.0   …  293.4   294.0   295.1   296.4\n",
       " 243.6   241.7   243.1   263.1   271.79     292.79  293.6   294.6   296.0\n",
       " 243.1   241.3   242.39  261.6   270.6      292.4   293.4   294.4   295.7\n",
       " 242.5   241.1   242.2   260.6   270.0      292.2   292.79  293.79  295.5\n",
       " 241.89  241.1   242.5   260.1   269.9      292.2   292.9   293.79  295.4\n",
       " 241.2   241.0   243.1   260.0   270.0   …  291.5   292.6   293.79  295.2\n",
       " 240.3   240.5   243.5   259.9   269.9      291.1   292.2   293.29  295.2\n",
       " 239.5   239.7   243.5   259.29  269.2      290.9   292.2   292.79  295.0\n",
       "   ⋮                                     ⋱                          \n",
       " 238.5   247.6   254.1   261.2   266.4      297.1   298.1   298.6   299.2\n",
       " 234.7   245.89  256.0   264.2   268.79     297.5   298.1   298.4   299.79\n",
       " 231.3   243.39  254.3   260.0   262.6      297.79  298.4   298.4   299.7\n",
       " 228.8   240.39  249.6   250.6   251.1      297.9   298.79  298.9   299.1\n",
       " 227.3   237.5   243.7   240.8   241.3   …  297.4   298.0   298.6   298.7\n",
       " 227.0   235.0   238.3   235.2   239.3      297.0   297.29  297.9   298.6\n",
       " 227.5   233.2   234.5   235.2   245.89     296.9   297.2   297.4   298.0\n",
       " 228.8   232.0   232.39  239.3   256.8      296.29  296.7   296.9   297.79\n",
       " 230.6   231.8   231.89  244.6   266.4      295.6   295.79  296.29  297.6\n",
       " 232.8   232.8   233.2   249.2   271.4   …  295.1   295.4   295.9   296.9\n",
       " 235.5   235.3   236.39  253.1   272.4      295.1   295.1   295.9   296.79\n",
       " 238.6   239.3   241.7   256.9   271.9      294.9   294.7   295.2   296.6\n",
       "\n",
       "[:, :, 2] =\n",
       " 242.1   243.6   253.2   269.7   272.5   …  295.79  296.4   296.2   296.29\n",
       " 242.7   244.1   252.89  269.4   271.5      295.79  295.9   296.7   297.2\n",
       " 243.1   244.2   252.1   268.6   270.4      296.1   296.2   296.79  297.4\n",
       " 243.39  244.1   250.8   267.4   269.4      296.0   296.1   296.4   297.4\n",
       " 243.6   243.7   249.3   266.0   268.5      294.79  295.1   296.1   297.1\n",
       " 243.8   243.3   247.5   264.4   268.0   …  293.2   294.1   295.6   296.7\n",
       " 244.0   242.8   245.5   262.6   267.9      292.6   293.79  295.1   296.4\n",
       " 244.1   242.39  243.6   260.79  268.1      292.6   293.6   294.5   295.79\n",
       " 244.3   242.2   242.1   259.1   268.1      292.29  293.0   294.2   295.79\n",
       " 244.3   242.0   241.1   257.7   267.79     292.0   292.9   294.1   295.6\n",
       " 244.0   241.8   240.89  256.9   267.1   …  291.5   292.79  294.0   295.1\n",
       " 243.39  241.5   241.3   256.7   266.6      291.2   292.4   293.6   295.29\n",
       " 242.5   240.89  242.0   257.0   266.6      291.1   292.2   293.1   295.2\n",
       "   ⋮                                     ⋱                          \n",
       " 238.1   247.6   254.8   262.1   266.2      296.79  297.7   298.4   298.79\n",
       " 234.7   245.6   256.0   264.4   268.4      297.2   297.9   298.2   299.29\n",
       " 231.7   242.89  253.6   259.79  262.5      297.6   298.4   298.29  299.29\n",
       " 229.6   239.89  248.6   250.6   252.0      297.6   298.5   298.5   298.6\n",
       " 228.5   237.3   242.8   241.5   243.1   …  297.5   298.0   298.29  298.2\n",
       " 228.39  235.1   237.7   236.3   241.3      297.29  297.4   297.7   298.1\n",
       " 228.89  233.3   234.0   236.1   247.2      297.0   297.0   297.2   297.5\n",
       " 229.7   231.89  231.6   239.39  257.1      296.5   296.7   297.1   297.1\n",
       " 230.7   231.0   230.39  243.5   266.0      295.9   296.1   296.4   296.9\n",
       " 232.0   231.0   230.8   247.2   270.9   …  295.2   295.4   295.6   296.4\n",
       " 233.6   232.5   233.39  250.5   272.29     294.9   295.1   295.5   296.4\n",
       " 235.8   235.7   238.5   254.39  272.29     294.7   294.79  295.1   296.6\n",
       "\n",
       "[:, :, 3] =\n",
       " 242.3   244.6   256.2   269.29  271.9   …  295.0   295.6   296.2   296.4\n",
       " 242.2   244.39  255.5   268.5   271.79     295.0   295.4   296.5   296.29\n",
       " 242.3   244.0   254.2   267.0   271.6      294.9   295.4   296.29  296.4\n",
       " 242.5   243.39  252.3   265.0   270.7      295.0   295.2   295.5   296.29\n",
       " 242.89  242.8   250.2   262.7   269.4      294.0   294.1   295.1   296.29\n",
       " 243.6   242.39  248.1   260.29  267.79  …  292.4   293.1   294.5   295.79\n",
       " 244.5   242.3   246.3   258.5   266.6      292.1   293.1   294.1   295.2\n",
       " 245.7   242.3   244.89  257.29  266.2      292.2   292.9   293.5   295.1\n",
       " 246.8   242.39  243.7   256.8   266.2      292.0   292.29  293.0   295.0\n",
       " 247.7   242.5   242.6   256.39  265.9      291.4   292.2   293.2   294.5\n",
       " 248.2   242.3   241.7   255.8   265.1   …  290.6   291.7   293.2   294.29\n",
       " 248.0   241.8   240.8   255.2   264.0      290.7   291.4   292.79  294.7\n",
       " 247.2   241.1   240.3   254.89  263.4      290.9   291.79  292.7   294.9\n",
       "   ⋮                                     ⋱                          \n",
       " 240.2   248.1   253.7   260.9   266.5      297.1   297.9   298.29  298.9\n",
       " 237.89  247.39  256.6   264.2   269.1      297.6   298.1   298.2   299.5\n",
       " 235.7   245.7   256.1   261.29  264.29     298.0   298.7   298.5   299.2\n",
       " 233.89  243.1   252.7   254.0   254.8      298.4   299.0   299.0   298.7\n",
       " 232.6   240.2   247.7   246.1   246.5   …  298.29  298.29  298.79  298.79\n",
       " 232.0   237.3   242.6   241.2   244.2      297.7   297.6   298.0   298.7\n",
       " 231.89  234.39  238.0   240.39  249.2      297.0   297.4   297.6   297.9\n",
       " 232.2   232.0   234.3   242.39  258.0      296.6   297.0   297.7   297.9\n",
       " 233.0   230.39  231.8   245.3   266.0      296.29  296.7   297.1   297.6\n",
       " 234.3   230.3   231.2   247.89  270.5   …  295.6   296.29  296.4   297.0\n",
       " 236.1   232.0   233.2   250.6   271.79     294.9   295.29  296.0   297.0\n",
       " 238.7   235.7   238.2   254.2   271.79     294.79  295.0   295.6   296.79\n",
       "\n",
       ";;; … \n",
       "\n",
       "[:, :, 2918] =\n",
       " 243.49  249.09  262.69  273.49  273.89  …  292.99  294.79  296.79  298.19\n",
       " 242.99  248.99  262.19  272.99  274.19     293.49  295.29  297.89  299.19\n",
       " 242.09  248.59  261.69  272.49  274.29     295.99  297.49  298.29  298.79\n",
       " 240.69  247.79  260.89  271.89  274.39     297.39  298.49  298.19  298.69\n",
       " 239.19  246.49  259.79  271.09  274.49     297.09  297.99  298.59  299.29\n",
       " 237.69  244.99  258.09  270.19  274.69  …  296.59  297.49  298.49  298.99\n",
       " 236.59  243.59  255.99  269.09  274.99     295.69  297.29  298.19  298.59\n",
       " 235.99  242.49  253.69  267.89  275.19     294.79  296.79  297.79  298.19\n",
       " 235.99  241.89  251.29  266.29  274.99     294.59  296.29  297.69  298.29\n",
       " 236.39  241.69  249.19  264.49  274.09     294.49  296.19  297.79  298.29\n",
       " 237.09  241.79  247.39  262.29  272.39  …  293.99  295.69  297.39  297.49\n",
       " 237.79  241.89  245.99  260.19  270.49     293.99  295.39  296.89  297.69\n",
       " 238.39  241.89  245.09  258.39  268.79     294.19  295.29  295.99  297.49\n",
       "   ⋮                                     ⋱                          \n",
       " 254.49  255.29  258.79  263.99  267.29     297.99  298.59  298.59  299.19\n",
       " 252.39  256.09  262.19  267.39  269.59     297.89  298.59  298.29  299.69\n",
       " 249.99  254.99  261.69  263.69  262.69     297.09  298.29  297.59  298.79\n",
       " 247.79  252.49  257.49  254.89  250.99     296.49  297.89  297.69  297.89\n",
       " 245.89  249.09  251.39  245.59  241.79  …  295.89  296.99  297.39  297.79\n",
       " 244.59  245.79  245.39  240.09  241.09     295.79  296.89  296.79  297.69\n",
       " 243.89  243.09  241.09  240.09  249.19     295.59  296.79  296.79  297.29\n",
       " 243.69  241.39  238.79  243.89  261.29     295.09  296.19  297.09  297.19\n",
       " 243.89  240.59  238.39  248.99  271.29     295.09  295.69  296.39  297.09\n",
       " 244.19  240.59  239.39  253.49  276.49  …  294.69  295.49  295.49  296.09\n",
       " 244.49  241.29  241.69  257.39  277.89     294.69  295.39  295.49  295.79\n",
       " 244.89  242.69  245.19  261.39  278.29     294.79  294.69  294.79  295.79\n",
       "\n",
       "[:, :, 2919] =\n",
       " 245.79  249.89  262.39  273.29  273.59  …  291.59  293.69  296.29  297.79\n",
       " 244.79  249.29  261.79  272.89  273.99     291.69  293.89  297.19  298.39\n",
       " 243.49  248.49  261.29  272.49  274.19     293.59  295.39  297.59  298.49\n",
       " 241.89  247.29  260.59  272.09  274.49     295.89  297.19  297.89  298.59\n",
       " 240.29  245.69  259.39  271.59  274.69     296.89  297.79  298.29  298.79\n",
       " 238.89  243.99  257.69  270.99  274.99  …  296.79  297.49  298.09  298.69\n",
       " 237.79  242.29  255.49  270.29  275.29     296.09  297.49  297.79  298.49\n",
       " 237.19  240.89  252.99  269.29  275.59     294.99  297.29  297.79  297.99\n",
       " 237.09  239.89  250.29  267.89  275.79     294.69  296.49  297.89  298.29\n",
       " 237.29  239.29  247.59  265.89  275.59     294.69  295.99  297.69  298.19\n",
       " 237.59  239.09  244.99  262.99  274.69  …  294.49  295.99  297.49  297.39\n",
       " 237.89  238.99  242.59  259.49  272.99     294.39  295.79  296.99  297.69\n",
       " 238.09  238.99  240.59  255.69  270.49     294.39  295.49  295.89  297.59\n",
       "   ⋮                                     ⋱                          \n",
       " 255.49  256.19  258.69  262.69  267.19     298.09  298.39  298.49  298.69\n",
       " 253.19  256.59  262.09  265.99  269.59     297.49  297.89  297.89  299.09\n",
       " 250.69  255.39  261.79  263.19  263.99     296.69  297.89  297.69  298.89\n",
       " 248.19  252.79  257.99  255.69  253.99     296.19  297.59  297.69  297.79\n",
       " 246.09  249.39  252.09  247.59  246.29  …  295.69  296.59  297.59  297.99\n",
       " 244.39  245.89  246.29  242.79  245.99     295.69  296.39  296.99  297.99\n",
       " 243.39  243.09  241.89  242.79  253.39     295.29  296.29  296.49  296.79\n",
       " 242.89  241.39  239.59  246.29  264.19     294.59  295.49  296.79  296.89\n",
       " 242.89  240.79  239.19  250.79  272.99     294.49  294.89  295.89  296.59\n",
       " 243.29  241.29  240.49  254.89  277.29  …  294.49  295.09  295.29  295.69\n",
       " 243.99  242.49  243.09  258.29  277.99     294.29  294.69  295.09  295.49\n",
       " 244.79  244.29  246.89  261.79  277.59     294.49  294.29  294.39  295.19\n",
       "\n",
       "[:, :, 2920] =\n",
       " 245.09  249.89  262.99  272.19  271.19  …  292.89  293.79  296.09  297.69\n",
       " 244.29  249.29  262.19  272.09  271.89     292.09  293.69  296.89  298.09\n",
       " 243.29  248.39  261.39  271.99  272.59     292.99  295.09  297.19  298.09\n",
       " 242.19  246.99  259.99  271.59  273.09     295.09  296.69  297.49  298.49\n",
       " 241.09  245.09  257.79  270.69  273.09     296.09  297.29  298.19  298.89\n",
       " 240.09  243.09  254.99  269.29  272.89  …  296.59  297.29  298.09  298.69\n",
       " 239.39  241.09  251.99  267.69  272.99     296.49  297.39  297.79  298.39\n",
       " 238.99  239.59  249.09  266.19  273.39     295.79  297.49  297.79  298.09\n",
       " 238.89  238.59  246.59  264.79  273.99     295.59  297.19  297.69  298.09\n",
       " 239.09  238.29  244.49  263.19  274.19     295.39  296.49  297.59  297.99\n",
       " 239.39  238.39  242.59  260.89  273.69  …  294.89  296.09  297.39  297.49\n",
       " 239.49  238.59  240.89  257.89  272.29     294.89  296.19  296.79  297.49\n",
       " 239.49  238.89  239.29  254.19  270.09     294.59  296.09  296.39  297.49\n",
       "   ⋮                                     ⋱                          \n",
       " 256.09  255.49  257.29  262.39  266.69     298.59  299.39  299.99  299.89\n",
       " 254.29  255.99  260.79  266.49  269.39     298.39  299.09  299.69  300.49\n",
       " 252.49  255.19  261.29  264.99  264.79     297.49  299.09  298.99  299.99\n",
       " 250.59  253.29  258.49  258.89  255.89     296.49  298.69  298.69  299.09\n",
       " 248.69  250.29  253.39  251.69  248.59  …  296.09  297.59  298.69  299.29\n",
       " 246.79  246.99  247.69  246.79  247.69     296.19  297.09  298.19  299.29\n",
       " 245.09  243.79  242.89  245.69  253.69     295.79  296.69  297.39  297.89\n",
       " 243.59  241.39  239.89  247.89  263.19     294.99  295.79  297.29  297.39\n",
       " 242.39  239.99  238.99  251.59  271.49     294.59  295.19  296.49  297.19\n",
       " 241.69  239.59  239.89  255.39  276.09  …  294.59  295.29  295.69  296.49\n",
       " 241.49  240.29  242.59  258.99  277.39     294.19  295.09  295.69  296.19\n",
       " 241.79  241.69  246.29  262.49  277.29     294.29  294.69  295.19  295.69"
      ]
     },
     "execution_count": 27,
     "metadata": {},
     "output_type": "execute_result"
    }
   ],
   "source": [
    "# plot the first timestep\n",
    "lon = ds.air.dims[1].val.data  # Vector\n",
    "lat = ds.air.dims[2].val.data  # Vector\n",
    "temp = parent(da)  # vector"
   ]
  },
  {
   "cell_type": "code",
   "execution_count": 32,
   "metadata": {},
   "outputs": [
    {
     "data": {
      "image/png": "[encoded data removed]",
      "text/html": [
       "<img width=600 height=450 style='object-fit: contain; height: auto;' src=\"data:image/png;base64, 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\"/>"
      ]
     },
     "execution_count": 32,
     "metadata": {},
     "output_type": "execute_result"
    }
   ],
   "source": [
    "using GLMakie\n",
    "heatmap(lon, lat, temp[1, :, :])"
   ]
  },
  {
   "cell_type": "code",
   "execution_count": 35,
   "metadata": {},
   "outputs": [
    {
     "data": {
      "text/plain": [
       "53×25×1 Array{Float64, 3}:\n",
       "[:, :, 1] =\n",
       " 260.376  262.734  264.769  267.683  …  297.326  297.65   298.129  298.366\n",
       " 260.183  262.794  264.327  267.287     296.869  296.953  297.937  298.386\n",
       " 259.887  262.749  264.062  267.136     296.537  296.629  297.47   298.114\n",
       " 259.483  262.538  263.88   267.073     296.626  296.862  297.259  298.053\n",
       " 259.017  262.159  263.695  266.948     296.387  296.893  297.455  297.943\n",
       " 258.572  261.691  263.494  266.764  …  295.934  296.305  297.113  297.607\n",
       " 258.245  261.246  263.324  266.644     295.617  296.062  296.9    297.539\n",
       " 258.101  260.933  263.247  266.7       295.086  295.847  296.685  297.432\n",
       " 258.155  260.795  263.263  266.897     294.632  295.358  296.232  297.394\n",
       " 258.362  260.802  263.307  267.06      294.26   295.113  296.205  297.233\n",
       " 258.625  260.867  263.295  267.037  …  293.616  294.714  296.16   297.108\n",
       " 258.839  260.896  263.173  266.841     293.276  294.478  295.847  297.375\n",
       " 258.919  260.829  262.956  266.617     292.893  294.489  295.684  297.335\n",
       "   ⋮                                 ⋱                             \n",
       " 260.526  264.603  266.153  268.031     298.577  299.104  299.383  299.594\n",
       " 258.087  263.368  267.242  270.214     298.446  298.789  298.897  299.656\n",
       " 255.691  261.447  266.561  269.183     298.091  298.659  298.679  299.268\n",
       " 253.582  258.987  263.948  265.031     297.81   298.463  298.744  298.672\n",
       " 251.907  256.238  259.97   259.666  …  297.692  297.918  298.563  298.651\n",
       " 250.731  253.527  255.641  255.585     297.603  297.736  298.097  298.693\n",
       " 250.056  251.213  251.99   254.337     297.24   297.695  297.752  297.994\n",
       " 249.86   249.644  249.745  255.839     296.826  297.258  297.796  297.891\n",
       " 250.118  249.103  249.263  258.904     296.666  296.857  297.307  297.818\n",
       " 250.816  249.756  250.608  262.341  …  296.421  296.811  296.86   297.338\n",
       " 251.938  251.586  253.584  265.62      295.877  296.288  296.777  297.281\n",
       " 253.438  254.359  257.716  268.701     295.71   295.816  296.444  297.305"
      ]
     },
     "execution_count": 35,
     "metadata": {},
     "output_type": "execute_result"
    }
   ],
   "source": [
    "using Statistics\n",
    "mean(temp, dims=3)# On what dimensions did we apply the reduction? I can't tell by looking at this line."
   ]
  },
  {
   "cell_type": "markdown",
   "metadata": {},
   "source": [
    "### Analysis with DimensionalData\n",
    "\n",
    "How readable is this code?\n"
   ]
  },
  {
   "cell_type": "code",
   "execution_count": 36,
   "metadata": {},
   "outputs": [
    {
     "data": {
      "image/png": "[encoded data removed]",
      "text/html": [
       "<img width=600 height=450 style='object-fit: contain; height: auto;' src=\"data:image/png;base64, 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\"/>"
      ]
     },
     "execution_count": 36,
     "metadata": {},
     "output_type": "execute_result"
    }
   ],
   "source": [
    "plot(ds.air[Ti=1])"
   ]
  },
  {
   "cell_type": "markdown",
   "metadata": {},
   "source": [
    "Use dimension names instead of axis numbers\n"
   ]
  },
  {
   "cell_type": "code",
   "execution_count": 42,
   "metadata": {},
   "outputs": [
    {
     "data": {
      "image/png": "[encoded data removed]",
      "text/html": [
       "<img width=600 height=450 style='object-fit: contain; height: auto;' src=\"data:image/png;base64, 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\"/>"
      ]
     },
     "execution_count": 42,
     "metadata": {},
     "output_type": "execute_result"
    }
   ],
   "source": [
    "plot((mean(ds.air, dims=Ti)[Ti=1]))"
   ]
  },
  {
   "cell_type": "markdown",
   "metadata": {},
   "source": [
    "---\n",
    "\n",
    "## Extracting data or \"indexing\" \n",
    "\n",
    "DimensionalData supports\n",
    "\n",
    "- label-based indexing using `Selector`s\n",
    "- position-based indexing using `Integer`\n",
    "\n",
    "See the [Documentation about Selectors](https://rafaqz.github.io/DimensionalData.jl/v0.27.0/selectors) for more."
   ]
  },
  {
   "cell_type": "markdown",
   "metadata": {},
   "source": [
    "### Label-based indexing\n",
    "\n",
    "Xarray inherits its label-based indexing rules from pandas; this means great\n",
    "support for dates and times!\n"
   ]
  },
  {
   "cell_type": "code",
   "execution_count": 43,
   "metadata": {},
   "outputs": [
    {
     "data": {
      "text/plain": [
       "RasterStack\u001b[90m with dimensions: \u001b[39m\n",
       "  \u001b[31mX\u001b[39m Mapped{Float32} \u001b[36mFloat32[200.0, 202.5, …, 327.5, 330.0]\u001b[39m ForwardOrdered Regular Points crs: EPSG mappedcrs: EPSG,\n",
       "  \u001b[31mY\u001b[39m Mapped{Float32} \u001b[36mFloat32[75.0, 72.5, …, 17.5, 15.0]\u001b[39m ReverseOrdered Regular Points crs: EPSG mappedcrs: EPSG,\n",
       "  \u001b[31mTi\u001b[39m Sampled{DateTime} \u001b[36mDateTime[2013-01-01T00:04:02.688, …, 2014-12-31T18:03:13.280]\u001b[39m ForwardOrdered Irregular Points\n",
       "\u001b[90mand \u001b[39m1 layer:\n",
       "\u001b[33m  :air\u001b[39m Float64\u001b[90m dims: \u001b[39m\u001b[31mX\u001b[39m, \u001b[31mY\u001b[39m, \u001b[31mTi\u001b[39m (53×25×2920)\n",
       "\n",
       "\u001b[90mwith metadata \u001b[39mMetadata{Rasters.NCDsource}\u001b[90m of \u001b[39mDict{String, Any} with 5 entries:\n",
       "  \"references\"  => \"http://www.esrl.noaa.gov/psd/data/gridded/data.ncep.reanaly…\n",
       "  \"platform\"    => \"Model\"\n",
       "  \"title\"       => \"4x daily NMC reanalysis (1948)\"\n",
       "  \"description\" => \"Data is from NMC initialized reanalysis\\n(4x/day).  These a…\n",
       "  \"Conventions\" => \"COARDS\""
      ]
     },
     "execution_count": 43,
     "metadata": {},
     "output_type": "execute_result"
    }
   ],
   "source": [
    "# here's what ds looks like\n",
    "ds"
   ]
  },
  {
   "cell_type": "code",
   "execution_count": 48,
   "metadata": {},
   "outputs": [
    {
     "data": {
      "text/plain": [
       "\u001b[31mTi\u001b[39m Sampled{DateTime} ForwardOrdered Irregular DimensionalData.Dimensions.LookupArrays.Points\n",
       "\u001b[90mwrapping: \u001b[39m2920-element Vector{DateTime}:\n",
       " 2013-01-01T00:04:02.688\n",
       " 2013-01-01T06:02:18.496\n",
       " 2013-01-01T12:00:34.304\n",
       " 2013-01-01T17:58:50.112\n",
       " 2013-01-01T23:57:05.920\n",
       " 2013-01-02T06:04:06.016\n",
       " 2013-01-02T12:02:21.824\n",
       " 2013-01-02T18:00:37.632\n",
       " 2013-01-02T23:58:53.440\n",
       " 2013-01-03T05:57:09.248\n",
       " 2013-01-03T12:04:09.344\n",
       " 2013-01-03T18:02:25.152\n",
       " 2013-01-04T00:00:40.960\n",
       " ⋮\n",
       " 2014-12-28T23:56:06.528\n",
       " 2014-12-29T06:03:06.624\n",
       " 2014-12-29T12:01:22.432\n",
       " 2014-12-29T17:59:38.240\n",
       " 2014-12-29T23:57:54.048\n",
       " 2014-12-30T05:56:09.856\n",
       " 2014-12-30T12:03:09.952\n",
       " 2014-12-30T18:01:25.760\n",
       " 2014-12-30T23:59:41.568\n",
       " 2014-12-31T05:57:57.376\n",
       " 2014-12-31T11:56:13.184\n",
       " 2014-12-31T18:03:13.280"
      ]
     },
     "execution_count": 48,
     "metadata": {},
     "output_type": "execute_result"
    }
   ],
   "source": [
    "dims(ds, Ti)"
   ]
  },
  {
   "cell_type": "code",
   "execution_count": 50,
   "metadata": {},
   "outputs": [
    {
     "data": {
      "text/plain": [
       "RasterStack\u001b[90m with dimensions: \u001b[39m\n",
       "  \u001b[31mX\u001b[39m Mapped{Float32} \u001b[36mFloat32[200.0, 202.5, …, 327.5, 330.0]\u001b[39m ForwardOrdered Regular Points crs: EPSG mappedcrs: EPSG,\n",
       "  \u001b[31mY\u001b[39m Mapped{Float32} \u001b[36mFloat32[75.0, 72.5, …, 17.5, 15.0]\u001b[39m ReverseOrdered Regular Points crs: EPSG mappedcrs: EPSG,\n",
       "  \u001b[31mTi\u001b[39m Sampled{DateTime} \u001b[36mDateTime[2013-05-01T00:00:37.888, …, 2013-05-31T17:56:45.184]\u001b[39m ForwardOrdered Irregular Points\n",
       "\u001b[90mand \u001b[39m1 layer:\n",
       "\u001b[33m  :air\u001b[39m Float64\u001b[90m dims: \u001b[39m\u001b[31mX\u001b[39m, \u001b[31mY\u001b[39m, \u001b[31mTi\u001b[39m (53×25×124)\n",
       "\n",
       "\u001b[90mwith metadata \u001b[39mMetadata{Rasters.NCDsource}\u001b[90m of \u001b[39mDict{String, Any} with 5 entries:\n",
       "  \"references\"  => \"http://www.esrl.noaa.gov/psd/data/gridded/data.ncep.reanaly…\n",
       "  \"platform\"    => \"Model\"\n",
       "  \"title\"       => \"4x daily NMC reanalysis (1948)\"\n",
       "  \"description\" => \"Data is from NMC initialized reanalysis\\n(4x/day).  These a…\n",
       "  \"Conventions\" => \"COARDS\""
      ]
     },
     "execution_count": 50,
     "metadata": {},
     "output_type": "execute_result"
    }
   ],
   "source": [
    "# pull out data for all of 2013-May\n",
    "ds[Ti=Where(x->yearmonth(x) == (2013, 5))]"
   ]
  },
  {
   "cell_type": "code",
   "execution_count": 52,
   "metadata": {},
   "outputs": [
    {
     "data": {
      "text/plain": [
       "RasterStack\u001b[90m with dimensions: \u001b[39m\n",
       "  \u001b[31mX\u001b[39m Mapped{Float32} \u001b[36mFloat32[200.0, 202.5, …, 327.5, 330.0]\u001b[39m ForwardOrdered Regular Points crs: EPSG mappedcrs: EPSG,\n",
       "  \u001b[31mY\u001b[39m Mapped{Float32} \u001b[36mFloat32[75.0, 72.5, …, 17.5, 15.0]\u001b[39m ReverseOrdered Regular Points crs: EPSG mappedcrs: EPSG,\n",
       "  \u001b[31mTi\u001b[39m Sampled{DateTime} \u001b[36mDateTime[2013-05-01T00:00:37.888, …, 2013-07-31T23:59:28.256]\u001b[39m ForwardOrdered Irregular Points\n",
       "\u001b[90mand \u001b[39m1 layer:\n",
       "\u001b[33m  :air\u001b[39m Float64\u001b[90m dims: \u001b[39m\u001b[31mX\u001b[39m, \u001b[31mY\u001b[39m, \u001b[31mTi\u001b[39m (53×25×369)\n",
       "\n",
       "\u001b[90mwith metadata \u001b[39mMetadata{Rasters.NCDsource}\u001b[90m of \u001b[39mDict{String, Any} with 5 entries:\n",
       "  \"references\"  => \"http://www.esrl.noaa.gov/psd/data/gridded/data.ncep.reanaly…\n",
       "  \"platform\"    => \"Model\"\n",
       "  \"title\"       => \"4x daily NMC reanalysis (1948)\"\n",
       "  \"description\" => \"Data is from NMC initialized reanalysis\\n(4x/day).  These a…\n",
       "  \"Conventions\" => \"COARDS\""
      ]
     },
     "execution_count": 52,
     "metadata": {},
     "output_type": "execute_result"
    }
   ],
   "source": [
    "# demonstrate slicing\n",
    "ds[Ti=Date(2013,5,1)..Date(2013,8,1)]"
   ]
  },
  {
   "cell_type": "code",
   "execution_count": null,
   "metadata": {},
   "outputs": [],
   "source": [
    "ds.sel(time=\"2013\")"
   ]
  },
  {
   "cell_type": "code",
   "execution_count": 53,
   "metadata": {},
   "outputs": [
    {
     "data": {
      "text/plain": [
       "RasterStack\u001b[90m with dimensions: \u001b[39m\n",
       "  \u001b[31mY\u001b[39m Mapped{Float32} \u001b[36mFloat32[75.0, 72.5, …, 17.5, 15.0]\u001b[39m ReverseOrdered Regular Points crs: EPSG mappedcrs: EPSG,\n",
       "  \u001b[31mTi\u001b[39m Sampled{DateTime} \u001b[36mDateTime[2013-01-01T00:04:02.688, …, 2014-12-31T18:03:13.280]\u001b[39m ForwardOrdered Irregular Points\n",
       "\u001b[90mand \u001b[39m1 layer:\n",
       "\u001b[33m  :air\u001b[39m Float64\u001b[90m dims: \u001b[39m\u001b[31mY\u001b[39m, \u001b[31mTi\u001b[39m (25×2920)\n",
       "\n",
       "\u001b[90mwith metadata \u001b[39mMetadata{Rasters.NCDsource}\u001b[90m of \u001b[39mDict{String, Any} with 5 entries:\n",
       "  \"references\"  => \"http://www.esrl.noaa.gov/psd/data/gridded/data.ncep.reanaly…\n",
       "  \"platform\"    => \"Model\"\n",
       "  \"title\"       => \"4x daily NMC reanalysis (1948)\"\n",
       "  \"description\" => \"Data is from NMC initialized reanalysis\\n(4x/day).  These a…\n",
       "  \"Conventions\" => \"COARDS\""
      ]
     },
     "execution_count": 53,
     "metadata": {},
     "output_type": "execute_result"
    }
   ],
   "source": [
    "# demonstrate \"nearest\" indexing\n",
    "ds[X=Near(240.2)]"
   ]
  },
  {
   "cell_type": "code",
   "execution_count": 60,
   "metadata": {},
   "outputs": [
    {
     "data": {
      "text/plain": [
       "RasterStack\u001b[90m with dimensions: \u001b[39m\n",
       "  \u001b[31mX\u001b[39m Mapped{Float32} \u001b[36mFloat32[240.0f0, 235.0f0]\u001b[39m ForwardOrdered Irregular Points crs: EPSG mappedcrs: EPSG,\n",
       "  \u001b[31mY\u001b[39m Mapped{Float32} \u001b[36mFloat32[40.0f0, 50.0f0]\u001b[39m ReverseOrdered Irregular Points crs: EPSG mappedcrs: EPSG,\n",
       "  \u001b[31mTi\u001b[39m Sampled{DateTime} \u001b[36mDateTime[2013-01-01T00:04:02.688, …, 2014-12-31T18:03:13.280]\u001b[39m ForwardOrdered Irregular Points\n",
       "\u001b[90mand \u001b[39m1 layer:\n",
       "\u001b[33m  :air\u001b[39m Float64\u001b[90m dims: \u001b[39m\u001b[31mX\u001b[39m, \u001b[31mY\u001b[39m, \u001b[31mTi\u001b[39m (2×2×2920)\n",
       "\n",
       "\u001b[90mwith metadata \u001b[39mMetadata{Rasters.NCDsource}\u001b[90m of \u001b[39mDict{String, Any} with 5 entries:\n",
       "  \"references\"  => \"http://www.esrl.noaa.gov/psd/data/gridded/data.ncep.reanaly…\n",
       "  \"platform\"    => \"Model\"\n",
       "  \"title\"       => \"4x daily NMC reanalysis (1948)\"\n",
       "  \"description\" => \"Data is from NMC initialized reanalysis\\n(4x/day).  These a…\n",
       "  \"Conventions\" => \"COARDS\""
      ]
     },
     "execution_count": 60,
     "metadata": {},
     "output_type": "execute_result"
    }
   ],
   "source": [
    "# \"nearest indexing at multiple points\"\n",
    "ds[X=Near([240.125, 234]), Y=Near([40.1, 50.1])]"
   ]
  },
  {
   "cell_type": "markdown",
   "metadata": {},
   "source": [
    "### Position-based indexing\n",
    "\n",
    "This is similar to your usual numpy `array[0, 2, 3]` but with the power of named\n",
    "dimensions!\n"
   ]
  },
  {
   "cell_type": "code",
   "execution_count": 61,
   "metadata": {},
   "outputs": [
    {
     "data": {
      "text/plain": [
       "244.70000000000002"
      ]
     },
     "execution_count": 61,
     "metadata": {},
     "output_type": "execute_result"
    }
   ],
   "source": [
    "# pull out time index 0, lat index 2, and lon index 3\n",
    "ds.air[Ti=1, Y=2, X=3]  #  much better than ds.air[0, 2, 3]"
   ]
  },
  {
   "cell_type": "code",
   "execution_count": 62,
   "metadata": {},
   "outputs": [
    {
     "data": {
      "text/plain": [
       "10×25×2920 Raster{Float64,3}\u001b[33m air\u001b[39m\u001b[90m with dimensions: \u001b[39m\n",
       "  \u001b[31mX\u001b[39m Mapped{Float32} \u001b[36mFloat32[200.0, 202.5, …, 220.0, 222.5]\u001b[39m ForwardOrdered Regular Points crs: EPSG mappedcrs: EPSG,\n",
       "  \u001b[31mY\u001b[39m Mapped{Float32} \u001b[36mFloat32[75.0, 72.5, …, 17.5, 15.0]\u001b[39m ReverseOrdered Regular Points crs: EPSG mappedcrs: EPSG,\n",
       "  \u001b[31mTi\u001b[39m Sampled{DateTime} \u001b[36mDateTime[2013-01-01T00:04:02.688, …, 2014-12-31T18:03:13.280]\u001b[39m ForwardOrdered Irregular Points\n",
       "\u001b[90mextent: \u001b[39mExtent(X = (200.0f0, 222.5f0), Y = (15.0f0, 75.0f0), Ti = (DateTime(\"2013-01-01T00:04:02.688\"), DateTime(\"2014-12-31T18:03:13.280\")))\u001b[90mmissingval: \u001b[39mmissing\u001b[90mcrs: \u001b[39mEPSG:4326\n",
       "\u001b[90mmappedcrs: \u001b[39mEPSG:4326\n",
       "\u001b[90mparent:\u001b[39m\n",
       "[:, :, 1]\n",
       "         \u001b[90m75.0\u001b[39m    \u001b[90m72.5\u001b[39m    \u001b[90m70.0\u001b[39m    \u001b[90m67.5\u001b[39m  …   \u001b[90m22.5\u001b[39m    \u001b[90m20.0\u001b[39m    \u001b[90m17.5\u001b[39m    \u001b[90m15.0\u001b[39m\n",
       " \u001b[39m\u001b[90m200.0\u001b[39m  \u001b[39m\u001b[39m241.2   \u001b[39m\u001b[39m243.8   \u001b[39m\u001b[39m250.0   \u001b[39m\u001b[39m266.5     \u001b[39m\u001b[39m297.0   \u001b[39m\u001b[39m296.6   \u001b[39m\u001b[39m295.9   \u001b[39m\u001b[39m296.29\n",
       " \u001b[39m\u001b[90m202.5\u001b[39m  \u001b[39m\u001b[39m242.5   \u001b[39m\u001b[39m244.5   \u001b[39m\u001b[39m249.8   \u001b[39m\u001b[39m267.1     \u001b[39m\u001b[39m296.7   \u001b[39m\u001b[39m296.2   \u001b[39m\u001b[39m296.2   \u001b[39m\u001b[39m296.79\n",
       " \u001b[39m\u001b[90m205.0\u001b[39m  \u001b[39m\u001b[39m243.5   \u001b[39m\u001b[39m244.7   \u001b[39m\u001b[39m248.89  \u001b[39m\u001b[39m267.1     \u001b[39m\u001b[39m296.1   \u001b[39m\u001b[39m296.4   \u001b[39m\u001b[39m296.79  \u001b[39m\u001b[39m297.1\n",
       " \u001b[39m\u001b[90m207.5\u001b[39m  \u001b[39m\u001b[39m244.0   \u001b[39m\u001b[39m244.2   \u001b[39m\u001b[39m247.5   \u001b[39m\u001b[39m266.7     \u001b[39m\u001b[39m295.9   \u001b[39m\u001b[39m296.5   \u001b[39m\u001b[39m296.5   \u001b[39m\u001b[39m297.0\n",
       " \u001b[39m\u001b[90m210.0\u001b[39m  \u001b[39m\u001b[39m244.1   \u001b[39m\u001b[39m243.39  \u001b[39m\u001b[39m246.0   \u001b[39m\u001b[39m265.9  …  \u001b[39m\u001b[39m294.9   \u001b[39m\u001b[39m295.5   \u001b[39m\u001b[39m296.1   \u001b[39m\u001b[39m296.9\n",
       " \u001b[39m\u001b[90m212.5\u001b[39m  \u001b[39m\u001b[39m243.89  \u001b[39m\u001b[39m242.39  \u001b[39m\u001b[39m244.39  \u001b[39m\u001b[39m264.7     \u001b[39m\u001b[39m293.4   \u001b[39m\u001b[39m294.0   \u001b[39m\u001b[39m295.1   \u001b[39m\u001b[39m296.4\n",
       " \u001b[39m\u001b[90m215.0\u001b[39m  \u001b[39m\u001b[39m243.6   \u001b[39m\u001b[39m241.7   \u001b[39m\u001b[39m243.1   \u001b[39m\u001b[39m263.1     \u001b[39m\u001b[39m292.79  \u001b[39m\u001b[39m293.6   \u001b[39m\u001b[39m294.6   \u001b[39m\u001b[39m296.0\n",
       " \u001b[39m\u001b[90m217.5\u001b[39m  \u001b[39m\u001b[39m243.1   \u001b[39m\u001b[39m241.3   \u001b[39m\u001b[39m242.39  \u001b[39m\u001b[39m261.6     \u001b[39m\u001b[39m292.4   \u001b[39m\u001b[39m293.4   \u001b[39m\u001b[39m294.4   \u001b[39m\u001b[39m295.7\n",
       " \u001b[39m\u001b[90m220.0\u001b[39m  \u001b[39m\u001b[39m242.5   \u001b[39m\u001b[39m241.1   \u001b[39m\u001b[39m242.2   \u001b[39m\u001b[39m260.6     \u001b[39m\u001b[39m292.2   \u001b[39m\u001b[39m292.79  \u001b[39m\u001b[39m293.79  \u001b[39m\u001b[39m295.5\n",
       " \u001b[39m\u001b[90m222.5\u001b[39m  \u001b[39m\u001b[39m241.89  \u001b[39m\u001b[39m241.1   \u001b[39m\u001b[39m242.5   \u001b[39m\u001b[39m260.1  …  \u001b[39m\u001b[39m292.2   \u001b[39m\u001b[39m292.9   \u001b[39m\u001b[39m293.79  \u001b[39m\u001b[39m295.4\n",
       "\u001b[90m[and 2919 more slices...]\u001b[39m"
      ]
     },
     "execution_count": 62,
     "metadata": {},
     "output_type": "execute_result"
    },
    {
     "name": "stdout",
     "output_type": "stream",
     "text": [
      "\n",
      "\n"
     ]
    }
   ],
   "source": [
    "# demonstrate slicing\n",
    "ds.air[X=1:10]"
   ]
  },
  {
   "cell_type": "markdown",
   "metadata": {},
   "source": [
    "---\n",
    "\n",
    "## Concepts for computation\n",
    "\n",
    "Consider calculating the *mean air temperature per unit surface area* for this dataset. Because latitude and longitude correspond to spherical coordinates for Earth's surface, each 2.5x2.5 degree grid cell actually has a different surface area as you move away from the equator! This is because *latitudinal length* is fixed ($ \\delta Lat = R \\delta \\phi  $), but *longitudinal length varies with latitude* ($ \\delta Lon = R \\delta \\lambda \\cos(\\phi) $)\n",
    "\n",
    "So the [area element for lat-lon coordinates](https://en.wikipedia.org/wiki/Spherical_coordinate_system#Integration_and_differentiation_in_spherical_coordinates) is\n",
    "\n",
    "\n",
    "$$ \\delta A = R^2 \\delta\\phi \\, \\delta\\lambda \\cos(\\phi) $$\n",
    "\n",
    "where $\\phi$ is latitude, $\\delta \\phi$ is the spacing of the points in latitude, $\\delta \\lambda$ is the spacing of the points in longitude, and $R$ is Earth's radius. (In this formula, $\\phi$ and $\\lambda$ are measured in radians)"
   ]
  },
  {
   "cell_type": "code",
   "execution_count": null,
   "metadata": {},
   "outputs": [],
   "source": [
    "# Earth's average radius in meters\n",
    "R = 6.371e6\n",
    "\n",
    "# Coordinate spacing for this dataset is 2.5 x 2.5 degrees\n",
    "dϕ = np.deg2rad(2.5)\n",
    "dλ = np.deg2rad(2.5)\n",
    "\n",
    "dlat = R * dϕ * xr.ones_like(ds.air.lon)\n",
    "dlon = R * dλ * np.cos(np.deg2rad(ds.air.lat))\n",
    "dlon.name = \"dlon\"\n",
    "dlat.name = \"dlat\""
   ]
  },
  {
   "cell_type": "markdown",
   "metadata": {},
   "source": [
    "There are two concepts here:\n",
    "1. you can call functions like `np.cos` and `np.deg2rad` ([\"numpy ufuncs\"](https://numpy.org/doc/stable/reference/ufuncs.html)) on Xarray objects and receive an Xarray object back.\n",
    "2. We used [ones_like](https://docs.xarray.dev/en/stable/generated/xarray.ones_like.html) to create a DataArray that looks like `ds.air.lon` in all respects, except that the data are all ones"
   ]
  },
  {
   "cell_type": "code",
   "execution_count": null,
   "metadata": {},
   "outputs": [],
   "source": [
    "# returns an xarray DataArray!\n",
    "np.cos(np.deg2rad(ds.lat))"
   ]
  },
  {
   "cell_type": "code",
   "execution_count": null,
   "metadata": {},
   "outputs": [],
   "source": [
    "# cell latitude length is constant with longitude\n",
    "dlat"
   ]
  },
  {
   "cell_type": "code",
   "execution_count": null,
   "metadata": {},
   "outputs": [],
   "source": [
    "# cell longitude length changes with latitude\n",
    "dlon"
   ]
  },
  {
   "cell_type": "markdown",
   "metadata": {},
   "source": [
    "### Broadcasting: expanding data\n",
    "\n",
    "Our longitude and latitude length DataArrays are both 1D with different dimension names. If we multiple these DataArrays together the dimensionality is expanded to 2D by _broadcasting_:"
   ]
  },
  {
   "cell_type": "code",
   "execution_count": null,
   "metadata": {},
   "outputs": [],
   "source": [
    "cell_area = dlon * dlat\n",
    "cell_area"
   ]
  },
  {
   "cell_type": "markdown",
   "metadata": {},
   "source": [
    "The result has two dimensions because xarray realizes that dimensions `lon` and\n",
    "`lat` are different so it automatically \"broadcasts\" to get a 2D result. See the\n",
    "last row in this image from _Jake VanderPlas Python Data Science Handbook_\n",
    "\n",
    "<img src=\"https://jakevdp.github.io/PythonDataScienceHandbook/figures/02.05-broadcasting.png\" align=\"center\">\n",
    "\n",
    "Because xarray knows about dimension names we avoid having to create unnecessary\n",
    "size-1 dimensions using `np.newaxis` or `.reshape`. For more, see the [user guide](https://docs.xarray.dev/en/stable/user-guide/computation.html#broadcasting-by-dimension-name)\n"
   ]
  },
  {
   "cell_type": "markdown",
   "metadata": {},
   "source": [
    "---\n",
    "\n",
    "### Alignment: putting data on the same grid\n",
    "\n",
    "When doing arithmetic operations xarray automatically \"aligns\" i.e. puts the\n",
    "data on the same grid. In this case `cell_area` and `ds.air` are at the same\n",
    "lat, lon points we end up with a result with the same shape (25x53):\n"
   ]
  },
  {
   "cell_type": "code",
   "execution_count": null,
   "metadata": {},
   "outputs": [],
   "source": [
    "ds.air.isel(time=1) / cell_area"
   ]
  },
  {
   "cell_type": "markdown",
   "metadata": {},
   "source": [
    "Now lets make `cell_area` unaligned i.e. change the coordinate labels\n"
   ]
  },
  {
   "cell_type": "code",
   "execution_count": null,
   "metadata": {},
   "outputs": [],
   "source": [
    "# make a copy of cell_area\n",
    "# then add 1e-5 degrees to latitude\n",
    "cell_area_bad = cell_area.copy(deep=True)\n",
    "cell_area_bad[\"lat\"] = cell_area.lat + 1e-5  # latitudes are off by 1e-5 degrees!\n",
    "cell_area_bad"
   ]
  },
  {
   "cell_type": "code",
   "execution_count": null,
   "metadata": {},
   "outputs": [],
   "source": [
    "cell_area_bad * ds.air.isel(time=1)"
   ]
  },
  {
   "cell_type": "markdown",
   "metadata": {},
   "source": [
    "The result is an empty array with no latitude coordinates because none of them were aligned!\n",
    "\n",
    "```{tip}\n",
    "If you notice extra NaNs or missing points after xarray computation, it\n",
    "means that your xarray coordinates were not aligned _exactly_.\n",
    "```\n",
    "\n",
    "To make sure variables are aligned as you think they are, do the following:"
   ]
  },
  {
   "cell_type": "code",
   "execution_count": null,
   "metadata": {
    "tags": [
     "raises-exception"
    ]
   },
   "outputs": [],
   "source": [
    "xr.align(cell_area_bad, ds.air, join=\"exact\")"
   ]
  },
  {
   "cell_type": "markdown",
   "metadata": {},
   "source": [
    "The above statement raises an error since the two are not aligned."
   ]
  },
  {
   "cell_type": "markdown",
   "metadata": {},
   "source": [
    "```{seealso}\n",
    "For more, see\n",
    "[the Xarray documentation](https://docs.xarray.dev/en/stable/user-guide/computation.html#automatic-alignment). [This tutorial notebook](https://tutorial.xarray.dev/fundamentals/02.3_aligning_data_objects.html) also covers alignment and broadcasting (*highly recommended*)\n",
    "```"
   ]
  },
  {
   "cell_type": "markdown",
   "metadata": {},
   "source": [
    "---\n",
    "\n",
    "## High level computation \n",
    "\n",
    "(`groupby`, `resample`, `rolling`, `coarsen`, `weighted`)\n",
    "\n",
    "Xarray has some very useful high level objects that let you do common\n",
    "computations:\n",
    "\n",
    "1. `groupby` :\n",
    "   [Bin data in to groups and reduce](https://docs.xarray.dev/en/stable/groupby.html)\n",
    "1. `resample` :\n",
    "   [Groupby specialized for time axes. Either downsample or upsample your data.](https://docs.xarray.dev/en/stable/user-guide/time-series.html#resampling-and-grouped-operations)\n",
    "1. `rolling` :\n",
    "   [Operate on rolling windows of your data e.g. running mean](https://docs.xarray.dev/en/stable/user-guide/computation.html#rolling-window-operations)\n",
    "1. `coarsen` :\n",
    "   [Downsample your data](https://docs.xarray.dev/en/stable/user-guide/computation.html#coarsen-large-arrays)\n",
    "1. `weighted` :\n",
    "   [Weight your data before reducing](https://docs.xarray.dev/en/stable/user-guide/computation.html#weighted-array-reductions)\n",
    "\n",
    "\n",
    "Below we quickly demonstrate these patterns. See the user guide links above and [the tutorial](https://tutorial.xarray.dev/intermediate/01-high-level-computation-patterns.html) for more."
   ]
  },
  {
   "cell_type": "markdown",
   "metadata": {},
   "source": [
    "### groupby\n"
   ]
  },
  {
   "cell_type": "code",
   "execution_count": null,
   "metadata": {},
   "outputs": [],
   "source": [
    "# here's ds\n",
    "ds"
   ]
  },
  {
   "cell_type": "code",
   "execution_count": null,
   "metadata": {},
   "outputs": [],
   "source": [
    "# seasonal groups\n",
    "ds.groupby(\"time.season\")"
   ]
  },
  {
   "cell_type": "code",
   "execution_count": null,
   "metadata": {},
   "outputs": [],
   "source": [
    "# make a seasonal mean\n",
    "seasonal_mean = ds.groupby(\"time.season\").mean()\n",
    "seasonal_mean"
   ]
  },
  {
   "cell_type": "markdown",
   "metadata": {},
   "source": [
    "The seasons are out of order (they are alphabetically sorted). This is a common\n",
    "annoyance. The solution is to use `.sel` to change the order of labels\n"
   ]
  },
  {
   "cell_type": "code",
   "execution_count": null,
   "metadata": {},
   "outputs": [],
   "source": [
    "seasonal_mean = seasonal_mean.sel(season=[\"DJF\", \"MAM\", \"JJA\", \"SON\"])\n",
    "seasonal_mean"
   ]
  },
  {
   "cell_type": "code",
   "execution_count": null,
   "metadata": {},
   "outputs": [],
   "source": [
    "seasonal_mean.air.plot(col=\"season\")"
   ]
  },
  {
   "cell_type": "markdown",
   "metadata": {},
   "source": [
    "### resample\n"
   ]
  },
  {
   "cell_type": "code",
   "execution_count": null,
   "metadata": {},
   "outputs": [],
   "source": [
    "# resample to monthly frequency\n",
    "ds.resample(time=\"M\").mean()"
   ]
  },
  {
   "cell_type": "markdown",
   "metadata": {},
   "source": [
    "### weighted\n"
   ]
  },
  {
   "cell_type": "code",
   "execution_count": null,
   "metadata": {},
   "outputs": [],
   "source": [
    "# weight by cell_area and take mean over (time, lon)\n",
    "ds.weighted(cell_area).mean([\"lon\", \"time\"]).air.plot(y=\"lat\");"
   ]
  },
  {
   "cell_type": "markdown",
   "metadata": {},
   "source": [
    "---\n",
    "\n",
    "## Visualization\n",
    "\n",
    "(`.plot`)\n",
    "\n",
    "\n",
    "We have seen very simple plots earlier. Xarray also lets you easily visualize\n",
    "3D and 4D datasets by presenting multiple facets (or panels or subplots) showing\n",
    "variations across rows and/or columns."
   ]
  },
  {
   "cell_type": "code",
   "execution_count": null,
   "metadata": {},
   "outputs": [],
   "source": [
    "# facet the seasonal_mean\n",
    "seasonal_mean.air.plot(col=\"season\", col_wrap=2);"
   ]
  },
  {
   "cell_type": "code",
   "execution_count": null,
   "metadata": {},
   "outputs": [],
   "source": [
    "# contours\n",
    "seasonal_mean.air.plot.contour(col=\"season\", levels=20, add_colorbar=True);"
   ]
  },
  {
   "cell_type": "code",
   "execution_count": null,
   "metadata": {},
   "outputs": [],
   "source": [
    "# line plots too? wut\n",
    "seasonal_mean.air.mean(\"lon\").plot.line(hue=\"season\", y=\"lat\");"
   ]
  },
  {
   "cell_type": "markdown",
   "metadata": {},
   "source": [
    "For more see the [user guide](https://docs.xarray.dev/en/stable/plotting.html), the [gallery](https://docs.xarray.dev/en/stable/examples/visualization_gallery.html), and [the tutorial material](https://tutorial.xarray.dev/fundamentals/04.0_plotting.html)."
   ]
  },
  {
   "cell_type": "markdown",
   "metadata": {},
   "source": [
    "---\n",
    "\n",
    "## Reading and writing files\n",
    "\n",
    "Xarray supports many disk formats. Below is a small example using netCDF. For\n",
    "more see the [documentation](https://docs.xarray.dev/en/stable/user-guide/io.html)\n"
   ]
  },
  {
   "cell_type": "code",
   "execution_count": null,
   "metadata": {},
   "outputs": [],
   "source": [
    "# write to netCDF\n",
    "ds.to_netcdf(\"my-example-dataset.nc\")"
   ]
  },
  {
   "cell_type": "markdown",
   "metadata": {},
   "source": [
    "```{note}\n",
    "To avoid the `SerializationWarning` you can assign a _FillValue for any NaNs in 'air' array by adding the keyword argument encoding=dict(air={_FillValue=-9999})\n",
    "```"
   ]
  },
  {
   "cell_type": "code",
   "execution_count": null,
   "metadata": {},
   "outputs": [],
   "source": [
    "# read from disk\n",
    "fromdisk = xr.open_dataset(\"my-example-dataset.nc\")\n",
    "fromdisk"
   ]
  },
  {
   "cell_type": "code",
   "execution_count": null,
   "metadata": {},
   "outputs": [],
   "source": [
    "# check that the two are identical\n",
    "ds.identical(fromdisk)"
   ]
  },
  {
   "cell_type": "markdown",
   "metadata": {},
   "source": [
    "```{tip}\n",
    "A common use case to read datasets that are a collection of many netCDF\n",
    "files. See the [documentation](https://docs.xarray.dev/en/stable/user-guide/io.html#reading-multi-file-datasets) for how\n",
    "to handle that.\n",
    "```\n",
    "\n",
    "Finally to read other file formats, you might find yourself reading in the data using a different library and then creating a DataArray([docs](https://docs.xarray.dev/en/stable/user-guide/data-structures.html#creating-a-dataarray), [tutorial](https://tutorial.xarray.dev/fundamentals/01.1_creating_data_structures.html)) from scratch. For example, you might use `h5py` to open an HDF5 file and then create a Dataset from that.\n",
    "For MATLAB files you might use `scipy.io.loadmat` or `h5py` depending on the version of MATLAB file you're opening and then construct a Dataset."
   ]
  },
  {
   "cell_type": "markdown",
   "metadata": {},
   "source": [
    "---\n",
    "\n",
    "## The scientific python ecosystem\n",
    "\n",
    "Xarray ties in to the larger scientific python ecosystem and in turn many\n",
    "packages build on top of xarray. A long list of such packages is here:\n",
    "<https://docs.xarray.dev/en/stable/related-projects.html>.\n",
    "\n",
    "Now we will demonstrate some cool features.\n"
   ]
  },
  {
   "cell_type": "markdown",
   "metadata": {},
   "source": [
    "### Pandas: tabular data structures\n",
    "\n",
    "You can easily [convert](https://docs.xarray.dev/en/stable/pandas.html) between xarray and [pandas](https://pandas.pydata.org/) structures. This allows you to conveniently use the extensive pandas \n",
    "ecosystem of packages (like [seaborn](https://seaborn.pydata.org/)) for your work.\n"
   ]
  },
  {
   "cell_type": "code",
   "execution_count": null,
   "metadata": {},
   "outputs": [],
   "source": [
    "# convert to pandas dataframe\n",
    "df = ds.isel(time=slice(10)).to_dataframe()\n",
    "df"
   ]
  },
  {
   "cell_type": "code",
   "execution_count": null,
   "metadata": {},
   "outputs": [],
   "source": [
    "# convert dataframe to xarray\n",
    "df.to_xarray()"
   ]
  },
  {
   "cell_type": "markdown",
   "metadata": {},
   "source": [
    "### Alternative array types\n",
    "\n",
    "This notebook has focused on Numpy arrays. Xarray can wrap [other array](https://docs.xarray.dev/en/stable/user-guide/duckarrays.html) types! For example:\n",
    "\n",
    "<img src=\"https://docs.dask.org/en/stable/_images/dask_horizontal.svg\" width=\"20%\"> [distributed parallel arrays](https://docs.dask.org/en/latest/array.html) & [Xarray user guide on Dask](https://docs.xarray.dev/en/stable/user-guide/dask.html)\n",
    "\n",
    "<img src=\"https://raw.githubusercontent.com/pydata/sparse/master/docs/logo.svg\" width=\"15%\"> **pydata/sparse** : [sparse arrays](https://sparse.pydata.org)\n",
    "\n",
    "<img src=\"https://raw.githubusercontent.com/cupy/cupy.dev/master/images/cupy_logo.png\" width=\"22%\"> [GPU arrays](https://cupy.dev) & [cupy-xarray](https://cupy-xarray.readthedocs.io/)\n",
    "\n",
    "<img src=\"https://pint.readthedocs.io/en/stable/_static/logo-full.jpg\" width=\"10%\"> **pint** : [unit-aware arrays](https://pint.readthedocs.io) & [pint-xarray](https://github.com/xarray-contrib/pint-xarray)\n"
   ]
  },
  {
   "cell_type": "markdown",
   "metadata": {},
   "source": [
    "### Dask\n",
    "\n",
    "Dask cuts up NumPy arrays into blocks and parallelizes your analysis code across\n",
    "these blocks\n",
    "\n",
    "<img src=\"https://raw.githubusercontent.com/dask/dask/main/docs/source/images/dask-array.svg\" style=\"width:45%\">\n"
   ]
  },
  {
   "cell_type": "code",
   "execution_count": null,
   "metadata": {},
   "outputs": [],
   "source": [
    "# demonstrate dask dataset\n",
    "dasky = xr.tutorial.open_dataset(\n",
    "    \"air_temperature\",\n",
    "    chunks={\"time\": 10},  # 10 time steps in each block\n",
    ")\n",
    "\n",
    "dasky.air"
   ]
  },
  {
   "cell_type": "markdown",
   "metadata": {},
   "source": [
    "All computations with dask-backed xarray objects are lazy, allowing you to build\n",
    "up a complicated chain of analysis steps quickly\n"
   ]
  },
  {
   "cell_type": "code",
   "execution_count": null,
   "metadata": {},
   "outputs": [],
   "source": [
    "# demonstrate lazy mean\n",
    "dasky.air.mean(\"lat\")"
   ]
  },
  {
   "cell_type": "markdown",
   "metadata": {},
   "source": [
    "To get concrete values, call `.compute` or `.load`\n"
   ]
  },
  {
   "cell_type": "code",
   "execution_count": null,
   "metadata": {},
   "outputs": [],
   "source": [
    "# \"compute\" the mean\n",
    "dasky.air.mean(\"lat\").compute()"
   ]
  },
  {
   "cell_type": "markdown",
   "metadata": {},
   "source": [
    "### HoloViz\n",
    "\n",
    "Quickly generate interactive plots from your data!\n",
    "\n",
    "The [`hvplot` package](https://hvplot.holoviz.org/user_guide/Gridded_Data.html) attaches itself to all\n",
    "xarray objects under the `.hvplot` namespace. So instead of using `.plot` use `.hvplot`"
   ]
  },
  {
   "cell_type": "code",
   "execution_count": null,
   "metadata": {},
   "outputs": [],
   "source": [
    "import hvplot.xarray\n",
    "\n",
    "ds.air.hvplot(groupby=\"time\", clim=(270, 300), widget_location='bottom')"
   ]
  },
  {
   "cell_type": "markdown",
   "metadata": {},
   "source": [
    "```{note}\n",
    "The time slider will only work if you're executing the notebook, rather than viewing the website\n",
    "```"
   ]
  },
  {
   "cell_type": "markdown",
   "metadata": {},
   "source": [
    "### cf_xarray \n",
    "\n",
    "[cf_xarray](https://cf-xarray.readthedocs.io/) is a project that tries to\n",
    "let you make use of other CF attributes that xarray ignores. It attaches itself\n",
    "to all xarray objects under the `.cf` namespace.\n",
    "\n",
    "Where xarray allows you to specify dimension names for analysis, `cf_xarray`\n",
    "lets you specify logical names like `\"latitude\"` or `\"longitude\"` instead as\n",
    "long as the appropriate CF attributes are set.\n",
    "\n",
    "For example, the `\"longitude\"` dimension in different files might be labelled as: (lon, LON, long, x…), but cf_xarray let's you always refer to the logical name `\"longitude\"` in your code:"
   ]
  },
  {
   "cell_type": "code",
   "execution_count": null,
   "metadata": {},
   "outputs": [],
   "source": [
    "import cf_xarray"
   ]
  },
  {
   "cell_type": "code",
   "execution_count": null,
   "metadata": {},
   "outputs": [],
   "source": [
    "# describe cf attributes in dataset\n",
    "ds.air.cf"
   ]
  },
  {
   "cell_type": "markdown",
   "metadata": {},
   "source": [
    "The following `mean` operation will work with any dataset that has appropriate\n",
    "attributes set that allow detection of the \"latitude\" variable (e.g.\n",
    "`units: \"degress_north\"` or `standard_name: \"latitude\"`)\n"
   ]
  },
  {
   "cell_type": "code",
   "execution_count": null,
   "metadata": {},
   "outputs": [],
   "source": [
    "# demonstrate equivalent of .mean(\"lat\")\n",
    "ds.air.cf.mean(\"latitude\")"
   ]
  },
  {
   "cell_type": "code",
   "execution_count": null,
   "metadata": {},
   "outputs": [],
   "source": [
    "# demonstrate indexing\n",
    "ds.air.cf.sel(longitude=242.5, method=\"nearest\")"
   ]
  },
  {
   "cell_type": "markdown",
   "metadata": {},
   "source": [
    "### Other cool packages\n",
    "\n",
    "- [xgcm](https://xgcm.readthedocs.io/) : grid-aware operations with xarray\n",
    "  objects\n",
    "- [xrft](https://xrft.readthedocs.io/) : fourier transforms with xarray\n",
    "- [xclim](https://xclim.readthedocs.io/) : calculating climate indices with\n",
    "  xarray objects\n",
    "- [intake-xarray](https://intake-xarray.readthedocs.io/) : forget about file\n",
    "  paths\n",
    "- [rioxarray](https://corteva.github.io/rioxarray/stable/index.html) : raster\n",
    "  files and xarray\n",
    "- [xesmf](https://xesmf.readthedocs.io/) : regrid using ESMF\n",
    "- [MetPy](https://unidata.github.io/MetPy/latest/index.html) : tools for working\n",
    "  with weather data\n",
    "\n",
    "Check the Xarray [Ecosystem](https://docs.xarray.dev/en/stable/ecosystem.html) page and [this tutorial](https://tutorial.xarray.dev/intermediate/xarray_ecosystem.html) for even more packages and demonstrations."
   ]
  },
  {
   "cell_type": "markdown",
   "metadata": {},
   "source": [
    "## Next\n",
    "\n",
    "1. Read the [tutorial](https://tutorial.xarray.dev) material and [user guide](https://docs.xarray.dev/en/stable/user-guide/index.html)\n",
    "1. See the description of [common terms](https://docs.xarray.dev/en/stable/terminology.html) used in the xarray documentation: \n",
    "1. Answers to common questions on \"how to do X\" with Xarray are [here](https://docs.xarray.dev/en/stable/howdoi.html)\n",
    "1. Ryan Abernathey has a book on data analysis with a [chapter on Xarray](https://earth-env-data-science.github.io/lectures/xarray/xarray_intro.html)\n",
    "1. [Project Pythia](https://projectpythia.org/) has [foundational](https://foundations.projectpythia.org/landing-page.html) and more [advanced](https://cookbooks.projectpythia.org/) material on Xarray. Pythia also aggregates other [Python learning resources](https://projectpythia.org/resource-gallery.html).\n",
    "1. The [Xarray Github Discussions](https://github.com/pydata/xarray/discussions) and [Pangeo Discourse](https://discourse.pangeo.io/) are good places to ask questions.\n",
    "1. Tell your friends! Tweet!\n",
    "\n",
    "\n",
    "## Welcome!\n",
    "\n",
    "Xarray is an open-source project and gladly welcomes all kinds of contributions. This could include reporting bugs, discussing new enhancements, contributing code, helping answer user questions, contributing documentation (even small edits like fixing spelling mistakes or rewording to make the text clearer). Welcome!"
   ]
  }
 ],
 "metadata": {
  "@webio": {
   "lastCommId": null,
   "lastKernelId": null
  },
  "kernelspec": {
   "display_name": "Julia 1.10.2",
   "language": "julia",
   "name": "julia-1.10"
  },
  "language_info": {
   "file_extension": ".jl",
   "mimetype": "application/julia",
   "name": "julia",
   "version": "1.10.2"
  },
  "toc": {
   "base_numbering": 1,
   "nav_menu": {},
   "number_sections": true,
   "sideBar": true,
   "skip_h1_title": false,
   "title_cell": "Table of Contents",
   "title_sidebar": "Contents",
   "toc_cell": true,
   "toc_position": {},
   "toc_section_display": true,
   "toc_window_display": true
  }
 },
 "nbformat": 4,
 "nbformat_minor": 4
}
