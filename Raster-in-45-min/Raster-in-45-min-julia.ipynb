{
 "cells": [
  {
   "cell_type": "markdown",
   "metadata": {},
   "source": [
    "\n",
    "\n",
    "# Raster analysis in Julia in 45 minutes\n",
    "\n",
    "This tutorial is based on the xarray in 45 minutes \n",
    "https://tutorial.xarray.dev/overview/xarray-in-45-min.html\n",
    "\n",
    "In this lesson, we discuss cover the basics of Raster analysis data structures. By the\n",
    "end of the lesson, we will be able to:\n",
    "\n",
    "- Understand the basic data structures in Julia\n",
    "- Inspect `DimArray` and `DimStack` objects.\n",
    "- Read and write netCDF files using Rasters.jl.\n",
    "- Understand that there are many packages that build on top of xarray\n",
    "\n",
    "\n",
    "We'll start by reviewing the various components of the Xarray data model, represented here visually:\n",
    "\n",
    "<img src=\"https://docs.xarray.dev/en/stable/_images/dataset-diagram.png\" align=\"center\" width=\"50%\">"
   ]
  },
  {
   "cell_type": "markdown",
   "metadata": {},
   "source": [
    "As example data we use the data in the xarray-data repository\n",
    "\n",
    "Here we'll use `air temperature` from the [National Center for Environmental Prediction](https://www.weather.gov/ncep/). Xarray objects have convenient HTML representations to give an overview of what we're working with:"
   ]
  },
  {
   "cell_type": "markdown",
   "metadata": {},
   "source": [
    "Before we can start we need to activate the current environment"
   ]
  },
  {
   "cell_type": "code",
   "execution_count": 1,
   "metadata": {},
   "outputs": [
    {
     "name": "stderr",
     "output_type": "stream",
     "text": [
      "\u001b[32m\u001b[1m  Activating\u001b[22m\u001b[39m project at `~/Documents/JuliaGeoTutorials`\n"
     ]
    }
   ],
   "source": [
    "]activate ."
   ]
  },
  {
   "cell_type": "code",
   "execution_count": 2,
   "metadata": {},
   "outputs": [
    {
     "data": {
      "text/plain": [
       "\u001b[90m╭────────────────────────╮\u001b[39m\n",
       "\u001b[90m│ \u001b[39m\u001b[38;5;209m53\u001b[39m×\u001b[38;5;32m25\u001b[39m×\u001b[38;5;81m2920\u001b[39m RasterStack\u001b[90m │\u001b[39m\n",
       "\u001b[90m├────────────────────────┴─────────────────────────────────────────────── dims ┐\u001b[39m\n",
       "  \u001b[38;5;209m↓ \u001b[39m\u001b[38;5;209mX \u001b[39m Mapped{Float32} \u001b[38;5;209m[200.0, 202.5, …, 327.5, 330.0]\u001b[39m \u001b[38;5;244mForwardOrdered\u001b[39m \u001b[38;5;244mRegular\u001b[39m \u001b[38;5;244mPoints\u001b[39m,\n",
       "  \u001b[38;5;32m→ \u001b[39m\u001b[38;5;32mY \u001b[39m Mapped{Float32} \u001b[38;5;32m[75.0, 72.5, …, 17.5, 15.0]\u001b[39m \u001b[38;5;244mReverseOrdered\u001b[39m \u001b[38;5;244mRegular\u001b[39m \u001b[38;5;244mPoints\u001b[39m,\n",
       "  \u001b[38;5;81m↗ \u001b[39m\u001b[38;5;81mTi\u001b[39m Sampled{DateTime} \u001b[38;5;81m[2013-01-01T00:00:00, …, 2014-12-31T18:00:00]\u001b[39m \u001b[38;5;244mForwardOrdered\u001b[39m \u001b[38;5;244mIrregular\u001b[39m \u001b[38;5;244mPoints\u001b[39m\n",
       "\u001b[90m├────────────────────────────────────────────────────────────────────── layers ┤\u001b[39m\n",
       "\u001b[38;5;37m  :air\u001b[39m\u001b[90m eltype: \u001b[39mFloat64\u001b[90m dims: \u001b[39m\u001b[38;5;209mX\u001b[39m, \u001b[38;5;32mY\u001b[39m, \u001b[38;5;81mTi\u001b[39m\u001b[90m size: \u001b[39m\u001b[38;5;209m53\u001b[39m×\u001b[38;5;32m25\u001b[39m×\u001b[38;5;81m2920\u001b[39m\n",
       "\u001b[90m├──────────────────────────────────────────────────────────────────── metadata ┤\u001b[39m\n",
       "  Metadata{Rasters.NCDsource}\u001b[90m of \u001b[39mDict{String, Any} with 5 entries:\n",
       "  \"references\"  => \"http://www.esrl.noaa.gov/psd/data/gridded/data.ncep.reanaly…\n",
       "  \"platform\"    => \"Model\"\n",
       "  \"title\"       => \"4x daily NMC reanalysis (1948)\"\n",
       "  \"description\" => \"Data is from NMC initialized reanalysis\\n(4x/day).  These a…\n",
       "  \"Conventions\" => \"COARDS\"\n",
       "\u001b[90m├────────────────────────────────────────────────────────────────────── raster ┤\u001b[39m\n",
       "\u001b[90m  extent: \u001b[39mExtent(X = (200.0f0, 330.0f0), Y = (15.0f0, 75.0f0), Ti = (DateTime(\"2013-01-01T00:00:00\"), DateTime(\"2014-12-31T18:00:00\")))\n",
       "\u001b[90m  missingval: \u001b[39mmissing\n",
       "\u001b[90m  crs: \u001b[39mEPSG:4326\n",
       "\u001b[90m  mappedcrs: \u001b[39mEPSG:4326\n",
       "\u001b[90m└──────────────────────────────────────────────────────────────────────────────┘\u001b[39m"
      ]
     },
     "execution_count": 2,
     "metadata": {},
     "output_type": "execute_result"
    }
   ],
   "source": [
    "using Rasters\n",
    "using NCDatasets\n",
    "\n",
    "path = \"data/air_temperature.nc\"\n",
    "# First we download the data locally if needed.\n",
    "if !isfile(path)\n",
    "    download(\"https://github.com/pydata/xarray-data/blob/master/air_temperature.nc\", \"air_temperature.nc\")\n",
    "end\n",
    "\n",
    "# Now we can open the data as a RasterStack\n",
    "ds = RasterStack(path)"
   ]
  },
  {
   "cell_type": "markdown",
   "metadata": {},
   "source": []
  },
  {
   "cell_type": "markdown",
   "metadata": {},
   "source": [
    "## What's in a DimStack? \n",
    "\n",
    "*Many DimArrays!* \n",
    "\n",
    "DimStacks are dictionary-like containers of \"DimArray\"s. They are a mapping of\n",
    "variable name to DimArray.\n",
    "The RasterStack is a special case of a DimStack with some geospatial information.\n",
    "The DimArray s in the DimStack can share dimensions butdon't have all the same dimensionality.\n",
    "If layers share a dimension name, this dimension is only stored once for the whole DimStack."
   ]
  },
  {
   "cell_type": "code",
   "execution_count": 3,
   "metadata": {},
   "outputs": [
    {
     "data": {
      "text/plain": [
       "\u001b[90m╭──────────────────────────────────╮\u001b[39m\n",
       "\u001b[90m│ \u001b[39m\u001b[38;5;209m53\u001b[39m×\u001b[38;5;32m25\u001b[39m×\u001b[38;5;81m2920\u001b[39m Raster{Float64,3}\u001b[38;5;37m air\u001b[39m\u001b[90m │\u001b[39m\n",
       "\u001b[90m├──────────────────────────────────┴───────────────────────────────────── dims ┐\u001b[39m\n",
       "  \u001b[38;5;209m↓ \u001b[39m\u001b[38;5;209mX \u001b[39m Mapped{Float32} \u001b[38;5;209m[200.0, 202.5, …, 327.5, 330.0]\u001b[39m \u001b[38;5;244mForwardOrdered\u001b[39m \u001b[38;5;244mRegular\u001b[39m \u001b[38;5;244mPoints\u001b[39m,\n",
       "  \u001b[38;5;32m→ \u001b[39m\u001b[38;5;32mY \u001b[39m Mapped{Float32} \u001b[38;5;32m[75.0, 72.5, …, 17.5, 15.0]\u001b[39m \u001b[38;5;244mReverseOrdered\u001b[39m \u001b[38;5;244mRegular\u001b[39m \u001b[38;5;244mPoints\u001b[39m,\n",
       "  \u001b[38;5;81m↗ \u001b[39m\u001b[38;5;81mTi\u001b[39m Sampled{DateTime} \u001b[38;5;81m[2013-01-01T00:00:00, …, 2014-12-31T18:00:00]\u001b[39m \u001b[38;5;244mForwardOrdered\u001b[39m \u001b[38;5;244mIrregular\u001b[39m \u001b[38;5;244mPoints\u001b[39m\n",
       "\u001b[90m├──────────────────────────────────────────────────────────────────── metadata ┤\u001b[39m\n",
       "  Metadata{Rasters.NCDsource}\u001b[90m of \u001b[39mDict{String, Any} with 12 entries:\n",
       "  \"long_name\"    => \"4xDaily Air temperature at sigma level 995\"\n",
       "  \"scale_factor\" => 0.01\n",
       "  \"GRIB_name\"    => \"TMP\"\n",
       "  \"precision\"    => 2\n",
       "  \"var_desc\"     => \"Air temperature\"\n",
       "  \"actual_range\" => Float32[185.16, 322.1]\n",
       "  \"statistic\"    => \"Individual Obs\"\n",
       "  \"GRIB_id\"      => 11\n",
       "  \"dataset\"      => \"NMC Reanalysis\"\n",
       "  \"units\"        => \"degK\"\n",
       "  \"parent_stat\"  => \"Other\"\n",
       "  \"level_desc\"   => \"Surface\"\n",
       "\u001b[90m├────────────────────────────────────────────────────────────────────── raster ┤\u001b[39m\n",
       "\u001b[90m  extent: \u001b[39mExtent(X = (200.0f0, 330.0f0), Y = (15.0f0, 75.0f0), Ti = (DateTime(\"2013-01-01T00:00:00\"), DateTime(\"2014-12-31T18:00:00\")))\n",
       "\n",
       "\u001b[90m  crs: \u001b[39mEPSG:4326\n",
       "\u001b[90m  mappedcrs: \u001b[39mEPSG:4326\n",
       "\u001b[90m└──────────────────────────────────────────────────────────────────────────────┘\u001b[39m\n",
       "[\u001b[38;5;209m:\u001b[39m, \u001b[38;5;32m:\u001b[39m, \u001b[38;5;81m1\u001b[39m]\n",
       " ⋮      ⋱  "
      ]
     },
     "execution_count": 3,
     "metadata": {},
     "output_type": "execute_result"
    }
   ],
   "source": [
    "# pull out \"air\" dataarray with dictionary syntax\n",
    "ds[\"air\"]"
   ]
  },
  {
   "cell_type": "markdown",
   "metadata": {},
   "source": [
    "You can save some typing by using the \"attribute\" or \"dot\" notation and using tab completion. \n"
   ]
  },
  {
   "cell_type": "code",
   "execution_count": 4,
   "metadata": {},
   "outputs": [
    {
     "data": {
      "text/plain": [
       "\u001b[90m╭──────────────────────────────────╮\u001b[39m\n",
       "\u001b[90m│ \u001b[39m\u001b[38;5;209m53\u001b[39m×\u001b[38;5;32m25\u001b[39m×\u001b[38;5;81m2920\u001b[39m Raster{Float64,3}\u001b[38;5;37m air\u001b[39m\u001b[90m │\u001b[39m\n",
       "\u001b[90m├──────────────────────────────────┴───────────────────────────────────── dims ┐\u001b[39m\n",
       "  \u001b[38;5;209m↓ \u001b[39m\u001b[38;5;209mX \u001b[39m Mapped{Float32} \u001b[38;5;209m[200.0, 202.5, …, 327.5, 330.0]\u001b[39m \u001b[38;5;244mForwardOrdered\u001b[39m \u001b[38;5;244mRegular\u001b[39m \u001b[38;5;244mPoints\u001b[39m,\n",
       "  \u001b[38;5;32m→ \u001b[39m\u001b[38;5;32mY \u001b[39m Mapped{Float32} \u001b[38;5;32m[75.0, 72.5, …, 17.5, 15.0]\u001b[39m \u001b[38;5;244mReverseOrdered\u001b[39m \u001b[38;5;244mRegular\u001b[39m \u001b[38;5;244mPoints\u001b[39m,\n",
       "  \u001b[38;5;81m↗ \u001b[39m\u001b[38;5;81mTi\u001b[39m Sampled{DateTime} \u001b[38;5;81m[2013-01-01T00:00:00, …, 2014-12-31T18:00:00]\u001b[39m \u001b[38;5;244mForwardOrdered\u001b[39m \u001b[38;5;244mIrregular\u001b[39m \u001b[38;5;244mPoints\u001b[39m\n",
       "\u001b[90m├──────────────────────────────────────────────────────────────────── metadata ┤\u001b[39m\n",
       "  Metadata{Rasters.NCDsource}\u001b[90m of \u001b[39mDict{String, Any} with 12 entries:\n",
       "  \"long_name\"    => \"4xDaily Air temperature at sigma level 995\"\n",
       "  \"scale_factor\" => 0.01\n",
       "  \"GRIB_name\"    => \"TMP\"\n",
       "  \"precision\"    => 2\n",
       "  \"var_desc\"     => \"Air temperature\"\n",
       "  \"actual_range\" => Float32[185.16, 322.1]\n",
       "  \"statistic\"    => \"Individual Obs\"\n",
       "  \"GRIB_id\"      => 11\n",
       "  \"dataset\"      => \"NMC Reanalysis\"\n",
       "  \"units\"        => \"degK\"\n",
       "  \"parent_stat\"  => \"Other\"\n",
       "  \"level_desc\"   => \"Surface\"\n",
       "\u001b[90m├────────────────────────────────────────────────────────────────────── raster ┤\u001b[39m\n",
       "\u001b[90m  extent: \u001b[39mExtent(X = (200.0f0, 330.0f0), Y = (15.0f0, 75.0f0), Ti = (DateTime(\"2013-01-01T00:00:00\"), DateTime(\"2014-12-31T18:00:00\")))\n",
       "\n",
       "\u001b[90m  crs: \u001b[39mEPSG:4326\n",
       "\u001b[90m  mappedcrs: \u001b[39mEPSG:4326\n",
       "\u001b[90m└──────────────────────────────────────────────────────────────────────────────┘\u001b[39m\n",
       "[\u001b[38;5;209m:\u001b[39m, \u001b[38;5;32m:\u001b[39m, \u001b[38;5;81m1\u001b[39m]\n",
       " ⋮      ⋱  "
      ]
     },
     "execution_count": 4,
     "metadata": {},
     "output_type": "execute_result"
    }
   ],
   "source": [
    "# pull out dataarray using dot notation\n",
    "ds.air"
   ]
  },
  {
   "cell_type": "markdown",
   "metadata": {},
   "source": [
    "## What's in a DimArray? \n",
    "\n",
    "*data + (a lot of) metadata*\n",
    "\n"
   ]
  },
  {
   "cell_type": "markdown",
   "metadata": {},
   "source": [
    "### Name (optional)"
   ]
  },
  {
   "cell_type": "code",
   "execution_count": 5,
   "metadata": {},
   "outputs": [
    {
     "data": {
      "text/plain": [
       ":air"
      ]
     },
     "execution_count": 5,
     "metadata": {},
     "output_type": "execute_result"
    }
   ],
   "source": [
    "da = ds.air\n",
    "\n",
    "Rasters.name(da)"
   ]
  },
  {
   "cell_type": "markdown",
   "metadata": {},
   "source": [
    "### Named dimensions \n",
    "\n",
    "`dims(da)` correspond to the axes of your data. \n",
    "\n",
    "In this case we have 2 spatial dimensions (`X` and `Y`) and one temporal dimension (`Ti`)."
   ]
  },
  {
   "cell_type": "code",
   "execution_count": 6,
   "metadata": {},
   "outputs": [
    {
     "data": {
      "text/plain": [
       "\u001b[38;5;209m↓ \u001b[39m\u001b[38;5;209mX \u001b[39m Mapped{Float32} \u001b[38;5;209m[200.0, 202.5, …, 327.5, 330.0]\u001b[39m \u001b[38;5;244mForwardOrdered\u001b[39m \u001b[38;5;244mRegular\u001b[39m \u001b[38;5;244mPoints\u001b[39m,\n",
       "\u001b[38;5;32m→ \u001b[39m\u001b[38;5;32mY \u001b[39m Mapped{Float32} \u001b[38;5;32m[75.0, 72.5, …, 17.5, 15.0]\u001b[39m \u001b[38;5;244mReverseOrdered\u001b[39m \u001b[38;5;244mRegular\u001b[39m \u001b[38;5;244mPoints\u001b[39m,\n",
       "\u001b[38;5;81m↗ \u001b[39m\u001b[38;5;81mTi\u001b[39m Sampled{DateTime} \u001b[38;5;81m[2013-01-01T00:00:00, …, 2014-12-31T18:00:00]\u001b[39m \u001b[38;5;244mForwardOrdered\u001b[39m \u001b[38;5;244mIrregular\u001b[39m \u001b[38;5;244mPoints\u001b[39m"
      ]
     },
     "execution_count": 6,
     "metadata": {},
     "output_type": "execute_result"
    }
   ],
   "source": [
    "dims(da)"
   ]
  },
  {
   "cell_type": "markdown",
   "metadata": {},
   "source": [
    "You can also extract a single dimension."
   ]
  },
  {
   "cell_type": "code",
   "execution_count": 7,
   "metadata": {},
   "outputs": [
    {
     "data": {
      "text/plain": [
       "\u001b[38;5;209mX\u001b[39m Mapped{Float32} \u001b[38;5;244mForwardOrdered\u001b[39m \u001b[38;5;244mRegular\u001b[39m \u001b[38;5;244mDimensionalData.Dimensions.Lookups.Points\u001b[39m\n",
       "\u001b[90mwrapping: \u001b[39m53-element Vector{Float32}:\n",
       " 200.0\n",
       " 202.5\n",
       " 205.0\n",
       " 207.5\n",
       " 210.0\n",
       " 212.5\n",
       " 215.0\n",
       " 217.5\n",
       " 220.0\n",
       " 222.5\n",
       " 225.0\n",
       " 227.5\n",
       " 230.0\n",
       "   ⋮\n",
       " 302.5\n",
       " 305.0\n",
       " 307.5\n",
       " 310.0\n",
       " 312.5\n",
       " 315.0\n",
       " 317.5\n",
       " 320.0\n",
       " 322.5\n",
       " 325.0\n",
       " 327.5\n",
       " 330.0"
      ]
     },
     "execution_count": 7,
     "metadata": {},
     "output_type": "execute_result"
    }
   ],
   "source": [
    "# extracting coordinate variables\n",
    "dims(da, X)"
   ]
  },
  {
   "cell_type": "markdown",
   "metadata": {},
   "source": [
    "It is useful to think of the values in the dimensions as axis\n",
    "\"labels\" such as \"tick labels\" in a figure. These are coordinate locations on a\n",
    "grid at which you have data.\n"
   ]
  },
  {
   "cell_type": "markdown",
   "metadata": {},
   "source": [
    "### Arbitrary attributes \n",
    "\n",
    "`metadata` is a metadata object that can hold arbitrary attributes that describe the underlying data. "
   ]
  },
  {
   "cell_type": "code",
   "execution_count": 8,
   "metadata": {},
   "outputs": [
    {
     "data": {
      "text/plain": [
       "Metadata{Rasters.NCDsource}\u001b[90m of \u001b[39mDict{String, Any} with 12 entries:\n",
       "  \"long_name\"    => \"4xDaily Air temperature at sigma level 995\"\n",
       "  \"scale_factor\" => 0.01\n",
       "  \"GRIB_name\"    => \"TMP\"\n",
       "  \"precision\"    => 2\n",
       "  \"var_desc\"     => \"Air temperature\"\n",
       "  \"actual_range\" => Float32[185.16, 322.1]\n",
       "  \"statistic\"    => \"Individual Obs\"\n",
       "  \"GRIB_id\"      => 11\n",
       "  \"dataset\"      => \"NMC Reanalysis\"\n",
       "  \"units\"        => \"degK\"\n",
       "  \"parent_stat\"  => \"Other\"\n",
       "  \"level_desc\"   => \"Surface\""
      ]
     },
     "execution_count": 8,
     "metadata": {},
     "output_type": "execute_result"
    }
   ],
   "source": [
    "metadata(da)"
   ]
  },
  {
   "cell_type": "code",
   "execution_count": 9,
   "metadata": {},
   "outputs": [
    {
     "data": {
      "text/plain": [
       "\"Mine\""
      ]
     },
     "execution_count": 9,
     "metadata": {},
     "output_type": "execute_result"
    }
   ],
   "source": [
    "# assign your own attributes!\n",
    "metadata(da)[\"myattrs\"] = \"Mine\""
   ]
  },
  {
   "cell_type": "markdown",
   "metadata": {},
   "source": [
    "### Underlying data \n",
    "\n",
    "\n",
    "A DimensionalData data structures wrap underlying simpler array-like data structures. These arrays have to fit into the Julia Array interface but can be either in memory arrays or DiskArray.jl arrays for lazy access or  part of Xarray is quite extensible allowing for distributed array, GPU arrays, sparse arrays, arrays with units etc. We'll  briefly look at this later in this tutorial.\n",
    "\n",
    "To access the underlying data use the `parent` function:"
   ]
  },
  {
   "cell_type": "code",
   "execution_count": 10,
   "metadata": {},
   "outputs": [
    {
     "data": {
      "text/plain": [
       "53×25×2920 Array{Float64, 3}:\n",
       "[:, :, 1] =\n",
       " 241.2   243.8   250.0   266.5   274.5   …  297.0   296.6   295.9   296.29\n",
       " 242.5   244.5   249.8   267.1   274.29     296.7   296.2   296.2   296.79\n",
       " 243.5   244.7   248.89  267.1   274.1      296.1   296.4   296.79  297.1\n",
       " 244.0   244.2   247.5   266.7   274.0      295.9   296.5   296.5   297.0\n",
       " 244.1   243.39  246.0   265.9   273.79     294.9   295.5   296.1   296.9\n",
       " 243.89  242.39  244.39  264.7   273.0   …  293.4   294.0   295.1   296.4\n",
       " 243.6   241.7   243.1   263.1   271.79     292.79  293.6   294.6   296.0\n",
       " 243.1   241.3   242.39  261.6   270.6      292.4   293.4   294.4   295.7\n",
       " 242.5   241.1   242.2   260.6   270.0      292.2   292.79  293.79  295.5\n",
       " 241.89  241.1   242.5   260.1   269.9      292.2   292.9   293.79  295.4\n",
       " 241.2   241.0   243.1   260.0   270.0   …  291.5   292.6   293.79  295.2\n",
       " 240.3   240.5   243.5   259.9   269.9      291.1   292.2   293.29  295.2\n",
       " 239.5   239.7   243.5   259.29  269.2      290.9   292.2   292.79  295.0\n",
       "   ⋮                                     ⋱                          \n",
       " 238.5   247.6   254.1   261.2   266.4      297.1   298.1   298.6   299.2\n",
       " 234.7   245.89  256.0   264.2   268.79     297.5   298.1   298.4   299.79\n",
       " 231.3   243.39  254.3   260.0   262.6      297.79  298.4   298.4   299.7\n",
       " 228.8   240.39  249.6   250.6   251.1      297.9   298.79  298.9   299.1\n",
       " 227.3   237.5   243.7   240.8   241.3   …  297.4   298.0   298.6   298.7\n",
       " 227.0   235.0   238.3   235.2   239.3      297.0   297.29  297.9   298.6\n",
       " 227.5   233.2   234.5   235.2   245.89     296.9   297.2   297.4   298.0\n",
       " 228.8   232.0   232.39  239.3   256.8      296.29  296.7   296.9   297.79\n",
       " 230.6   231.8   231.89  244.6   266.4      295.6   295.79  296.29  297.6\n",
       " 232.8   232.8   233.2   249.2   271.4   …  295.1   295.4   295.9   296.9\n",
       " 235.5   235.3   236.39  253.1   272.4      295.1   295.1   295.9   296.79\n",
       " 238.6   239.3   241.7   256.9   271.9      294.9   294.7   295.2   296.6\n",
       "\n",
       "[:, :, 2] =\n",
       " 242.1   243.6   253.2   269.7   272.5   …  295.79  296.4   296.2   296.29\n",
       " 242.7   244.1   252.89  269.4   271.5      295.79  295.9   296.7   297.2\n",
       " 243.1   244.2   252.1   268.6   270.4      296.1   296.2   296.79  297.4\n",
       " 243.39  244.1   250.8   267.4   269.4      296.0   296.1   296.4   297.4\n",
       " 243.6   243.7   249.3   266.0   268.5      294.79  295.1   296.1   297.1\n",
       " 243.8   243.3   247.5   264.4   268.0   …  293.2   294.1   295.6   296.7\n",
       " 244.0   242.8   245.5   262.6   267.9      292.6   293.79  295.1   296.4\n",
       " 244.1   242.39  243.6   260.79  268.1      292.6   293.6   294.5   295.79\n",
       " 244.3   242.2   242.1   259.1   268.1      292.29  293.0   294.2   295.79\n",
       " 244.3   242.0   241.1   257.7   267.79     292.0   292.9   294.1   295.6\n",
       " 244.0   241.8   240.89  256.9   267.1   …  291.5   292.79  294.0   295.1\n",
       " 243.39  241.5   241.3   256.7   266.6      291.2   292.4   293.6   295.29\n",
       " 242.5   240.89  242.0   257.0   266.6      291.1   292.2   293.1   295.2\n",
       "   ⋮                                     ⋱                          \n",
       " 238.1   247.6   254.8   262.1   266.2      296.79  297.7   298.4   298.79\n",
       " 234.7   245.6   256.0   264.4   268.4      297.2   297.9   298.2   299.29\n",
       " 231.7   242.89  253.6   259.79  262.5      297.6   298.4   298.29  299.29\n",
       " 229.6   239.89  248.6   250.6   252.0      297.6   298.5   298.5   298.6\n",
       " 228.5   237.3   242.8   241.5   243.1   …  297.5   298.0   298.29  298.2\n",
       " 228.39  235.1   237.7   236.3   241.3      297.29  297.4   297.7   298.1\n",
       " 228.89  233.3   234.0   236.1   247.2      297.0   297.0   297.2   297.5\n",
       " 229.7   231.89  231.6   239.39  257.1      296.5   296.7   297.1   297.1\n",
       " 230.7   231.0   230.39  243.5   266.0      295.9   296.1   296.4   296.9\n",
       " 232.0   231.0   230.8   247.2   270.9   …  295.2   295.4   295.6   296.4\n",
       " 233.6   232.5   233.39  250.5   272.29     294.9   295.1   295.5   296.4\n",
       " 235.8   235.7   238.5   254.39  272.29     294.7   294.79  295.1   296.6\n",
       "\n",
       "[:, :, 3] =\n",
       " 242.3   244.6   256.2   269.29  271.9   …  295.0   295.6   296.2   296.4\n",
       " 242.2   244.39  255.5   268.5   271.79     295.0   295.4   296.5   296.29\n",
       " 242.3   244.0   254.2   267.0   271.6      294.9   295.4   296.29  296.4\n",
       " 242.5   243.39  252.3   265.0   270.7      295.0   295.2   295.5   296.29\n",
       " 242.89  242.8   250.2   262.7   269.4      294.0   294.1   295.1   296.29\n",
       " 243.6   242.39  248.1   260.29  267.79  …  292.4   293.1   294.5   295.79\n",
       " 244.5   242.3   246.3   258.5   266.6      292.1   293.1   294.1   295.2\n",
       " 245.7   242.3   244.89  257.29  266.2      292.2   292.9   293.5   295.1\n",
       " 246.8   242.39  243.7   256.8   266.2      292.0   292.29  293.0   295.0\n",
       " 247.7   242.5   242.6   256.39  265.9      291.4   292.2   293.2   294.5\n",
       " 248.2   242.3   241.7   255.8   265.1   …  290.6   291.7   293.2   294.29\n",
       " 248.0   241.8   240.8   255.2   264.0      290.7   291.4   292.79  294.7\n",
       " 247.2   241.1   240.3   254.89  263.4      290.9   291.79  292.7   294.9\n",
       "   ⋮                                     ⋱                          \n",
       " 240.2   248.1   253.7   260.9   266.5      297.1   297.9   298.29  298.9\n",
       " 237.89  247.39  256.6   264.2   269.1      297.6   298.1   298.2   299.5\n",
       " 235.7   245.7   256.1   261.29  264.29     298.0   298.7   298.5   299.2\n",
       " 233.89  243.1   252.7   254.0   254.8      298.4   299.0   299.0   298.7\n",
       " 232.6   240.2   247.7   246.1   246.5   …  298.29  298.29  298.79  298.79\n",
       " 232.0   237.3   242.6   241.2   244.2      297.7   297.6   298.0   298.7\n",
       " 231.89  234.39  238.0   240.39  249.2      297.0   297.4   297.6   297.9\n",
       " 232.2   232.0   234.3   242.39  258.0      296.6   297.0   297.7   297.9\n",
       " 233.0   230.39  231.8   245.3   266.0      296.29  296.7   297.1   297.6\n",
       " 234.3   230.3   231.2   247.89  270.5   …  295.6   296.29  296.4   297.0\n",
       " 236.1   232.0   233.2   250.6   271.79     294.9   295.29  296.0   297.0\n",
       " 238.7   235.7   238.2   254.2   271.79     294.79  295.0   295.6   296.79\n",
       "\n",
       ";;; … \n",
       "\n",
       "[:, :, 2918] =\n",
       " 243.49  249.09  262.69  273.49  273.89  …  292.99  294.79  296.79  298.19\n",
       " 242.99  248.99  262.19  272.99  274.19     293.49  295.29  297.89  299.19\n",
       " 242.09  248.59  261.69  272.49  274.29     295.99  297.49  298.29  298.79\n",
       " 240.69  247.79  260.89  271.89  274.39     297.39  298.49  298.19  298.69\n",
       " 239.19  246.49  259.79  271.09  274.49     297.09  297.99  298.59  299.29\n",
       " 237.69  244.99  258.09  270.19  274.69  …  296.59  297.49  298.49  298.99\n",
       " 236.59  243.59  255.99  269.09  274.99     295.69  297.29  298.19  298.59\n",
       " 235.99  242.49  253.69  267.89  275.19     294.79  296.79  297.79  298.19\n",
       " 235.99  241.89  251.29  266.29  274.99     294.59  296.29  297.69  298.29\n",
       " 236.39  241.69  249.19  264.49  274.09     294.49  296.19  297.79  298.29\n",
       " 237.09  241.79  247.39  262.29  272.39  …  293.99  295.69  297.39  297.49\n",
       " 237.79  241.89  245.99  260.19  270.49     293.99  295.39  296.89  297.69\n",
       " 238.39  241.89  245.09  258.39  268.79     294.19  295.29  295.99  297.49\n",
       "   ⋮                                     ⋱                          \n",
       " 254.49  255.29  258.79  263.99  267.29     297.99  298.59  298.59  299.19\n",
       " 252.39  256.09  262.19  267.39  269.59     297.89  298.59  298.29  299.69\n",
       " 249.99  254.99  261.69  263.69  262.69     297.09  298.29  297.59  298.79\n",
       " 247.79  252.49  257.49  254.89  250.99     296.49  297.89  297.69  297.89\n",
       " 245.89  249.09  251.39  245.59  241.79  …  295.89  296.99  297.39  297.79\n",
       " 244.59  245.79  245.39  240.09  241.09     295.79  296.89  296.79  297.69\n",
       " 243.89  243.09  241.09  240.09  249.19     295.59  296.79  296.79  297.29\n",
       " 243.69  241.39  238.79  243.89  261.29     295.09  296.19  297.09  297.19\n",
       " 243.89  240.59  238.39  248.99  271.29     295.09  295.69  296.39  297.09\n",
       " 244.19  240.59  239.39  253.49  276.49  …  294.69  295.49  295.49  296.09\n",
       " 244.49  241.29  241.69  257.39  277.89     294.69  295.39  295.49  295.79\n",
       " 244.89  242.69  245.19  261.39  278.29     294.79  294.69  294.79  295.79\n",
       "\n",
       "[:, :, 2919] =\n",
       " 245.79  249.89  262.39  273.29  273.59  …  291.59  293.69  296.29  297.79\n",
       " 244.79  249.29  261.79  272.89  273.99     291.69  293.89  297.19  298.39\n",
       " 243.49  248.49  261.29  272.49  274.19     293.59  295.39  297.59  298.49\n",
       " 241.89  247.29  260.59  272.09  274.49     295.89  297.19  297.89  298.59\n",
       " 240.29  245.69  259.39  271.59  274.69     296.89  297.79  298.29  298.79\n",
       " 238.89  243.99  257.69  270.99  274.99  …  296.79  297.49  298.09  298.69\n",
       " 237.79  242.29  255.49  270.29  275.29     296.09  297.49  297.79  298.49\n",
       " 237.19  240.89  252.99  269.29  275.59     294.99  297.29  297.79  297.99\n",
       " 237.09  239.89  250.29  267.89  275.79     294.69  296.49  297.89  298.29\n",
       " 237.29  239.29  247.59  265.89  275.59     294.69  295.99  297.69  298.19\n",
       " 237.59  239.09  244.99  262.99  274.69  …  294.49  295.99  297.49  297.39\n",
       " 237.89  238.99  242.59  259.49  272.99     294.39  295.79  296.99  297.69\n",
       " 238.09  238.99  240.59  255.69  270.49     294.39  295.49  295.89  297.59\n",
       "   ⋮                                     ⋱                          \n",
       " 255.49  256.19  258.69  262.69  267.19     298.09  298.39  298.49  298.69\n",
       " 253.19  256.59  262.09  265.99  269.59     297.49  297.89  297.89  299.09\n",
       " 250.69  255.39  261.79  263.19  263.99     296.69  297.89  297.69  298.89\n",
       " 248.19  252.79  257.99  255.69  253.99     296.19  297.59  297.69  297.79\n",
       " 246.09  249.39  252.09  247.59  246.29  …  295.69  296.59  297.59  297.99\n",
       " 244.39  245.89  246.29  242.79  245.99     295.69  296.39  296.99  297.99\n",
       " 243.39  243.09  241.89  242.79  253.39     295.29  296.29  296.49  296.79\n",
       " 242.89  241.39  239.59  246.29  264.19     294.59  295.49  296.79  296.89\n",
       " 242.89  240.79  239.19  250.79  272.99     294.49  294.89  295.89  296.59\n",
       " 243.29  241.29  240.49  254.89  277.29  …  294.49  295.09  295.29  295.69\n",
       " 243.99  242.49  243.09  258.29  277.99     294.29  294.69  295.09  295.49\n",
       " 244.79  244.29  246.89  261.79  277.59     294.49  294.29  294.39  295.19\n",
       "\n",
       "[:, :, 2920] =\n",
       " 245.09  249.89  262.99  272.19  271.19  …  292.89  293.79  296.09  297.69\n",
       " 244.29  249.29  262.19  272.09  271.89     292.09  293.69  296.89  298.09\n",
       " 243.29  248.39  261.39  271.99  272.59     292.99  295.09  297.19  298.09\n",
       " 242.19  246.99  259.99  271.59  273.09     295.09  296.69  297.49  298.49\n",
       " 241.09  245.09  257.79  270.69  273.09     296.09  297.29  298.19  298.89\n",
       " 240.09  243.09  254.99  269.29  272.89  …  296.59  297.29  298.09  298.69\n",
       " 239.39  241.09  251.99  267.69  272.99     296.49  297.39  297.79  298.39\n",
       " 238.99  239.59  249.09  266.19  273.39     295.79  297.49  297.79  298.09\n",
       " 238.89  238.59  246.59  264.79  273.99     295.59  297.19  297.69  298.09\n",
       " 239.09  238.29  244.49  263.19  274.19     295.39  296.49  297.59  297.99\n",
       " 239.39  238.39  242.59  260.89  273.69  …  294.89  296.09  297.39  297.49\n",
       " 239.49  238.59  240.89  257.89  272.29     294.89  296.19  296.79  297.49\n",
       " 239.49  238.89  239.29  254.19  270.09     294.59  296.09  296.39  297.49\n",
       "   ⋮                                     ⋱                          \n",
       " 256.09  255.49  257.29  262.39  266.69     298.59  299.39  299.99  299.89\n",
       " 254.29  255.99  260.79  266.49  269.39     298.39  299.09  299.69  300.49\n",
       " 252.49  255.19  261.29  264.99  264.79     297.49  299.09  298.99  299.99\n",
       " 250.59  253.29  258.49  258.89  255.89     296.49  298.69  298.69  299.09\n",
       " 248.69  250.29  253.39  251.69  248.59  …  296.09  297.59  298.69  299.29\n",
       " 246.79  246.99  247.69  246.79  247.69     296.19  297.09  298.19  299.29\n",
       " 245.09  243.79  242.89  245.69  253.69     295.79  296.69  297.39  297.89\n",
       " 243.59  241.39  239.89  247.89  263.19     294.99  295.79  297.29  297.39\n",
       " 242.39  239.99  238.99  251.59  271.49     294.59  295.19  296.49  297.19\n",
       " 241.69  239.59  239.89  255.39  276.09  …  294.59  295.29  295.69  296.49\n",
       " 241.49  240.29  242.59  258.99  277.39     294.19  295.09  295.69  296.19\n",
       " 241.79  241.69  246.29  262.49  277.29     294.29  294.69  295.19  295.69"
      ]
     },
     "execution_count": 10,
     "metadata": {},
     "output_type": "execute_result"
    }
   ],
   "source": [
    "parent(da)"
   ]
  },
  {
   "cell_type": "code",
   "execution_count": 12,
   "metadata": {},
   "outputs": [
    {
     "data": {
      "text/plain": [
       "Array{Float64, 3}"
      ]
     },
     "execution_count": 12,
     "metadata": {},
     "output_type": "execute_result"
    }
   ],
   "source": [
    "# what is the type of the underlying data\n",
    "typeof(parent(da))"
   ]
  },
  {
   "cell_type": "markdown",
   "metadata": {},
   "source": [
    "We can change the underlying data type by using the lazy keyword for opening the data.\n",
    "This is especially helpful for very large data or data that is hosted online where we would not want to download the whole dataset before starting the analysis.\n"
   ]
  },
  {
   "cell_type": "code",
   "execution_count": 13,
   "metadata": {},
   "outputs": [
    {
     "data": {
      "text/plain": [
       "\u001b[90m╭────────────────────────╮\u001b[39m\n",
       "\u001b[90m│ \u001b[39m\u001b[38;5;209m53\u001b[39m×\u001b[38;5;32m25\u001b[39m×\u001b[38;5;81m2920\u001b[39m RasterStack\u001b[90m │\u001b[39m\n",
       "\u001b[90m├────────────────────────┴─────────────────────────────────────────────── dims ┐\u001b[39m\n",
       "  \u001b[38;5;209m↓ \u001b[39m\u001b[38;5;209mX \u001b[39m Mapped{Float32} \u001b[38;5;209m[200.0, 202.5, …, 327.5, 330.0]\u001b[39m \u001b[38;5;244mForwardOrdered\u001b[39m \u001b[38;5;244mRegular\u001b[39m \u001b[38;5;244mPoints\u001b[39m,\n",
       "  \u001b[38;5;32m→ \u001b[39m\u001b[38;5;32mY \u001b[39m Mapped{Float32} \u001b[38;5;32m[75.0, 72.5, …, 17.5, 15.0]\u001b[39m \u001b[38;5;244mReverseOrdered\u001b[39m \u001b[38;5;244mRegular\u001b[39m \u001b[38;5;244mPoints\u001b[39m,\n",
       "  \u001b[38;5;81m↗ \u001b[39m\u001b[38;5;81mTi\u001b[39m Sampled{DateTime} \u001b[38;5;81m[2013-01-01T00:00:00, …, 2014-12-31T18:00:00]\u001b[39m \u001b[38;5;244mForwardOrdered\u001b[39m \u001b[38;5;244mIrregular\u001b[39m \u001b[38;5;244mPoints\u001b[39m\n",
       "\u001b[90m├────────────────────────────────────────────────────────────────────── layers ┤\u001b[39m\n",
       "\u001b[38;5;37m  :air\u001b[39m\u001b[90m eltype: \u001b[39mUnion{Missing, Float64}\u001b[90m dims: \u001b[39m\u001b[38;5;209mX\u001b[39m, \u001b[38;5;32mY\u001b[39m, \u001b[38;5;81mTi\u001b[39m\u001b[90m size: \u001b[39m\u001b[38;5;209m53\u001b[39m×\u001b[38;5;32m25\u001b[39m×\u001b[38;5;81m2920\u001b[39m\n",
       "\u001b[90m├──────────────────────────────────────────────────────────────────── metadata ┤\u001b[39m\n",
       "  Metadata{Rasters.NCDsource}\u001b[90m of \u001b[39mDict{String, Any} with 5 entries:\n",
       "  \"references\"  => \"http://www.esrl.noaa.gov/psd/data/gridded/data.ncep.reanaly…\n",
       "  \"platform\"    => \"Model\"\n",
       "  \"title\"       => \"4x daily NMC reanalysis (1948)\"\n",
       "  \"description\" => \"Data is from NMC initialized reanalysis\\n(4x/day).  These a…\n",
       "  \"Conventions\" => \"COARDS\"\n",
       "\u001b[90m├────────────────────────────────────────────────────────────────────── raster ┤\u001b[39m\n",
       "\u001b[90m  extent: \u001b[39mExtent(X = (200.0f0, 330.0f0), Y = (15.0f0, 75.0f0), Ti = (DateTime(\"2013-01-01T00:00:00\"), DateTime(\"2014-12-31T18:00:00\")))\n",
       "\u001b[90m  missingval: \u001b[39mmissing\n",
       "\u001b[90m  crs: \u001b[39mEPSG:4326\n",
       "\u001b[90m  mappedcrs: \u001b[39mEPSG:4326\n",
       "\u001b[90m  filename: \u001b[39m\n",
       "\u001b[90m└──────────────────────────────────────────────────────────────────────────────┘\u001b[39m"
      ]
     },
     "execution_count": 13,
     "metadata": {},
     "output_type": "execute_result"
    }
   ],
   "source": [
    "dsl = RasterStack(path, lazy=true)"
   ]
  },
  {
   "cell_type": "code",
   "execution_count": 14,
   "metadata": {},
   "outputs": [
    {
     "data": {
      "text/plain": [
       "\u001b[90m╭──────────────────────────────────────────────────╮\u001b[39m\n",
       "\u001b[90m│ \u001b[39m\u001b[38;5;209m53\u001b[39m×\u001b[38;5;32m25\u001b[39m×\u001b[38;5;81m2920\u001b[39m Raster{Union{Missing, Float64},3}\u001b[38;5;37m air\u001b[39m\u001b[90m │\u001b[39m\n",
       "\u001b[90m├──────────────────────────────────────────────────┴───────────────────── dims ┐\u001b[39m\n",
       "  \u001b[38;5;209m↓ \u001b[39m\u001b[38;5;209mX \u001b[39m Mapped{Float32} \u001b[38;5;209m[200.0, 202.5, …, 327.5, 330.0]\u001b[39m \u001b[38;5;244mForwardOrdered\u001b[39m \u001b[38;5;244mRegular\u001b[39m \u001b[38;5;244mPoints\u001b[39m,\n",
       "  \u001b[38;5;32m→ \u001b[39m\u001b[38;5;32mY \u001b[39m Mapped{Float32} \u001b[38;5;32m[75.0, 72.5, …, 17.5, 15.0]\u001b[39m \u001b[38;5;244mReverseOrdered\u001b[39m \u001b[38;5;244mRegular\u001b[39m \u001b[38;5;244mPoints\u001b[39m,\n",
       "  \u001b[38;5;81m↗ \u001b[39m\u001b[38;5;81mTi\u001b[39m Sampled{DateTime} \u001b[38;5;81m[2013-01-01T00:00:00, …, 2014-12-31T18:00:00]\u001b[39m \u001b[38;5;244mForwardOrdered\u001b[39m \u001b[38;5;244mIrregular\u001b[39m \u001b[38;5;244mPoints\u001b[39m\n",
       "\u001b[90m├──────────────────────────────────────────────────────────────────── metadata ┤\u001b[39m\n",
       "  Metadata{Rasters.NCDsource}\u001b[90m of \u001b[39mDict{String, Any} with 12 entries:\n",
       "  \"long_name\"    => \"4xDaily Air temperature at sigma level 995\"\n",
       "  \"scale_factor\" => 0.01\n",
       "  \"GRIB_name\"    => \"TMP\"\n",
       "  \"precision\"    => 2\n",
       "  \"var_desc\"     => \"Air temperature\"\n",
       "  \"actual_range\" => Float32[185.16, 322.1]\n",
       "  \"statistic\"    => \"Individual Obs\"\n",
       "  \"GRIB_id\"      => 11\n",
       "  \"dataset\"      => \"NMC Reanalysis\"\n",
       "  \"units\"        => \"degK\"\n",
       "  \"parent_stat\"  => \"Other\"\n",
       "  \"level_desc\"   => \"Surface\"\n",
       "\u001b[90m├────────────────────────────────────────────────────────────────────── raster ┤\u001b[39m\n",
       "\u001b[90m  extent: \u001b[39mExtent(X = (200.0f0, 330.0f0), Y = (15.0f0, 75.0f0), Ti = (DateTime(\"2013-01-01T00:00:00\"), DateTime(\"2014-12-31T18:00:00\")))\n",
       "\u001b[90m  missingval: \u001b[39mmissing\n",
       "\u001b[90m  crs: \u001b[39mEPSG:4326\n",
       "\u001b[90m  mappedcrs: \u001b[39mEPSG:4326\n",
       "\u001b[90m  filename: \u001b[39m\n",
       "\u001b[90m└──────────────────────────────────────────────────────────────────────────────┘\u001b[39m\n"
      ]
     },
     "execution_count": 14,
     "metadata": {},
     "output_type": "execute_result"
    }
   ],
   "source": [
    "dal = dsl.air"
   ]
  },
  {
   "cell_type": "code",
   "execution_count": 15,
   "metadata": {},
   "outputs": [
    {
     "data": {
      "text/plain": [
       "Rasters.FileArray{Rasters.NCDsource, Union{Missing, Float64}, 3, Symbol, Nothing, DiskArrays.GridChunks{3, Tuple{DiskArrays.RegularChunks, DiskArrays.RegularChunks, DiskArrays.RegularChunks}}, DiskArrays.Unchunked}"
      ]
     },
     "execution_count": 15,
     "metadata": {},
     "output_type": "execute_result"
    }
   ],
   "source": [
    "typeof(parent(dal))"
   ]
  },
  {
   "cell_type": "markdown",
   "metadata": {},
   "source": [
    "### Review\n",
    "\n",
    "DimensionalData provides two main data structures:\n",
    "\n",
    "1. `DimArrays` that wrap underlying data containers and contain associated metadata in the \n",
    "1. `DimStacks` that are dictionary-like containers of DataArrays\n",
    "\n",
    "`DimArrays` contain underlying arrays and associated metadata:\n",
    "1. Name\n",
    "2. Dimension names\n",
    "3. Lookup values\n",
    "4. Metadata"
   ]
  },
  {
   "cell_type": "markdown",
   "metadata": {},
   "source": [
    "---"
   ]
  },
  {
   "cell_type": "markdown",
   "metadata": {},
   "source": [
    "## Why named dimensions and labeled dimensions? \n",
    "\n",
    "Metadata provides context and provides code that is more legible. This reduces the likelihood of errors from typos and makes analysis more intuitive and fun!\n",
    "\n",
    "### Analysis without named dimensions:"
   ]
  },
  {
   "cell_type": "code",
   "execution_count": 16,
   "metadata": {},
   "outputs": [
    {
     "data": {
      "text/plain": [
       "53×25×2920 Array{Float64, 3}:\n",
       "[:, :, 1] =\n",
       " 241.2   243.8   250.0   266.5   274.5   …  297.0   296.6   295.9   296.29\n",
       " 242.5   244.5   249.8   267.1   274.29     296.7   296.2   296.2   296.79\n",
       " 243.5   244.7   248.89  267.1   274.1      296.1   296.4   296.79  297.1\n",
       " 244.0   244.2   247.5   266.7   274.0      295.9   296.5   296.5   297.0\n",
       " 244.1   243.39  246.0   265.9   273.79     294.9   295.5   296.1   296.9\n",
       " 243.89  242.39  244.39  264.7   273.0   …  293.4   294.0   295.1   296.4\n",
       " 243.6   241.7   243.1   263.1   271.79     292.79  293.6   294.6   296.0\n",
       " 243.1   241.3   242.39  261.6   270.6      292.4   293.4   294.4   295.7\n",
       " 242.5   241.1   242.2   260.6   270.0      292.2   292.79  293.79  295.5\n",
       " 241.89  241.1   242.5   260.1   269.9      292.2   292.9   293.79  295.4\n",
       " 241.2   241.0   243.1   260.0   270.0   …  291.5   292.6   293.79  295.2\n",
       " 240.3   240.5   243.5   259.9   269.9      291.1   292.2   293.29  295.2\n",
       " 239.5   239.7   243.5   259.29  269.2      290.9   292.2   292.79  295.0\n",
       "   ⋮                                     ⋱                          \n",
       " 238.5   247.6   254.1   261.2   266.4      297.1   298.1   298.6   299.2\n",
       " 234.7   245.89  256.0   264.2   268.79     297.5   298.1   298.4   299.79\n",
       " 231.3   243.39  254.3   260.0   262.6      297.79  298.4   298.4   299.7\n",
       " 228.8   240.39  249.6   250.6   251.1      297.9   298.79  298.9   299.1\n",
       " 227.3   237.5   243.7   240.8   241.3   …  297.4   298.0   298.6   298.7\n",
       " 227.0   235.0   238.3   235.2   239.3      297.0   297.29  297.9   298.6\n",
       " 227.5   233.2   234.5   235.2   245.89     296.9   297.2   297.4   298.0\n",
       " 228.8   232.0   232.39  239.3   256.8      296.29  296.7   296.9   297.79\n",
       " 230.6   231.8   231.89  244.6   266.4      295.6   295.79  296.29  297.6\n",
       " 232.8   232.8   233.2   249.2   271.4   …  295.1   295.4   295.9   296.9\n",
       " 235.5   235.3   236.39  253.1   272.4      295.1   295.1   295.9   296.79\n",
       " 238.6   239.3   241.7   256.9   271.9      294.9   294.7   295.2   296.6\n",
       "\n",
       "[:, :, 2] =\n",
       " 242.1   243.6   253.2   269.7   272.5   …  295.79  296.4   296.2   296.29\n",
       " 242.7   244.1   252.89  269.4   271.5      295.79  295.9   296.7   297.2\n",
       " 243.1   244.2   252.1   268.6   270.4      296.1   296.2   296.79  297.4\n",
       " 243.39  244.1   250.8   267.4   269.4      296.0   296.1   296.4   297.4\n",
       " 243.6   243.7   249.3   266.0   268.5      294.79  295.1   296.1   297.1\n",
       " 243.8   243.3   247.5   264.4   268.0   …  293.2   294.1   295.6   296.7\n",
       " 244.0   242.8   245.5   262.6   267.9      292.6   293.79  295.1   296.4\n",
       " 244.1   242.39  243.6   260.79  268.1      292.6   293.6   294.5   295.79\n",
       " 244.3   242.2   242.1   259.1   268.1      292.29  293.0   294.2   295.79\n",
       " 244.3   242.0   241.1   257.7   267.79     292.0   292.9   294.1   295.6\n",
       " 244.0   241.8   240.89  256.9   267.1   …  291.5   292.79  294.0   295.1\n",
       " 243.39  241.5   241.3   256.7   266.6      291.2   292.4   293.6   295.29\n",
       " 242.5   240.89  242.0   257.0   266.6      291.1   292.2   293.1   295.2\n",
       "   ⋮                                     ⋱                          \n",
       " 238.1   247.6   254.8   262.1   266.2      296.79  297.7   298.4   298.79\n",
       " 234.7   245.6   256.0   264.4   268.4      297.2   297.9   298.2   299.29\n",
       " 231.7   242.89  253.6   259.79  262.5      297.6   298.4   298.29  299.29\n",
       " 229.6   239.89  248.6   250.6   252.0      297.6   298.5   298.5   298.6\n",
       " 228.5   237.3   242.8   241.5   243.1   …  297.5   298.0   298.29  298.2\n",
       " 228.39  235.1   237.7   236.3   241.3      297.29  297.4   297.7   298.1\n",
       " 228.89  233.3   234.0   236.1   247.2      297.0   297.0   297.2   297.5\n",
       " 229.7   231.89  231.6   239.39  257.1      296.5   296.7   297.1   297.1\n",
       " 230.7   231.0   230.39  243.5   266.0      295.9   296.1   296.4   296.9\n",
       " 232.0   231.0   230.8   247.2   270.9   …  295.2   295.4   295.6   296.4\n",
       " 233.6   232.5   233.39  250.5   272.29     294.9   295.1   295.5   296.4\n",
       " 235.8   235.7   238.5   254.39  272.29     294.7   294.79  295.1   296.6\n",
       "\n",
       "[:, :, 3] =\n",
       " 242.3   244.6   256.2   269.29  271.9   …  295.0   295.6   296.2   296.4\n",
       " 242.2   244.39  255.5   268.5   271.79     295.0   295.4   296.5   296.29\n",
       " 242.3   244.0   254.2   267.0   271.6      294.9   295.4   296.29  296.4\n",
       " 242.5   243.39  252.3   265.0   270.7      295.0   295.2   295.5   296.29\n",
       " 242.89  242.8   250.2   262.7   269.4      294.0   294.1   295.1   296.29\n",
       " 243.6   242.39  248.1   260.29  267.79  …  292.4   293.1   294.5   295.79\n",
       " 244.5   242.3   246.3   258.5   266.6      292.1   293.1   294.1   295.2\n",
       " 245.7   242.3   244.89  257.29  266.2      292.2   292.9   293.5   295.1\n",
       " 246.8   242.39  243.7   256.8   266.2      292.0   292.29  293.0   295.0\n",
       " 247.7   242.5   242.6   256.39  265.9      291.4   292.2   293.2   294.5\n",
       " 248.2   242.3   241.7   255.8   265.1   …  290.6   291.7   293.2   294.29\n",
       " 248.0   241.8   240.8   255.2   264.0      290.7   291.4   292.79  294.7\n",
       " 247.2   241.1   240.3   254.89  263.4      290.9   291.79  292.7   294.9\n",
       "   ⋮                                     ⋱                          \n",
       " 240.2   248.1   253.7   260.9   266.5      297.1   297.9   298.29  298.9\n",
       " 237.89  247.39  256.6   264.2   269.1      297.6   298.1   298.2   299.5\n",
       " 235.7   245.7   256.1   261.29  264.29     298.0   298.7   298.5   299.2\n",
       " 233.89  243.1   252.7   254.0   254.8      298.4   299.0   299.0   298.7\n",
       " 232.6   240.2   247.7   246.1   246.5   …  298.29  298.29  298.79  298.79\n",
       " 232.0   237.3   242.6   241.2   244.2      297.7   297.6   298.0   298.7\n",
       " 231.89  234.39  238.0   240.39  249.2      297.0   297.4   297.6   297.9\n",
       " 232.2   232.0   234.3   242.39  258.0      296.6   297.0   297.7   297.9\n",
       " 233.0   230.39  231.8   245.3   266.0      296.29  296.7   297.1   297.6\n",
       " 234.3   230.3   231.2   247.89  270.5   …  295.6   296.29  296.4   297.0\n",
       " 236.1   232.0   233.2   250.6   271.79     294.9   295.29  296.0   297.0\n",
       " 238.7   235.7   238.2   254.2   271.79     294.79  295.0   295.6   296.79\n",
       "\n",
       ";;; … \n",
       "\n",
       "[:, :, 2918] =\n",
       " 243.49  249.09  262.69  273.49  273.89  …  292.99  294.79  296.79  298.19\n",
       " 242.99  248.99  262.19  272.99  274.19     293.49  295.29  297.89  299.19\n",
       " 242.09  248.59  261.69  272.49  274.29     295.99  297.49  298.29  298.79\n",
       " 240.69  247.79  260.89  271.89  274.39     297.39  298.49  298.19  298.69\n",
       " 239.19  246.49  259.79  271.09  274.49     297.09  297.99  298.59  299.29\n",
       " 237.69  244.99  258.09  270.19  274.69  …  296.59  297.49  298.49  298.99\n",
       " 236.59  243.59  255.99  269.09  274.99     295.69  297.29  298.19  298.59\n",
       " 235.99  242.49  253.69  267.89  275.19     294.79  296.79  297.79  298.19\n",
       " 235.99  241.89  251.29  266.29  274.99     294.59  296.29  297.69  298.29\n",
       " 236.39  241.69  249.19  264.49  274.09     294.49  296.19  297.79  298.29\n",
       " 237.09  241.79  247.39  262.29  272.39  …  293.99  295.69  297.39  297.49\n",
       " 237.79  241.89  245.99  260.19  270.49     293.99  295.39  296.89  297.69\n",
       " 238.39  241.89  245.09  258.39  268.79     294.19  295.29  295.99  297.49\n",
       "   ⋮                                     ⋱                          \n",
       " 254.49  255.29  258.79  263.99  267.29     297.99  298.59  298.59  299.19\n",
       " 252.39  256.09  262.19  267.39  269.59     297.89  298.59  298.29  299.69\n",
       " 249.99  254.99  261.69  263.69  262.69     297.09  298.29  297.59  298.79\n",
       " 247.79  252.49  257.49  254.89  250.99     296.49  297.89  297.69  297.89\n",
       " 245.89  249.09  251.39  245.59  241.79  …  295.89  296.99  297.39  297.79\n",
       " 244.59  245.79  245.39  240.09  241.09     295.79  296.89  296.79  297.69\n",
       " 243.89  243.09  241.09  240.09  249.19     295.59  296.79  296.79  297.29\n",
       " 243.69  241.39  238.79  243.89  261.29     295.09  296.19  297.09  297.19\n",
       " 243.89  240.59  238.39  248.99  271.29     295.09  295.69  296.39  297.09\n",
       " 244.19  240.59  239.39  253.49  276.49  …  294.69  295.49  295.49  296.09\n",
       " 244.49  241.29  241.69  257.39  277.89     294.69  295.39  295.49  295.79\n",
       " 244.89  242.69  245.19  261.39  278.29     294.79  294.69  294.79  295.79\n",
       "\n",
       "[:, :, 2919] =\n",
       " 245.79  249.89  262.39  273.29  273.59  …  291.59  293.69  296.29  297.79\n",
       " 244.79  249.29  261.79  272.89  273.99     291.69  293.89  297.19  298.39\n",
       " 243.49  248.49  261.29  272.49  274.19     293.59  295.39  297.59  298.49\n",
       " 241.89  247.29  260.59  272.09  274.49     295.89  297.19  297.89  298.59\n",
       " 240.29  245.69  259.39  271.59  274.69     296.89  297.79  298.29  298.79\n",
       " 238.89  243.99  257.69  270.99  274.99  …  296.79  297.49  298.09  298.69\n",
       " 237.79  242.29  255.49  270.29  275.29     296.09  297.49  297.79  298.49\n",
       " 237.19  240.89  252.99  269.29  275.59     294.99  297.29  297.79  297.99\n",
       " 237.09  239.89  250.29  267.89  275.79     294.69  296.49  297.89  298.29\n",
       " 237.29  239.29  247.59  265.89  275.59     294.69  295.99  297.69  298.19\n",
       " 237.59  239.09  244.99  262.99  274.69  …  294.49  295.99  297.49  297.39\n",
       " 237.89  238.99  242.59  259.49  272.99     294.39  295.79  296.99  297.69\n",
       " 238.09  238.99  240.59  255.69  270.49     294.39  295.49  295.89  297.59\n",
       "   ⋮                                     ⋱                          \n",
       " 255.49  256.19  258.69  262.69  267.19     298.09  298.39  298.49  298.69\n",
       " 253.19  256.59  262.09  265.99  269.59     297.49  297.89  297.89  299.09\n",
       " 250.69  255.39  261.79  263.19  263.99     296.69  297.89  297.69  298.89\n",
       " 248.19  252.79  257.99  255.69  253.99     296.19  297.59  297.69  297.79\n",
       " 246.09  249.39  252.09  247.59  246.29  …  295.69  296.59  297.59  297.99\n",
       " 244.39  245.89  246.29  242.79  245.99     295.69  296.39  296.99  297.99\n",
       " 243.39  243.09  241.89  242.79  253.39     295.29  296.29  296.49  296.79\n",
       " 242.89  241.39  239.59  246.29  264.19     294.59  295.49  296.79  296.89\n",
       " 242.89  240.79  239.19  250.79  272.99     294.49  294.89  295.89  296.59\n",
       " 243.29  241.29  240.49  254.89  277.29  …  294.49  295.09  295.29  295.69\n",
       " 243.99  242.49  243.09  258.29  277.99     294.29  294.69  295.09  295.49\n",
       " 244.79  244.29  246.89  261.79  277.59     294.49  294.29  294.39  295.19\n",
       "\n",
       "[:, :, 2920] =\n",
       " 245.09  249.89  262.99  272.19  271.19  …  292.89  293.79  296.09  297.69\n",
       " 244.29  249.29  262.19  272.09  271.89     292.09  293.69  296.89  298.09\n",
       " 243.29  248.39  261.39  271.99  272.59     292.99  295.09  297.19  298.09\n",
       " 242.19  246.99  259.99  271.59  273.09     295.09  296.69  297.49  298.49\n",
       " 241.09  245.09  257.79  270.69  273.09     296.09  297.29  298.19  298.89\n",
       " 240.09  243.09  254.99  269.29  272.89  …  296.59  297.29  298.09  298.69\n",
       " 239.39  241.09  251.99  267.69  272.99     296.49  297.39  297.79  298.39\n",
       " 238.99  239.59  249.09  266.19  273.39     295.79  297.49  297.79  298.09\n",
       " 238.89  238.59  246.59  264.79  273.99     295.59  297.19  297.69  298.09\n",
       " 239.09  238.29  244.49  263.19  274.19     295.39  296.49  297.59  297.99\n",
       " 239.39  238.39  242.59  260.89  273.69  …  294.89  296.09  297.39  297.49\n",
       " 239.49  238.59  240.89  257.89  272.29     294.89  296.19  296.79  297.49\n",
       " 239.49  238.89  239.29  254.19  270.09     294.59  296.09  296.39  297.49\n",
       "   ⋮                                     ⋱                          \n",
       " 256.09  255.49  257.29  262.39  266.69     298.59  299.39  299.99  299.89\n",
       " 254.29  255.99  260.79  266.49  269.39     298.39  299.09  299.69  300.49\n",
       " 252.49  255.19  261.29  264.99  264.79     297.49  299.09  298.99  299.99\n",
       " 250.59  253.29  258.49  258.89  255.89     296.49  298.69  298.69  299.09\n",
       " 248.69  250.29  253.39  251.69  248.59  …  296.09  297.59  298.69  299.29\n",
       " 246.79  246.99  247.69  246.79  247.69     296.19  297.09  298.19  299.29\n",
       " 245.09  243.79  242.89  245.69  253.69     295.79  296.69  297.39  297.89\n",
       " 243.59  241.39  239.89  247.89  263.19     294.99  295.79  297.29  297.39\n",
       " 242.39  239.99  238.99  251.59  271.49     294.59  295.19  296.49  297.19\n",
       " 241.69  239.59  239.89  255.39  276.09  …  294.59  295.29  295.69  296.49\n",
       " 241.49  240.29  242.59  258.99  277.39     294.19  295.09  295.69  296.19\n",
       " 241.79  241.69  246.29  262.49  277.29     294.29  294.69  295.19  295.69"
      ]
     },
     "execution_count": 16,
     "metadata": {},
     "output_type": "execute_result"
    }
   ],
   "source": [
    "# plot the first timestep\n",
    "lon = ds.air.dims[1].val.data  # Vector\n",
    "lat = ds.air.dims[2].val.data  # Vector\n",
    "temp = parent(da)  # vector"
   ]
  },
  {
   "cell_type": "code",
   "execution_count": 17,
   "metadata": {},
   "outputs": [
    {
     "data": {
      "image/png": "[encoded data removed]",
      "text/html": [
       "<img width=600 height=450 style='object-fit: contain; height: auto;' src=\"data:image/png;base64, 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\"/>"
      ]
     },
     "execution_count": 17,
     "metadata": {},
     "output_type": "execute_result"
    }
   ],
   "source": [
    "using GLMakie\n",
    "heatmap(lon, lat, temp[1, :, :])"
   ]
  },
  {
   "cell_type": "code",
   "execution_count": 18,
   "metadata": {},
   "outputs": [
    {
     "data": {
      "text/plain": [
       "53×25×1 Array{Float64, 3}:\n",
       "[:, :, 1] =\n",
       " 260.376  262.734  264.769  267.683  …  297.326  297.65   298.129  298.366\n",
       " 260.183  262.794  264.327  267.287     296.869  296.953  297.937  298.386\n",
       " 259.887  262.749  264.062  267.136     296.537  296.629  297.47   298.114\n",
       " 259.483  262.538  263.88   267.073     296.626  296.862  297.259  298.053\n",
       " 259.017  262.159  263.695  266.948     296.387  296.893  297.455  297.943\n",
       " 258.572  261.691  263.494  266.764  …  295.934  296.305  297.113  297.607\n",
       " 258.245  261.246  263.324  266.644     295.617  296.062  296.9    297.539\n",
       " 258.101  260.933  263.247  266.7       295.086  295.847  296.685  297.432\n",
       " 258.155  260.795  263.263  266.897     294.632  295.358  296.232  297.394\n",
       " 258.362  260.802  263.307  267.06      294.26   295.113  296.205  297.233\n",
       " 258.625  260.867  263.295  267.037  …  293.616  294.714  296.16   297.108\n",
       " 258.839  260.896  263.173  266.841     293.276  294.478  295.847  297.375\n",
       " 258.919  260.829  262.956  266.617     292.893  294.489  295.684  297.335\n",
       "   ⋮                                 ⋱                             \n",
       " 260.526  264.603  266.153  268.031     298.577  299.104  299.383  299.594\n",
       " 258.087  263.368  267.242  270.214     298.446  298.789  298.897  299.656\n",
       " 255.691  261.447  266.561  269.183     298.091  298.659  298.679  299.268\n",
       " 253.582  258.987  263.948  265.031     297.81   298.463  298.744  298.672\n",
       " 251.907  256.238  259.97   259.666  …  297.692  297.918  298.563  298.651\n",
       " 250.731  253.527  255.641  255.585     297.603  297.736  298.097  298.693\n",
       " 250.056  251.213  251.99   254.337     297.24   297.695  297.752  297.994\n",
       " 249.86   249.644  249.745  255.839     296.826  297.258  297.796  297.891\n",
       " 250.118  249.103  249.263  258.904     296.666  296.857  297.307  297.818\n",
       " 250.816  249.756  250.608  262.341  …  296.421  296.811  296.86   297.338\n",
       " 251.938  251.586  253.584  265.62      295.877  296.288  296.777  297.281\n",
       " 253.438  254.359  257.716  268.701     295.71   295.816  296.444  297.305"
      ]
     },
     "execution_count": 18,
     "metadata": {},
     "output_type": "execute_result"
    }
   ],
   "source": [
    "using Statistics\n",
    "mean(temp, dims=3)# On what dimensions did we apply the reduction? I can't tell by looking at this line."
   ]
  },
  {
   "cell_type": "markdown",
   "metadata": {},
   "source": [
    "### Analysis with DimensionalData\n",
    "\n",
    "How readable is this code?\n"
   ]
  },
  {
   "cell_type": "code",
   "execution_count": 19,
   "metadata": {},
   "outputs": [
    {
     "data": {
      "image/png": "[encoded data removed]",
      "text/html": [
       "<img width=600 height=450 style='object-fit: contain; height: auto;' src=\"data:image/png;base64, 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\"/>"
      ]
     },
     "execution_count": 19,
     "metadata": {},
     "output_type": "execute_result"
    }
   ],
   "source": [
    "plot(ds.air[Ti=1])"
   ]
  },
  {
   "cell_type": "markdown",
   "metadata": {},
   "source": [
    "Use dimension names instead of axis numbers\n"
   ]
  },
  {
   "cell_type": "code",
   "execution_count": 20,
   "metadata": {},
   "outputs": [
    {
     "data": {
      "image/png": "[encoded data removed]",
      "text/html": [
       "<img width=600 height=450 style='object-fit: contain; height: auto;' src=\"data:image/png;base64, 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\"/>"
      ]
     },
     "execution_count": 20,
     "metadata": {},
     "output_type": "execute_result"
    }
   ],
   "source": [
    "plot((mean(ds.air, dims=Ti)[Ti=1]))"
   ]
  },
  {
   "cell_type": "markdown",
   "metadata": {},
   "source": [
    "---\n",
    "\n",
    "## Extracting data or \"indexing\" \n",
    "\n",
    "DimensionalData supports\n",
    "\n",
    "- label-based indexing using `Selector`s\n",
    "- position-based indexing using `Integer`\n",
    "\n",
    "See the [Documentation about Selectors](https://rafaqz.github.io/DimensionalData.jl/v0.27.0/selectors) for more."
   ]
  },
  {
   "cell_type": "markdown",
   "metadata": {},
   "source": [
    "### Label-based indexing\n",
    "\n",
    "DimensionalData implements label based indexing where you can use the name of the dimension and also the labels for the entries in the dimension.\n"
   ]
  },
  {
   "cell_type": "code",
   "execution_count": 21,
   "metadata": {},
   "outputs": [
    {
     "data": {
      "text/plain": [
       "\u001b[90m╭────────────────────────╮\u001b[39m\n",
       "\u001b[90m│ \u001b[39m\u001b[38;5;209m53\u001b[39m×\u001b[38;5;32m25\u001b[39m×\u001b[38;5;81m2920\u001b[39m RasterStack\u001b[90m │\u001b[39m\n",
       "\u001b[90m├────────────────────────┴─────────────────────────────────────────────── dims ┐\u001b[39m\n",
       "  \u001b[38;5;209m↓ \u001b[39m\u001b[38;5;209mX \u001b[39m Mapped{Float32} \u001b[38;5;209m[200.0, 202.5, …, 327.5, 330.0]\u001b[39m \u001b[38;5;244mForwardOrdered\u001b[39m \u001b[38;5;244mRegular\u001b[39m \u001b[38;5;244mPoints\u001b[39m,\n",
       "  \u001b[38;5;32m→ \u001b[39m\u001b[38;5;32mY \u001b[39m Mapped{Float32} \u001b[38;5;32m[75.0, 72.5, …, 17.5, 15.0]\u001b[39m \u001b[38;5;244mReverseOrdered\u001b[39m \u001b[38;5;244mRegular\u001b[39m \u001b[38;5;244mPoints\u001b[39m,\n",
       "  \u001b[38;5;81m↗ \u001b[39m\u001b[38;5;81mTi\u001b[39m Sampled{DateTime} \u001b[38;5;81m[2013-01-01T00:00:00, …, 2014-12-31T18:00:00]\u001b[39m \u001b[38;5;244mForwardOrdered\u001b[39m \u001b[38;5;244mIrregular\u001b[39m \u001b[38;5;244mPoints\u001b[39m\n",
       "\u001b[90m├────────────────────────────────────────────────────────────────────── layers ┤\u001b[39m\n",
       "\u001b[38;5;37m  :air\u001b[39m\u001b[90m eltype: \u001b[39mFloat64\u001b[90m dims: \u001b[39m\u001b[38;5;209mX\u001b[39m, \u001b[38;5;32mY\u001b[39m, \u001b[38;5;81mTi\u001b[39m\u001b[90m size: \u001b[39m\u001b[38;5;209m53\u001b[39m×\u001b[38;5;32m25\u001b[39m×\u001b[38;5;81m2920\u001b[39m\n",
       "\u001b[90m├──────────────────────────────────────────────────────────────────── metadata ┤\u001b[39m\n",
       "  Metadata{Rasters.NCDsource}\u001b[90m of \u001b[39mDict{String, Any} with 5 entries:\n",
       "  \"references\"  => \"http://www.esrl.noaa.gov/psd/data/gridded/data.ncep.reanaly…\n",
       "  \"platform\"    => \"Model\"\n",
       "  \"title\"       => \"4x daily NMC reanalysis (1948)\"\n",
       "  \"description\" => \"Data is from NMC initialized reanalysis\\n(4x/day).  These a…\n",
       "  \"Conventions\" => \"COARDS\"\n",
       "\u001b[90m├────────────────────────────────────────────────────────────────────── raster ┤\u001b[39m\n",
       "\u001b[90m  extent: \u001b[39mExtent(X = (200.0f0, 330.0f0), Y = (15.0f0, 75.0f0), Ti = (DateTime(\"2013-01-01T00:00:00\"), DateTime(\"2014-12-31T18:00:00\")))\n",
       "\u001b[90m  missingval: \u001b[39mmissing\n",
       "\u001b[90m  crs: \u001b[39mEPSG:4326\n",
       "\u001b[90m  mappedcrs: \u001b[39mEPSG:4326\n",
       "\u001b[90m└──────────────────────────────────────────────────────────────────────────────┘\u001b[39m"
      ]
     },
     "execution_count": 21,
     "metadata": {},
     "output_type": "execute_result"
    }
   ],
   "source": [
    "# here's what our dataset looks like\n",
    "ds"
   ]
  },
  {
   "cell_type": "code",
   "execution_count": 22,
   "metadata": {},
   "outputs": [
    {
     "data": {
      "text/plain": [
       "\u001b[38;5;209mTi\u001b[39m Sampled{DateTime} \u001b[38;5;244mForwardOrdered\u001b[39m \u001b[38;5;244mIrregular\u001b[39m \u001b[38;5;244mDimensionalData.Dimensions.Lookups.Points\u001b[39m\n",
       "\u001b[90mwrapping: \u001b[39m2920-element Vector{DateTime}:\n",
       " 2013-01-01T00:00:00\n",
       " 2013-01-01T06:00:00\n",
       " 2013-01-01T12:00:00\n",
       " 2013-01-01T18:00:00\n",
       " 2013-01-02T00:00:00\n",
       " 2013-01-02T06:00:00\n",
       " 2013-01-02T12:00:00\n",
       " 2013-01-02T18:00:00\n",
       " 2013-01-03T00:00:00\n",
       " 2013-01-03T06:00:00\n",
       " 2013-01-03T12:00:00\n",
       " 2013-01-03T18:00:00\n",
       " 2013-01-04T00:00:00\n",
       " ⋮\n",
       " 2014-12-29T00:00:00\n",
       " 2014-12-29T06:00:00\n",
       " 2014-12-29T12:00:00\n",
       " 2014-12-29T18:00:00\n",
       " 2014-12-30T00:00:00\n",
       " 2014-12-30T06:00:00\n",
       " 2014-12-30T12:00:00\n",
       " 2014-12-30T18:00:00\n",
       " 2014-12-31T00:00:00\n",
       " 2014-12-31T06:00:00\n",
       " 2014-12-31T12:00:00\n",
       " 2014-12-31T18:00:00"
      ]
     },
     "execution_count": 22,
     "metadata": {},
     "output_type": "execute_result"
    }
   ],
   "source": [
    "# We can extract the Time dimension\n",
    "dims(ds, Ti)"
   ]
  },
  {
   "cell_type": "code",
   "execution_count": 23,
   "metadata": {},
   "outputs": [
    {
     "data": {
      "text/plain": [
       "\u001b[90m╭───────────────────────╮\u001b[39m\n",
       "\u001b[90m│ \u001b[39m\u001b[38;5;209m53\u001b[39m×\u001b[38;5;32m25\u001b[39m×\u001b[38;5;81m124\u001b[39m RasterStack\u001b[90m │\u001b[39m\n",
       "\u001b[90m├───────────────────────┴──────────────────────────────────────────────── dims ┐\u001b[39m\n",
       "  \u001b[38;5;209m↓ \u001b[39m\u001b[38;5;209mX \u001b[39m Mapped{Float32} \u001b[38;5;209m[200.0, 202.5, …, 327.5, 330.0]\u001b[39m \u001b[38;5;244mForwardOrdered\u001b[39m \u001b[38;5;244mRegular\u001b[39m \u001b[38;5;244mPoints\u001b[39m,\n",
       "  \u001b[38;5;32m→ \u001b[39m\u001b[38;5;32mY \u001b[39m Mapped{Float32} \u001b[38;5;32m[75.0, 72.5, …, 17.5, 15.0]\u001b[39m \u001b[38;5;244mReverseOrdered\u001b[39m \u001b[38;5;244mRegular\u001b[39m \u001b[38;5;244mPoints\u001b[39m,\n",
       "  \u001b[38;5;81m↗ \u001b[39m\u001b[38;5;81mTi\u001b[39m Sampled{DateTime} \u001b[38;5;81m[2013-05-01T00:00:00, …, 2013-05-31T18:00:00]\u001b[39m \u001b[38;5;244mForwardOrdered\u001b[39m \u001b[38;5;244mIrregular\u001b[39m \u001b[38;5;244mPoints\u001b[39m\n",
       "\u001b[90m├────────────────────────────────────────────────────────────────────── layers ┤\u001b[39m\n",
       "\u001b[38;5;37m  :air\u001b[39m\u001b[90m eltype: \u001b[39mFloat64\u001b[90m dims: \u001b[39m\u001b[38;5;209mX\u001b[39m, \u001b[38;5;32mY\u001b[39m, \u001b[38;5;81mTi\u001b[39m\u001b[90m size: \u001b[39m\u001b[38;5;209m53\u001b[39m×\u001b[38;5;32m25\u001b[39m×\u001b[38;5;81m124\u001b[39m\n",
       "\u001b[90m├──────────────────────────────────────────────────────────────────── metadata ┤\u001b[39m\n",
       "  Metadata{Rasters.NCDsource}\u001b[90m of \u001b[39mDict{String, Any} with 5 entries:\n",
       "  \"references\"  => \"http://www.esrl.noaa.gov/psd/data/gridded/data.ncep.reanaly…\n",
       "  \"platform\"    => \"Model\"\n",
       "  \"title\"       => \"4x daily NMC reanalysis (1948)\"\n",
       "  \"description\" => \"Data is from NMC initialized reanalysis\\n(4x/day).  These a…\n",
       "  \"Conventions\" => \"COARDS\"\n",
       "\u001b[90m├────────────────────────────────────────────────────────────────────── raster ┤\u001b[39m\n",
       "\u001b[90m  extent: \u001b[39mExtent(X = (200.0f0, 330.0f0), Y = (15.0f0, 75.0f0), Ti = (DateTime(\"2013-05-01T00:00:00\"), DateTime(\"2013-05-31T18:00:00\")))\n",
       "\u001b[90m  missingval: \u001b[39mmissing\n",
       "\u001b[90m  crs: \u001b[39mEPSG:4326\n",
       "\u001b[90m  mappedcrs: \u001b[39mEPSG:4326\n",
       "\u001b[90m└──────────────────────────────────────────────────────────────────────────────┘\u001b[39m"
      ]
     },
     "execution_count": 23,
     "metadata": {},
     "output_type": "execute_result"
    }
   ],
   "source": [
    "# pull out data for all of 2013-May\n",
    "ds[Ti=Where(x->yearmonth(x) == (2013, 5))]"
   ]
  },
  {
   "cell_type": "code",
   "execution_count": 24,
   "metadata": {},
   "outputs": [
    {
     "data": {
      "text/plain": [
       "\u001b[90m╭───────────────────────╮\u001b[39m\n",
       "\u001b[90m│ \u001b[39m\u001b[38;5;209m53\u001b[39m×\u001b[38;5;32m25\u001b[39m×\u001b[38;5;81m369\u001b[39m RasterStack\u001b[90m │\u001b[39m\n",
       "\u001b[90m├───────────────────────┴──────────────────────────────────────────────── dims ┐\u001b[39m\n",
       "  \u001b[38;5;209m↓ \u001b[39m\u001b[38;5;209mX \u001b[39m Mapped{Float32} \u001b[38;5;209m[200.0, 202.5, …, 327.5, 330.0]\u001b[39m \u001b[38;5;244mForwardOrdered\u001b[39m \u001b[38;5;244mRegular\u001b[39m \u001b[38;5;244mPoints\u001b[39m,\n",
       "  \u001b[38;5;32m→ \u001b[39m\u001b[38;5;32mY \u001b[39m Mapped{Float32} \u001b[38;5;32m[75.0, 72.5, …, 17.5, 15.0]\u001b[39m \u001b[38;5;244mReverseOrdered\u001b[39m \u001b[38;5;244mRegular\u001b[39m \u001b[38;5;244mPoints\u001b[39m,\n",
       "  \u001b[38;5;81m↗ \u001b[39m\u001b[38;5;81mTi\u001b[39m Sampled{DateTime} \u001b[38;5;81m[2013-05-01T00:00:00, …, 2013-08-01T00:00:00]\u001b[39m \u001b[38;5;244mForwardOrdered\u001b[39m \u001b[38;5;244mIrregular\u001b[39m \u001b[38;5;244mPoints\u001b[39m\n",
       "\u001b[90m├────────────────────────────────────────────────────────────────────── layers ┤\u001b[39m\n",
       "\u001b[38;5;37m  :air\u001b[39m\u001b[90m eltype: \u001b[39mFloat64\u001b[90m dims: \u001b[39m\u001b[38;5;209mX\u001b[39m, \u001b[38;5;32mY\u001b[39m, \u001b[38;5;81mTi\u001b[39m\u001b[90m size: \u001b[39m\u001b[38;5;209m53\u001b[39m×\u001b[38;5;32m25\u001b[39m×\u001b[38;5;81m369\u001b[39m\n",
       "\u001b[90m├──────────────────────────────────────────────────────────────────── metadata ┤\u001b[39m\n",
       "  Metadata{Rasters.NCDsource}\u001b[90m of \u001b[39mDict{String, Any} with 5 entries:\n",
       "  \"references\"  => \"http://www.esrl.noaa.gov/psd/data/gridded/data.ncep.reanaly…\n",
       "  \"platform\"    => \"Model\"\n",
       "  \"title\"       => \"4x daily NMC reanalysis (1948)\"\n",
       "  \"description\" => \"Data is from NMC initialized reanalysis\\n(4x/day).  These a…\n",
       "  \"Conventions\" => \"COARDS\"\n",
       "\u001b[90m├────────────────────────────────────────────────────────────────────── raster ┤\u001b[39m\n",
       "\u001b[90m  extent: \u001b[39mExtent(X = (200.0f0, 330.0f0), Y = (15.0f0, 75.0f0), Ti = (DateTime(\"2013-05-01T00:00:00\"), DateTime(\"2013-08-01T00:00:00\")))\n",
       "\u001b[90m  missingval: \u001b[39mmissing\n",
       "\u001b[90m  crs: \u001b[39mEPSG:4326\n",
       "\u001b[90m  mappedcrs: \u001b[39mEPSG:4326\n",
       "\u001b[90m└──────────────────────────────────────────────────────────────────────────────┘\u001b[39m"
      ]
     },
     "execution_count": 24,
     "metadata": {},
     "output_type": "execute_result"
    }
   ],
   "source": [
    "# demonstrate slicing, extract all time slices between to given dates\n",
    "ds[Ti=Date(2013,5,1)..Date(2013,8,1)]"
   ]
  },
  {
   "cell_type": "code",
   "execution_count": 25,
   "metadata": {},
   "outputs": [
    {
     "data": {
      "text/plain": [
       "\u001b[90m╭─────────────────────╮\u001b[39m\n",
       "\u001b[90m│ \u001b[39m\u001b[38;5;209m25\u001b[39m×\u001b[38;5;32m2920\u001b[39m RasterStack\u001b[90m │\u001b[39m\n",
       "\u001b[90m├─────────────────────┴────────────────────────────────────────────────── dims ┐\u001b[39m\n",
       "  \u001b[38;5;209m↓ \u001b[39m\u001b[38;5;209mY \u001b[39m Mapped{Float32} \u001b[38;5;209m[75.0, 72.5, …, 17.5, 15.0]\u001b[39m \u001b[38;5;244mReverseOrdered\u001b[39m \u001b[38;5;244mRegular\u001b[39m \u001b[38;5;244mPoints\u001b[39m,\n",
       "  \u001b[38;5;32m→ \u001b[39m\u001b[38;5;32mTi\u001b[39m Sampled{DateTime} \u001b[38;5;32m[2013-01-01T00:00:00, …, 2014-12-31T18:00:00]\u001b[39m \u001b[38;5;244mForwardOrdered\u001b[39m \u001b[38;5;244mIrregular\u001b[39m \u001b[38;5;244mPoints\u001b[39m\n",
       "\u001b[90m├────────────────────────────────────────────────────────────────────── layers ┤\u001b[39m\n",
       "\u001b[38;5;37m  :air\u001b[39m\u001b[90m eltype: \u001b[39mFloat64\u001b[90m dims: \u001b[39m\u001b[38;5;209mY\u001b[39m, \u001b[38;5;32mTi\u001b[39m\u001b[90m size: \u001b[39m\u001b[38;5;209m25\u001b[39m×\u001b[38;5;32m2920\u001b[39m\n",
       "\u001b[90m├──────────────────────────────────────────────────────────────────── metadata ┤\u001b[39m\n",
       "  Metadata{Rasters.NCDsource}\u001b[90m of \u001b[39mDict{String, Any} with 5 entries:\n",
       "  \"references\"  => \"http://www.esrl.noaa.gov/psd/data/gridded/data.ncep.reanaly…\n",
       "  \"platform\"    => \"Model\"\n",
       "  \"title\"       => \"4x daily NMC reanalysis (1948)\"\n",
       "  \"description\" => \"Data is from NMC initialized reanalysis\\n(4x/day).  These a…\n",
       "  \"Conventions\" => \"COARDS\"\n",
       "\u001b[90m├────────────────────────────────────────────────────────────────────── raster ┤\u001b[39m\n",
       "\u001b[90m  extent: \u001b[39mExtent(Y = (15.0f0, 75.0f0), Ti = (DateTime(\"2013-01-01T00:00:00\"), DateTime(\"2014-12-31T18:00:00\")))\n",
       "\u001b[90m  missingval: \u001b[39mmissing\n",
       "\u001b[90m  crs: \u001b[39mEPSG:4326\n",
       "\u001b[90m  mappedcrs: \u001b[39mEPSG:4326\n",
       "\u001b[90m└──────────────────────────────────────────────────────────────────────────────┘\u001b[39m"
      ]
     },
     "execution_count": 25,
     "metadata": {},
     "output_type": "execute_result"
    }
   ],
   "source": [
    "# demonstrate \"nearest\" indexing\n",
    "ds[X=Near(240.2)]"
   ]
  },
  {
   "cell_type": "code",
   "execution_count": 26,
   "metadata": {},
   "outputs": [
    {
     "data": {
      "text/plain": [
       "\u001b[90m╭──────────────────────╮\u001b[39m\n",
       "\u001b[90m│ \u001b[39m\u001b[38;5;209m2\u001b[39m×\u001b[38;5;32m2\u001b[39m×\u001b[38;5;81m2920\u001b[39m RasterStack\u001b[90m │\u001b[39m\n",
       "\u001b[90m├──────────────────────┴───────────────────────────────────────────────── dims ┐\u001b[39m\n",
       "  \u001b[38;5;209m↓ \u001b[39m\u001b[38;5;209mX \u001b[39m Mapped{Float32} \u001b[38;5;209m[240.0f0, 235.0f0]\u001b[39m \u001b[38;5;244mForwardOrdered\u001b[39m \u001b[38;5;244mIrregular\u001b[39m \u001b[38;5;244mPoints\u001b[39m,\n",
       "  \u001b[38;5;32m→ \u001b[39m\u001b[38;5;32mY \u001b[39m Mapped{Float32} \u001b[38;5;32m[40.0f0, 50.0f0]\u001b[39m \u001b[38;5;244mReverseOrdered\u001b[39m \u001b[38;5;244mIrregular\u001b[39m \u001b[38;5;244mPoints\u001b[39m,\n",
       "  \u001b[38;5;81m↗ \u001b[39m\u001b[38;5;81mTi\u001b[39m Sampled{DateTime} \u001b[38;5;81m[2013-01-01T00:00:00, …, 2014-12-31T18:00:00]\u001b[39m \u001b[38;5;244mForwardOrdered\u001b[39m \u001b[38;5;244mIrregular\u001b[39m \u001b[38;5;244mPoints\u001b[39m\n",
       "\u001b[90m├────────────────────────────────────────────────────────────────────── layers ┤\u001b[39m\n",
       "\u001b[38;5;37m  :air\u001b[39m\u001b[90m eltype: \u001b[39mFloat64\u001b[90m dims: \u001b[39m\u001b[38;5;209mX\u001b[39m, \u001b[38;5;32mY\u001b[39m, \u001b[38;5;81mTi\u001b[39m\u001b[90m size: \u001b[39m\u001b[38;5;209m2\u001b[39m×\u001b[38;5;32m2\u001b[39m×\u001b[38;5;81m2920\u001b[39m\n",
       "\u001b[90m├──────────────────────────────────────────────────────────────────── metadata ┤\u001b[39m\n",
       "  Metadata{Rasters.NCDsource}\u001b[90m of \u001b[39mDict{String, Any} with 5 entries:\n",
       "  \"references\"  => \"http://www.esrl.noaa.gov/psd/data/gridded/data.ncep.reanaly…\n",
       "  \"platform\"    => \"Model\"\n",
       "  \"title\"       => \"4x daily NMC reanalysis (1948)\"\n",
       "  \"description\" => \"Data is from NMC initialized reanalysis\\n(4x/day).  These a…\n",
       "  \"Conventions\" => \"COARDS\"\n",
       "\u001b[90m├────────────────────────────────────────────────────────────────────── raster ┤\u001b[39m\n",
       "\u001b[90m  extent: \u001b[39mExtent(X = (240.0f0, 235.0f0), Y = (50.0f0, 40.0f0), Ti = (DateTime(\"2013-01-01T00:00:00\"), DateTime(\"2014-12-31T18:00:00\")))\n",
       "\u001b[90m  missingval: \u001b[39mmissing\n",
       "\u001b[90m  crs: \u001b[39mEPSG:4326\n",
       "\u001b[90m  mappedcrs: \u001b[39mEPSG:4326\n",
       "\u001b[90m└──────────────────────────────────────────────────────────────────────────────┘\u001b[39m"
      ]
     },
     "execution_count": 26,
     "metadata": {},
     "output_type": "execute_result"
    }
   ],
   "source": [
    "# \"nearest indexing at multiple points\"\n",
    "ds[X=Near([240.125, 234]), Y=Near([40.1, 50.1])]"
   ]
  },
  {
   "cell_type": "markdown",
   "metadata": {},
   "source": [
    "These selectors can be mixed for different dimensions. So that we could have a `Where` selection for time and a nearest neighbor selection in space."
   ]
  },
  {
   "cell_type": "markdown",
   "metadata": {},
   "source": [
    "### Position-based indexing\n",
    "\n",
    "This is similar to usual array indexing `array[1, 2, 3]` but with the power of named\n",
    "dimensions!\n"
   ]
  },
  {
   "cell_type": "code",
   "execution_count": 27,
   "metadata": {},
   "outputs": [
    {
     "data": {
      "text/plain": [
       "244.70000000000002"
      ]
     },
     "execution_count": 27,
     "metadata": {},
     "output_type": "execute_result"
    }
   ],
   "source": [
    "# pull out time index 0, lat index 2, and lon index 3\n",
    "ds.air[Ti=1, Y=2, X=3]  #  much better than ds.air[3, 2, 1]"
   ]
  },
  {
   "cell_type": "code",
   "execution_count": 28,
   "metadata": {},
   "outputs": [
    {
     "data": {
      "text/plain": [
       "\u001b[90m╭──────────────────────────────────╮\u001b[39m\n",
       "\u001b[90m│ \u001b[39m\u001b[38;5;209m10\u001b[39m×\u001b[38;5;32m25\u001b[39m×\u001b[38;5;81m2920\u001b[39m Raster{Float64,3}\u001b[38;5;37m air\u001b[39m\u001b[90m │\u001b[39m\n",
       "\u001b[90m├──────────────────────────────────┴───────────────────────────────────── dims ┐\u001b[39m\n",
       "  \u001b[38;5;209m↓ \u001b[39m\u001b[38;5;209mX \u001b[39m Mapped{Float32} \u001b[38;5;209m[200.0, 202.5, …, 220.0, 222.5]\u001b[39m \u001b[38;5;244mForwardOrdered\u001b[39m \u001b[38;5;244mRegular\u001b[39m \u001b[38;5;244mPoints\u001b[39m,\n",
       "  \u001b[38;5;32m→ \u001b[39m\u001b[38;5;32mY \u001b[39m Mapped{Float32} \u001b[38;5;32m[75.0, 72.5, …, 17.5, 15.0]\u001b[39m \u001b[38;5;244mReverseOrdered\u001b[39m \u001b[38;5;244mRegular\u001b[39m \u001b[38;5;244mPoints\u001b[39m,\n",
       "  \u001b[38;5;81m↗ \u001b[39m\u001b[38;5;81mTi\u001b[39m Sampled{DateTime} \u001b[38;5;81m[2013-01-01T00:00:00, …, 2014-12-31T18:00:00]\u001b[39m \u001b[38;5;244mForwardOrdered\u001b[39m \u001b[38;5;244mIrregular\u001b[39m \u001b[38;5;244mPoints\u001b[39m\n",
       "\u001b[90m├──────────────────────────────────────────────────────────────────── metadata ┤\u001b[39m\n",
       "  Metadata{Rasters.NCDsource}\u001b[90m of \u001b[39mDict{String, Any} with 13 entries:\n",
       "  \"long_name\"    => \"4xDaily Air temperature at sigma level 995\"\n",
       "  \"scale_factor\" => 0.01\n",
       "  \"GRIB_name\"    => \"TMP\"\n",
       "  \"precision\"    => 2\n",
       "  \"var_desc\"     => \"Air temperature\"\n",
       "  \"actual_range\" => Float32[185.16, 322.1]\n",
       "  \"statistic\"    => \"Individual Obs\"\n",
       "  \"GRIB_id\"      => 11\n",
       "  \"myattrs\"      => \"Mine\"\n",
       "  \"dataset\"      => \"NMC Reanalysis\"\n",
       "  \"units\"        => \"degK\"\n",
       "  \"parent_stat\"  => \"Other\"\n",
       "  \"level_desc\"   => \"Surface\"\n",
       "\u001b[90m├────────────────────────────────────────────────────────────────────── raster ┤\u001b[39m\n",
       "\u001b[90m  extent: \u001b[39mExtent(X = (200.0f0, 222.5f0), Y = (15.0f0, 75.0f0), Ti = (DateTime(\"2013-01-01T00:00:00\"), DateTime(\"2014-12-31T18:00:00\")))\n",
       "\n",
       "\u001b[90m  crs: \u001b[39mEPSG:4326\n",
       "\u001b[90m  mappedcrs: \u001b[39mEPSG:4326\n",
       "\u001b[90m└──────────────────────────────────────────────────────────────────────────────┘\u001b[39m\n",
       "[\u001b[38;5;209m:\u001b[39m, \u001b[38;5;32m:\u001b[39m, \u001b[38;5;81m1\u001b[39m]\n",
       " ⋮      ⋱  "
      ]
     },
     "execution_count": 28,
     "metadata": {},
     "output_type": "execute_result"
    }
   ],
   "source": [
    "# demonstrate slicing\n",
    "ds.air[X=1:10]"
   ]
  },
  {
   "cell_type": "markdown",
   "metadata": {},
   "source": [
    "---\n",
    "\n",
    "## Concepts for computation\n",
    "\n",
    "Consider calculating the *mean air temperature per unit surface area* for this dataset. Because latitude and longitude correspond to spherical coordinates for Earth's surface, each 2.5x2.5 degree grid cell actually has a different surface area as you move away from the equator! This is because *latitudinal length* is fixed ($ \\delta Lat = R \\delta \\phi  $), but *longitudinal length varies with latitude* ($ \\delta Lon = R \\delta \\lambda \\cos(\\phi) $)\n",
    "\n",
    "So the [area element for lat-lon coordinates](https://en.wikipedia.org/wiki/Spherical_coordinate_system#Integration_and_differentiation_in_spherical_coordinates) is\n",
    "\n",
    "\n",
    "$$ \\delta A = R^2 \\delta\\phi \\, \\delta\\lambda \\cos(\\phi) $$\n",
    "\n",
    "where $\\phi$ is latitude, $\\delta \\phi$ is the spacing of the points in latitude, $\\delta \\lambda$ is the spacing of the points in longitude, and $R$ is Earth's radius. (In this formula, $\\phi$ and $\\lambda$ are measured in radians)"
   ]
  },
  {
   "cell_type": "code",
   "execution_count": 30,
   "metadata": {},
   "outputs": [
    {
     "data": {
      "text/plain": [
       "53-element Vector{Float32}:\n",
       " 200.0\n",
       " 202.5\n",
       " 205.0\n",
       " 207.5\n",
       " 210.0\n",
       " 212.5\n",
       " 215.0\n",
       " 217.5\n",
       " 220.0\n",
       " 222.5\n",
       " 225.0\n",
       " 227.5\n",
       " 230.0\n",
       "   ⋮\n",
       " 302.5\n",
       " 305.0\n",
       " 307.5\n",
       " 310.0\n",
       " 312.5\n",
       " 315.0\n",
       " 317.5\n",
       " 320.0\n",
       " 322.5\n",
       " 325.0\n",
       " 327.5\n",
       " 330.0"
      ]
     },
     "execution_count": 30,
     "metadata": {},
     "output_type": "execute_result"
    }
   ],
   "source": [
    "lon"
   ]
  },
  {
   "cell_type": "code",
   "execution_count": 91,
   "metadata": {},
   "outputs": [
    {
     "data": {
      "text/plain": [
       "\u001b[90m╭──────────────────────────────╮\u001b[39m\n",
       "\u001b[90m│ \u001b[39m\u001b[38;5;209m53-element \u001b[39mRaster{Float64,1}\u001b[90m │\u001b[39m\n",
       "\u001b[90m├──────────────────────────────┴───────────────────────────────────────── dims ┐\u001b[39m\n",
       "  \u001b[38;5;209m↓ \u001b[39m\u001b[38;5;209mX\u001b[39m Mapped{Float32} \u001b[38;5;209m[200.0, 202.5, …, 327.5, 330.0]\u001b[39m \u001b[38;5;244mForwardOrdered\u001b[39m \u001b[38;5;244mRegular\u001b[39m \u001b[38;5;244mPoints\u001b[39m\n",
       "\u001b[90m├────────────────────────────────────────────────────────────────────── raster ┤\u001b[39m\n",
       "\u001b[90m  extent: \u001b[39mExtent(X = (200.0f0, 330.0f0),)\n",
       "\n",
       "\u001b[90m  crs: \u001b[39mEPSG:4326\n",
       "\u001b[90m  mappedcrs: \u001b[39mEPSG:4326\n",
       "\u001b[90m└──────────────────────────────────────────────────────────────────────────────┘\u001b[39m\n",
       " \u001b[38;5;209m200.0\u001b[39m  2.77987e5\n",
       " \u001b[38;5;209m202.5\u001b[39m  2.77987e5\n",
       " \u001b[38;5;209m205.0\u001b[39m  2.77987e5\n",
       " \u001b[38;5;209m207.5\u001b[39m  2.77987e5\n",
       " \u001b[38;5;209m210.0\u001b[39m  2.77987e5\n",
       " \u001b[38;5;209m212.5\u001b[39m  2.77987e5\n",
       " \u001b[38;5;209m215.0\u001b[39m  2.77987e5\n",
       " \u001b[38;5;209m217.5\u001b[39m  2.77987e5\n",
       " \u001b[38;5;209m220.0\u001b[39m  2.77987e5\n",
       "   ⋮    \n",
       " \u001b[38;5;209m312.5\u001b[39m  2.77987e5\n",
       " \u001b[38;5;209m315.0\u001b[39m  2.77987e5\n",
       " \u001b[38;5;209m317.5\u001b[39m  2.77987e5\n",
       " \u001b[38;5;209m320.0\u001b[39m  2.77987e5\n",
       " \u001b[38;5;209m322.5\u001b[39m  2.77987e5\n",
       " \u001b[38;5;209m325.0\u001b[39m  2.77987e5\n",
       " \u001b[38;5;209m327.5\u001b[39m  2.77987e5\n",
       " \u001b[38;5;209m330.0\u001b[39m  2.77987e5"
      ]
     },
     "execution_count": 91,
     "metadata": {},
     "output_type": "execute_result"
    }
   ],
   "source": [
    "# Earth's average radius in meters\n",
    "R = 6.371e6\n",
    "\n",
    "# Coordinate spacing for this dataset is 2.5 x 2.5 degrees\n",
    "dϕ = deg2rad(2.5)\n",
    "dλ = deg2rad(2.5)\n",
    "\n",
    "dlat = fill(R * dϕ, dims(ds,X))"
   ]
  },
  {
   "cell_type": "code",
   "execution_count": 92,
   "metadata": {},
   "outputs": [
    {
     "data": {
      "text/plain": [
       "\u001b[90m╭──────────────────────────╮\u001b[39m\n",
       "\u001b[90m│ \u001b[39m\u001b[38;5;209m1\u001b[39m×\u001b[38;5;32m25\u001b[39m DimArray{Float64,2}\u001b[90m │\u001b[39m\n",
       "\u001b[90m├──────────────────────────┴───────────────────────────────────────────── dims ┐\u001b[39m\n",
       "  \u001b[38;5;209m↓ \u001b[39m\u001b[38;5;209mX\u001b[39m,\n",
       "  \u001b[38;5;32m→ \u001b[39m\u001b[38;5;32mY\u001b[39m Mapped{Float32} \u001b[38;5;32m[75.0, 72.5, …, 17.5, 15.0]\u001b[39m \u001b[38;5;244mReverseOrdered\u001b[39m \u001b[38;5;244mRegular\u001b[39m \u001b[38;5;244mPoints\u001b[39m\n",
       "\u001b[90m└──────────────────────────────────────────────────────────────────────────────┘\u001b[39m\n",
       "    \u001b[38;5;32m75.0\u001b[39m     \u001b[38;5;32m72.5\u001b[39m     \u001b[38;5;32m70.0\u001b[39m  \u001b[38;5;32m67.5\u001b[39m        …  \u001b[38;5;32m20.0\u001b[39m        \u001b[38;5;32m17.5\u001b[39m        \u001b[38;5;32m15.0\u001b[39m\n",
       " 71948.4  83592.4  95077.3   1.06381e5      2.61223e5   2.65121e5   2.68515e5"
      ]
     },
     "execution_count": 92,
     "metadata": {},
     "output_type": "execute_result"
    }
   ],
   "source": [
    "dlonval = R .* dλ .* cos.(deg2rad.(dims(ds.air, Y)))\n",
    "dlon = DimArray(reshape(dlonval, (1, length(dlonval))), (X,dims(ds, Y)))"
   ]
  },
  {
   "cell_type": "code",
   "execution_count": 94,
   "metadata": {},
   "outputs": [
    {
     "data": {
      "text/plain": [
       "\u001b[90m╭─────────────────────────╮\u001b[39m\n",
       "\u001b[90m│ \u001b[39m\u001b[38;5;209m53\u001b[39m×\u001b[38;5;32m25\u001b[39m Raster{Float64,2}\u001b[90m │\u001b[39m\n",
       "\u001b[90m├─────────────────────────┴────────────────────────────────────────────── dims ┐\u001b[39m\n",
       "  \u001b[38;5;209m↓ \u001b[39m\u001b[38;5;209mX\u001b[39m Mapped{Float32} \u001b[38;5;209m[200.0, 202.5, …, 327.5, 330.0]\u001b[39m \u001b[38;5;244mForwardOrdered\u001b[39m \u001b[38;5;244mRegular\u001b[39m \u001b[38;5;244mPoints\u001b[39m,\n",
       "  \u001b[38;5;32m→ \u001b[39m\u001b[38;5;32mY\u001b[39m Mapped{Float32} \u001b[38;5;32m[75.0, 72.5, …, 17.5, 15.0]\u001b[39m \u001b[38;5;244mReverseOrdered\u001b[39m \u001b[38;5;244mRegular\u001b[39m \u001b[38;5;244mPoints\u001b[39m\n",
       "\u001b[90m├────────────────────────────────────────────────────────────────────── raster ┤\u001b[39m\n",
       "\u001b[90m  extent: \u001b[39mExtent(X = (200.0f0, 330.0f0), Y = (15.0f0, 75.0f0))\n",
       "\n",
       "\u001b[90m  crs: \u001b[39mEPSG:4326\n",
       "\u001b[90m  mappedcrs: \u001b[39mEPSG:4326\n",
       "\u001b[90m└──────────────────────────────────────────────────────────────────────────────┘\u001b[39m\n",
       "   \u001b[38;5;209m↓\u001b[39m \u001b[38;5;32m→\u001b[39m  \u001b[38;5;32m75.0\u001b[39m         \u001b[38;5;32m72.5\u001b[39m         \u001b[38;5;32m70.0\u001b[39m         …  \u001b[38;5;32m17.5\u001b[39m         \u001b[38;5;32m15.0\u001b[39m\n",
       " \u001b[38;5;209m200.0\u001b[39m   2.00007e10   2.32376e10   2.64303e10      7.37003e10   7.46438e10\n",
       " \u001b[38;5;209m202.5\u001b[39m   2.00007e10   2.32376e10   2.64303e10      7.37003e10   7.46438e10\n",
       " \u001b[38;5;209m205.0\u001b[39m   2.00007e10   2.32376e10   2.64303e10      7.37003e10   7.46438e10\n",
       " \u001b[38;5;209m207.5\u001b[39m   2.00007e10   2.32376e10   2.64303e10      7.37003e10   7.46438e10\n",
       " \u001b[38;5;209m210.0\u001b[39m   2.00007e10   2.32376e10   2.64303e10  …   7.37003e10   7.46438e10\n",
       " \u001b[38;5;209m212.5\u001b[39m   2.00007e10   2.32376e10   2.64303e10      7.37003e10   7.46438e10\n",
       " \u001b[38;5;209m215.0\u001b[39m   2.00007e10   2.32376e10   2.64303e10      7.37003e10   7.46438e10\n",
       "   ⋮                                           ⋱                ⋮\n",
       " \u001b[38;5;209m312.5\u001b[39m   2.00007e10   2.32376e10   2.64303e10      7.37003e10   7.46438e10\n",
       " \u001b[38;5;209m315.0\u001b[39m   2.00007e10   2.32376e10   2.64303e10  …   7.37003e10   7.46438e10\n",
       " \u001b[38;5;209m317.5\u001b[39m   2.00007e10   2.32376e10   2.64303e10      7.37003e10   7.46438e10\n",
       " \u001b[38;5;209m320.0\u001b[39m   2.00007e10   2.32376e10   2.64303e10      7.37003e10   7.46438e10\n",
       " \u001b[38;5;209m322.5\u001b[39m   2.00007e10   2.32376e10   2.64303e10      7.37003e10   7.46438e10\n",
       " \u001b[38;5;209m325.0\u001b[39m   2.00007e10   2.32376e10   2.64303e10      7.37003e10   7.46438e10\n",
       " \u001b[38;5;209m327.5\u001b[39m   2.00007e10   2.32376e10   2.64303e10  …   7.37003e10   7.46438e10\n",
       " \u001b[38;5;209m330.0\u001b[39m   2.00007e10   2.32376e10   2.64303e10      7.37003e10   7.46438e10"
      ]
     },
     "execution_count": 94,
     "metadata": {},
     "output_type": "execute_result"
    }
   ],
   "source": [
    "cell_area = dlat .* dlon"
   ]
  },
  {
   "cell_type": "markdown",
   "metadata": {},
   "source": [
    "You can apply functions like `cos` and `deg2rad` elementwise on array types by using broadcasting in Julia."
   ]
  },
  {
   "cell_type": "markdown",
   "metadata": {},
   "source": [
    "### Broadcasting: expanding data\n",
    "\n",
    "In DimensionalData the broadcast does not automatically expand the data therefore we have to reshape the underlying data into a row vector to get a 2D array from the two 1D vectors."
   ]
  },
  {
   "cell_type": "code",
   "execution_count": 95,
   "metadata": {},
   "outputs": [
    {
     "data": {
      "text/plain": [
       "\u001b[90m╭───────────────────────────╮\u001b[39m\n",
       "\u001b[90m│ \u001b[39m\u001b[38;5;209m53\u001b[39m×\u001b[38;5;32m25\u001b[39m DimArray{Float64,2}\u001b[90m │\u001b[39m\n",
       "\u001b[90m├───────────────────────────┴──────────────────────────────────────────── dims ┐\u001b[39m\n",
       "  \u001b[38;5;209m↓ \u001b[39m\u001b[38;5;209mX\u001b[39m Mapped{Float32} \u001b[38;5;209m[200.0, 202.5, …, 327.5, 330.0]\u001b[39m \u001b[38;5;244mForwardOrdered\u001b[39m \u001b[38;5;244mRegular\u001b[39m \u001b[38;5;244mPoints\u001b[39m,\n",
       "  \u001b[38;5;32m→ \u001b[39m\u001b[38;5;32mY\u001b[39m Mapped{Float32} \u001b[38;5;32m[75.0, 72.5, …, 17.5, 15.0]\u001b[39m \u001b[38;5;244mReverseOrdered\u001b[39m \u001b[38;5;244mRegular\u001b[39m \u001b[38;5;244mPoints\u001b[39m\n",
       "\u001b[90m└──────────────────────────────────────────────────────────────────────────────┘\u001b[39m\n",
       "   \u001b[38;5;209m↓\u001b[39m \u001b[38;5;32m→\u001b[39m  \u001b[38;5;32m75.0\u001b[39m         \u001b[38;5;32m72.5\u001b[39m         \u001b[38;5;32m70.0\u001b[39m         …  \u001b[38;5;32m17.5\u001b[39m         \u001b[38;5;32m15.0\u001b[39m\n",
       " \u001b[38;5;209m200.0\u001b[39m   2.00007e10   2.32376e10   2.64303e10      7.37003e10   7.46438e10\n",
       " \u001b[38;5;209m202.5\u001b[39m   2.00007e10   2.32376e10   2.64303e10      7.37003e10   7.46438e10\n",
       " \u001b[38;5;209m205.0\u001b[39m   2.00007e10   2.32376e10   2.64303e10      7.37003e10   7.46438e10\n",
       " \u001b[38;5;209m207.5\u001b[39m   2.00007e10   2.32376e10   2.64303e10      7.37003e10   7.46438e10\n",
       " \u001b[38;5;209m210.0\u001b[39m   2.00007e10   2.32376e10   2.64303e10  …   7.37003e10   7.46438e10\n",
       " \u001b[38;5;209m212.5\u001b[39m   2.00007e10   2.32376e10   2.64303e10      7.37003e10   7.46438e10\n",
       " \u001b[38;5;209m215.0\u001b[39m   2.00007e10   2.32376e10   2.64303e10      7.37003e10   7.46438e10\n",
       "   ⋮                                           ⋱                ⋮\n",
       " \u001b[38;5;209m312.5\u001b[39m   2.00007e10   2.32376e10   2.64303e10      7.37003e10   7.46438e10\n",
       " \u001b[38;5;209m315.0\u001b[39m   2.00007e10   2.32376e10   2.64303e10  …   7.37003e10   7.46438e10\n",
       " \u001b[38;5;209m317.5\u001b[39m   2.00007e10   2.32376e10   2.64303e10      7.37003e10   7.46438e10\n",
       " \u001b[38;5;209m320.0\u001b[39m   2.00007e10   2.32376e10   2.64303e10      7.37003e10   7.46438e10\n",
       " \u001b[38;5;209m322.5\u001b[39m   2.00007e10   2.32376e10   2.64303e10      7.37003e10   7.46438e10\n",
       " \u001b[38;5;209m325.0\u001b[39m   2.00007e10   2.32376e10   2.64303e10      7.37003e10   7.46438e10\n",
       " \u001b[38;5;209m327.5\u001b[39m   2.00007e10   2.32376e10   2.64303e10  …   7.37003e10   7.46438e10\n",
       " \u001b[38;5;209m330.0\u001b[39m   2.00007e10   2.32376e10   2.64303e10      7.37003e10   7.46438e10"
      ]
     },
     "execution_count": 95,
     "metadata": {},
     "output_type": "execute_result"
    }
   ],
   "source": [
    "cell_area = dlon .* dlat\n",
    "cell_area"
   ]
  },
  {
   "cell_type": "markdown",
   "metadata": {},
   "source": [
    "---\n",
    "\n",
    "### Alignment: putting data on the same grid\n",
    "\n",
    "When broadcasting arithmetic operations DimensionalData automatically \"aligns\" i.e. puts the\n",
    "data on the same grid. In this case `cell_area` and `ds.air` are at the same\n",
    "lat, lon points we end up with a result with the same shape (25x53):\n"
   ]
  },
  {
   "cell_type": "code",
   "execution_count": 73,
   "metadata": {},
   "outputs": [
    {
     "ename": "LoadError",
     "evalue": "DimensionMismatch: arrays could not be broadcast to a common size; got a dimension with lengths 53 and 25",
     "output_type": "error",
     "traceback": [
      "DimensionMismatch: arrays could not be broadcast to a common size; got a dimension with lengths 53 and 25",
      "",
      "Stacktrace:",
      " [1] _bcs1",
      "   @ ./broadcast.jl:555 [inlined]",
      " [2] _bcs(shape::Tuple{DimensionalData.Dimensions.DimUnitRange{Int64, Base.OneTo{Int64}, X{Mapped{Float32, Vector{Float32}, DimensionalData.Dimensions.Lookups.ForwardOrdered, DimensionalData.Dimensions.Lookups.Regular{Float32}, DimensionalData.Dimensions.Lookups.Points, DimensionalData.Dimensions.Lookups.Metadata{Rasters.NCDsource, Dict{String, Any}}, EPSG{1}, EPSG{1}, X{Colon}}}}, DimensionalData.Dimensions.DimUnitRange{Int64, Base.OneTo{Int64}, Y{Mapped{Float32, Vector{Float32}, DimensionalData.Dimensions.Lookups.ReverseOrdered, DimensionalData.Dimensions.Lookups.Regular{Float32}, DimensionalData.Dimensions.Lookups.Points, DimensionalData.Dimensions.Lookups.Metadata{Rasters.NCDsource, Dict{String, Any}}, EPSG{1}, EPSG{1}, Y{Colon}}}}}, newshape::Tuple{DimensionalData.Dimensions.DimUnitRange{Int64, Base.OneTo{Int64}, X{DimensionalData.Dimensions.Lookups.NoLookup{Base.OneTo{Int64}}}}, DimensionalData.Dimensions.DimUnitRange{Int64, Base.OneTo{Int64}, Y{Mapped{Float32, Vector{Float32}, DimensionalData.Dimensions.Lookups.ReverseOrdered, DimensionalData.Dimensions.Lookups.Regular{Float32}, DimensionalData.Dimensions.Lookups.Points, DimensionalData.Dimensions.Lookups.Metadata{Rasters.NCDsource, Dict{String, Any}}, EPSG{1}, EPSG{1}, Y{Colon}}}}})",
      "   @ Base.Broadcast ./broadcast.jl:549",
      " [3] broadcast_shape",
      "   @ ./broadcast.jl:543 [inlined]",
      " [4] combine_axes",
      "   @ ./broadcast.jl:524 [inlined]",
      " [5] instantiate",
      "   @ ./broadcast.jl:306 [inlined]",
      " [6] materialize(bc::Base.Broadcast.Broadcasted{DimensionalData.DimensionalStyle{Base.Broadcast.DefaultArrayStyle{2}}, Nothing, typeof(/), Tuple{Raster{Float64, 2, Tuple{X{Mapped{Float32, Vector{Float32}, DimensionalData.Dimensions.Lookups.ForwardOrdered, DimensionalData.Dimensions.Lookups.Regular{Float32}, DimensionalData.Dimensions.Lookups.Points, DimensionalData.Dimensions.Lookups.Metadata{Rasters.NCDsource, Dict{String, Any}}, EPSG{1}, EPSG{1}, X{Colon}}}, Y{Mapped{Float32, Vector{Float32}, DimensionalData.Dimensions.Lookups.ReverseOrdered, DimensionalData.Dimensions.Lookups.Regular{Float32}, DimensionalData.Dimensions.Lookups.Points, DimensionalData.Dimensions.Lookups.Metadata{Rasters.NCDsource, Dict{String, Any}}, EPSG{1}, EPSG{1}, Y{Colon}}}}, Tuple{Ti{DimensionalData.Dimensions.Lookups.Sampled{DateTime, Vector{DateTime}, DimensionalData.Dimensions.Lookups.ForwardOrdered, DimensionalData.Dimensions.Lookups.Irregular{Tuple{DateTime, DateTime}}, DimensionalData.Dimensions.Lookups.Points, DimensionalData.Dimensions.Lookups.Metadata{Rasters.NCDsource, Dict{String, Any}}}}}, Matrix{Float64}, Symbol, DimensionalData.Dimensions.Lookups.Metadata{Rasters.NCDsource, Dict{String, Any}}, Nothing}, DimMatrix{Float64, Tuple{X{DimensionalData.Dimensions.Lookups.NoLookup{Base.OneTo{Int64}}}, Y{Mapped{Float32, Vector{Float32}, DimensionalData.Dimensions.Lookups.ReverseOrdered, DimensionalData.Dimensions.Lookups.Regular{Float32}, DimensionalData.Dimensions.Lookups.Points, DimensionalData.Dimensions.Lookups.Metadata{Rasters.NCDsource, Dict{String, Any}}, EPSG{1}, EPSG{1}, Y{Colon}}}}, Tuple{}, Matrix{Float64}, Symbol, DimensionalData.Dimensions.Lookups.NoMetadata}}})",
      "   @ Base.Broadcast ./broadcast.jl:903",
      " [7] top-level scope",
      "   @ In[73]:1"
     ]
    }
   ],
   "source": [
    "ds.air[Ti=1] ./ cell_area"
   ]
  },
  {
   "cell_type": "markdown",
   "metadata": {},
   "source": [
    "DimensionalData only compares the dimension name and would currently broadcast two arrays with the same size along each dimension together."
   ]
  },
  {
   "cell_type": "code",
   "execution_count": 109,
   "metadata": {},
   "outputs": [
    {
     "data": {
      "text/plain": [
       "\u001b[90m╭─────────────────────────╮\u001b[39m\n",
       "\u001b[90m│ \u001b[39m\u001b[38;5;209m53\u001b[39m×\u001b[38;5;32m25\u001b[39m Raster{Float64,2}\u001b[90m │\u001b[39m\n",
       "\u001b[90m├─────────────────────────┴────────────────────────────────────────────── dims ┐\u001b[39m\n",
       "  \u001b[38;5;209m↓ \u001b[39m\u001b[38;5;209mX\u001b[39m Mapped{Float32} \u001b[38;5;209m[200.0, 202.5, …, 327.5, 330.0]\u001b[39m \u001b[38;5;244mForwardOrdered\u001b[39m \u001b[38;5;244mRegular\u001b[39m \u001b[38;5;244mPoints\u001b[39m,\n",
       "  \u001b[38;5;32m→ \u001b[39m\u001b[38;5;32mY\u001b[39m Mapped{Float32} \u001b[38;5;32m[75.0, 72.5, …, 17.5, 15.0]\u001b[39m \u001b[38;5;244mReverseOrdered\u001b[39m \u001b[38;5;244mRegular\u001b[39m \u001b[38;5;244mPoints\u001b[39m\n",
       "\u001b[90m├────────────────────────────────────────────────────────────────────── raster ┤\u001b[39m\n",
       "\u001b[90m  extent: \u001b[39mExtent(X = (200.0f0, 330.0f0), Y = (15.0f0, 75.0f0))\n",
       "\n",
       "\u001b[90m  crs: \u001b[39mEPSG:4326\n",
       "\u001b[90m  mappedcrs: \u001b[39mEPSG:4326\n",
       "\u001b[90m└──────────────────────────────────────────────────────────────────────────────┘\u001b[39m\n",
       "   \u001b[38;5;209m↓\u001b[39m \u001b[38;5;32m→\u001b[39m  \u001b[38;5;32m75.0\u001b[39m            \u001b[38;5;32m72.5\u001b[39m           …   \u001b[38;5;32m17.5\u001b[39m            \u001b[38;5;32m15.0\u001b[39m\n",
       " \u001b[38;5;209m200.0\u001b[39m   9.61286e-316    0.0                3.13151e-294    0.0\n",
       " \u001b[38;5;209m202.5\u001b[39m   9.61286e-316  NaN                  1.02641e-315    0.0\n",
       " \u001b[38;5;209m205.0\u001b[39m   8.93371e-253    1.0e-323           0.0             0.0\n",
       " \u001b[38;5;209m207.5\u001b[39m   0.0             0.0                0.0             0.0\n",
       " \u001b[38;5;209m210.0\u001b[39m   9.47351e-316    9.51922e-316  …    9.61341e-316    2.41348e-316\n",
       " \u001b[38;5;209m212.5\u001b[39m   1.0e-323        2.2767e-320        1.01969e-315    0.0\n",
       " \u001b[38;5;209m215.0\u001b[39m   0.0             0.0                6.93172e-310    6.89903e-310\n",
       "   ⋮                                   ⋱                    ⋮\n",
       " \u001b[38;5;209m312.5\u001b[39m   8.65245e-253    2.2767e-320        0.0             6.93172e-310\n",
       " \u001b[38;5;209m315.0\u001b[39m   0.0             0.0           …    0.0             1.0197e-315\n",
       " \u001b[38;5;209m317.5\u001b[39m   9.51922e-316    9.6129e-316        2.41348e-316    1.02672e-315\n",
       " \u001b[38;5;209m320.0\u001b[39m   2.2767e-320     9.6129e-316        0.0             3.13151e-294\n",
       " \u001b[38;5;209m322.5\u001b[39m   0.0             1.0e-323           6.89903e-310    1.02672e-315\n",
       " \u001b[38;5;209m325.0\u001b[39m   9.61288e-316    0.0                2.535e-321      0.0\n",
       " \u001b[38;5;209m327.5\u001b[39m   9.61288e-316    9.47351e-316  …  NaN             NaN\n",
       " \u001b[38;5;209m330.0\u001b[39m   1.0e-323        1.0e-323           0.0             2.34894e-316"
      ]
     },
     "execution_count": 109,
     "metadata": {},
     "output_type": "execute_result"
    }
   ],
   "source": [
    "# make a copy of cell_area\n",
    "# then add 1e-5 degrees to latitude\n",
    "cell_area_bad = similar(cell_area)"
   ]
  },
  {
   "cell_type": "code",
   "execution_count": 121,
   "metadata": {},
   "outputs": [
    {
     "data": {
      "text/plain": [
       "\u001b[90m╭─────────────────────────╮\u001b[39m\n",
       "\u001b[90m│ \u001b[39m\u001b[38;5;209m53\u001b[39m×\u001b[38;5;32m25\u001b[39m Raster{Float64,2}\u001b[90m │\u001b[39m\n",
       "\u001b[90m├─────────────────────────┴────────────────────────────────────────────── dims ┐\u001b[39m\n",
       "  \u001b[38;5;209m↓ \u001b[39m\u001b[38;5;209mX\u001b[39m Mapped{Int64} \u001b[38;5;209m1:53\u001b[39m \u001b[38;5;244mForwardOrdered\u001b[39m \u001b[38;5;244mRegular\u001b[39m \u001b[38;5;244mPoints\u001b[39m,\n",
       "  \u001b[38;5;32m→ \u001b[39m\u001b[38;5;32mY\u001b[39m Mapped{Float32} \u001b[38;5;32m[75.0, 72.5, …, 17.5, 15.0]\u001b[39m \u001b[38;5;244mReverseOrdered\u001b[39m \u001b[38;5;244mRegular\u001b[39m \u001b[38;5;244mPoints\u001b[39m\n",
       "\u001b[90m├────────────────────────────────────────────────────────────────────── raster ┤\u001b[39m\n",
       "\u001b[90m  extent: \u001b[39mExtent(X = (1, 53), Y = (15.0f0, 75.0f0))\n",
       "\n",
       "\u001b[90m  crs: \u001b[39mEPSG:4326\n",
       "\u001b[90m  mappedcrs: \u001b[39mEPSG:4326\n",
       "\u001b[90m└──────────────────────────────────────────────────────────────────────────────┘\u001b[39m\n",
       "  \u001b[38;5;209m↓\u001b[39m \u001b[38;5;32m→\u001b[39m  \u001b[38;5;32m75.0\u001b[39m            \u001b[38;5;32m72.5\u001b[39m           …   \u001b[38;5;32m17.5\u001b[39m            \u001b[38;5;32m15.0\u001b[39m\n",
       "  \u001b[38;5;209m1\u001b[39m     9.61286e-316    0.0                3.13151e-294    0.0\n",
       "  \u001b[38;5;209m2\u001b[39m     9.61286e-316  NaN                  1.02641e-315    0.0\n",
       "  \u001b[38;5;209m3\u001b[39m     8.93371e-253    1.0e-323           0.0             0.0\n",
       "  \u001b[38;5;209m4\u001b[39m     0.0             0.0                0.0             0.0\n",
       "  \u001b[38;5;209m5\u001b[39m     9.47351e-316    9.51922e-316  …    9.61341e-316    2.41348e-316\n",
       "  \u001b[38;5;209m6\u001b[39m     1.0e-323        2.2767e-320        1.01969e-315    0.0\n",
       "  \u001b[38;5;209m7\u001b[39m     0.0             0.0                6.93172e-310    6.89903e-310\n",
       "  ⋮                                   ⋱                    ⋮\n",
       " \u001b[38;5;209m46\u001b[39m     8.65245e-253    2.2767e-320        0.0             6.93172e-310\n",
       " \u001b[38;5;209m47\u001b[39m     0.0             0.0           …    0.0             1.0197e-315\n",
       " \u001b[38;5;209m48\u001b[39m     9.51922e-316    9.6129e-316        2.41348e-316    1.02672e-315\n",
       " \u001b[38;5;209m49\u001b[39m     2.2767e-320     9.6129e-316        0.0             3.13151e-294\n",
       " \u001b[38;5;209m50\u001b[39m     0.0             1.0e-323           6.89903e-310    1.02672e-315\n",
       " \u001b[38;5;209m51\u001b[39m     9.61288e-316    0.0                2.535e-321      0.0\n",
       " \u001b[38;5;209m52\u001b[39m     9.61288e-316    9.47351e-316  …  NaN             NaN\n",
       " \u001b[38;5;209m53\u001b[39m     1.0e-323        1.0e-323           0.0             2.34894e-316"
      ]
     },
     "execution_count": 121,
     "metadata": {},
     "output_type": "execute_result"
    }
   ],
   "source": [
    "set(cell_area_bad, set(dims(cell_area_bad, X), 1:53))"
   ]
  },
  {
   "cell_type": "code",
   "execution_count": 120,
   "metadata": {},
   "outputs": [
    {
     "data": {
      "text/plain": [
       "\u001b[90m╭─────────────────────────╮\u001b[39m\n",
       "\u001b[90m│ \u001b[39m\u001b[38;5;209m53\u001b[39m×\u001b[38;5;32m25\u001b[39m Raster{Float64,2}\u001b[90m │\u001b[39m\n",
       "\u001b[90m├─────────────────────────┴────────────────────────────────────────────── dims ┐\u001b[39m\n",
       "  \u001b[38;5;209m↓ \u001b[39m\u001b[38;5;209mX\u001b[39m Mapped{Float32} \u001b[38;5;209m[200.0, 202.5, …, 327.5, 330.0]\u001b[39m \u001b[38;5;244mForwardOrdered\u001b[39m \u001b[38;5;244mRegular\u001b[39m \u001b[38;5;244mPoints\u001b[39m,\n",
       "  \u001b[38;5;32m→ \u001b[39m\u001b[38;5;32mY\u001b[39m Mapped{Float32} \u001b[38;5;32m[75.0, 72.5, …, 17.5, 15.0]\u001b[39m \u001b[38;5;244mReverseOrdered\u001b[39m \u001b[38;5;244mRegular\u001b[39m \u001b[38;5;244mPoints\u001b[39m\n",
       "\u001b[90m├────────────────────────────────────────────────────────────────────── raster ┤\u001b[39m\n",
       "\u001b[90m  extent: \u001b[39mExtent(X = (200.0f0, 330.0f0), Y = (15.0f0, 75.0f0))\n",
       "\n",
       "\u001b[90m  crs: \u001b[39mEPSG:4326\n",
       "\u001b[90m  mappedcrs: \u001b[39mEPSG:4326\n",
       "\u001b[90m└──────────────────────────────────────────────────────────────────────────────┘\u001b[39m\n",
       "   \u001b[38;5;209m↓\u001b[39m \u001b[38;5;32m→\u001b[39m  \u001b[38;5;32m75.0\u001b[39m            \u001b[38;5;32m72.5\u001b[39m           …   \u001b[38;5;32m17.5\u001b[39m            \u001b[38;5;32m15.0\u001b[39m\n",
       " \u001b[38;5;209m200.0\u001b[39m   2.31862e-313    0.0                9.26615e-292    0.0\n",
       " \u001b[38;5;209m202.5\u001b[39m   2.33112e-313  NaN                  3.04021e-313    0.0\n",
       " \u001b[38;5;209m205.0\u001b[39m   2.17536e-250    2.416e-321         0.0             0.0\n",
       " \u001b[38;5;209m207.5\u001b[39m   0.0             0.0                0.0             0.0\n",
       " \u001b[38;5;209m210.0\u001b[39m   2.31248e-313    2.31688e-313  …    2.84653e-313    7.16563e-314\n",
       " \u001b[38;5;209m212.5\u001b[39m   2.41e-321       5.51838e-318       3.0091e-313     0.0\n",
       " \u001b[38;5;209m215.0\u001b[39m   0.0             0.0                2.04209e-307    2.04211e-307\n",
       "   ⋮                                   ⋱                    ⋮\n",
       " \u001b[38;5;209m312.5\u001b[39m   1.9667e-250     5.40705e-318       0.0             2.07051e-307\n",
       " \u001b[38;5;209m315.0\u001b[39m   0.0             0.0           …    0.0             3.04481e-313\n",
       " \u001b[38;5;209m317.5\u001b[39m   2.16562e-313    2.24173e-313       7.17769e-314    3.05961e-313\n",
       " \u001b[38;5;209m320.0\u001b[39m   5.20898e-318    2.23019e-313       0.0             9.32533e-292\n",
       " \u001b[38;5;209m322.5\u001b[39m   0.0             2.29e-321          2.04411e-307    3.05551e-313\n",
       " \u001b[38;5;209m325.0\u001b[39m   2.23788e-313    0.0                7.49977e-319    0.0\n",
       " \u001b[38;5;209m327.5\u001b[39m   2.26383e-313    2.22912e-313  …  NaN             NaN\n",
       " \u001b[38;5;209m330.0\u001b[39m   2.357e-321      2.367e-321         0.0             6.96696e-314"
      ]
     },
     "execution_count": 120,
     "metadata": {},
     "output_type": "execute_result"
    }
   ],
   "source": [
    "cell_area_bad .* ds.air[Ti=1]"
   ]
  },
  {
   "cell_type": "markdown",
   "metadata": {},
   "source": [
    "This results in the same values but the dimensions are different. "
   ]
  },
  {
   "cell_type": "markdown",
   "metadata": {},
   "source": [
    "---\n",
    "\n",
    "## High level computation \n",
    "\n",
    "(`groupby`, `resample`, `rolling`, `coarsen`, `weighted`)\n",
    "\n",
    "Xarray has some very useful high level objects that let you do common\n",
    "computations:\n",
    "\n",
    "1. `groupby` :\n",
    "   [Bin data in to groups and reduce](https://docs.xarray.dev/en/stable/groupby.html)\n",
    "1. `resample` :\n",
    "   [Groupby specialized for time axes. Either downsample or upsample your data.](https://docs.xarray.dev/en/stable/user-guide/time-series.html#resampling-and-grouped-operations)\n",
    "1. `rolling` :\n",
    "   [Operate on rolling windows of your data e.g. running mean](https://docs.xarray.dev/en/stable/user-guide/computation.html#rolling-window-operations)\n",
    "1. `coarsen` :\n",
    "   [Downsample your data](https://docs.xarray.dev/en/stable/user-guide/computation.html#coarsen-large-arrays)\n",
    "1. `weighted` :\n",
    "   [Weight your data before reducing](https://docs.xarray.dev/en/stable/user-guide/computation.html#weighted-array-reductions)\n",
    "\n",
    "\n",
    "Below we quickly demonstrate these patterns. See the user guide links above and [the tutorial](https://tutorial.xarray.dev/intermediate/01-high-level-computation-patterns.html) for more."
   ]
  },
  {
   "cell_type": "markdown",
   "metadata": {},
   "source": [
    "### groupby\n"
   ]
  },
  {
   "cell_type": "code",
   "execution_count": 122,
   "metadata": {},
   "outputs": [
    {
     "data": {
      "text/plain": [
       "\u001b[90m╭────────────────────────╮\u001b[39m\n",
       "\u001b[90m│ \u001b[39m\u001b[38;5;209m53\u001b[39m×\u001b[38;5;32m25\u001b[39m×\u001b[38;5;81m2920\u001b[39m RasterStack\u001b[90m │\u001b[39m\n",
       "\u001b[90m├────────────────────────┴─────────────────────────────────────────────── dims ┐\u001b[39m\n",
       "  \u001b[38;5;209m↓ \u001b[39m\u001b[38;5;209mX \u001b[39m Mapped{Float32} \u001b[38;5;209m[200.0, 202.5, …, 327.5, 330.0]\u001b[39m \u001b[38;5;244mForwardOrdered\u001b[39m \u001b[38;5;244mRegular\u001b[39m \u001b[38;5;244mPoints\u001b[39m,\n",
       "  \u001b[38;5;32m→ \u001b[39m\u001b[38;5;32mY \u001b[39m Mapped{Float32} \u001b[38;5;32m[75.0, 72.5, …, 17.5, 15.0]\u001b[39m \u001b[38;5;244mReverseOrdered\u001b[39m \u001b[38;5;244mRegular\u001b[39m \u001b[38;5;244mPoints\u001b[39m,\n",
       "  \u001b[38;5;81m↗ \u001b[39m\u001b[38;5;81mTi\u001b[39m Sampled{DateTime} \u001b[38;5;81m[2013-01-01T00:00:00, …, 2014-12-31T18:00:00]\u001b[39m \u001b[38;5;244mForwardOrdered\u001b[39m \u001b[38;5;244mIrregular\u001b[39m \u001b[38;5;244mPoints\u001b[39m\n",
       "\u001b[90m├────────────────────────────────────────────────────────────────────── layers ┤\u001b[39m\n",
       "\u001b[38;5;37m  :air\u001b[39m\u001b[90m eltype: \u001b[39mFloat64\u001b[90m dims: \u001b[39m\u001b[38;5;209mX\u001b[39m, \u001b[38;5;32mY\u001b[39m, \u001b[38;5;81mTi\u001b[39m\u001b[90m size: \u001b[39m\u001b[38;5;209m53\u001b[39m×\u001b[38;5;32m25\u001b[39m×\u001b[38;5;81m2920\u001b[39m\n",
       "\u001b[90m├──────────────────────────────────────────────────────────────────── metadata ┤\u001b[39m\n",
       "  Metadata{Rasters.NCDsource}\u001b[90m of \u001b[39mDict{String, Any} with 5 entries:\n",
       "  \"references\"  => \"http://www.esrl.noaa.gov/psd/data/gridded/data.ncep.reanaly…\n",
       "  \"platform\"    => \"Model\"\n",
       "  \"title\"       => \"4x daily NMC reanalysis (1948)\"\n",
       "  \"description\" => \"Data is from NMC initialized reanalysis\\n(4x/day).  These a…\n",
       "  \"Conventions\" => \"COARDS\"\n",
       "\u001b[90m├────────────────────────────────────────────────────────────────────── raster ┤\u001b[39m\n",
       "\u001b[90m  extent: \u001b[39mExtent(X = (200.0f0, 330.0f0), Y = (15.0f0, 75.0f0), Ti = (DateTime(\"2013-01-01T00:00:00\"), DateTime(\"2014-12-31T18:00:00\")))\n",
       "\u001b[90m  missingval: \u001b[39mmissing\n",
       "\u001b[90m  crs: \u001b[39mEPSG:4326\n",
       "\u001b[90m  mappedcrs: \u001b[39mEPSG:4326\n",
       "\u001b[90m└──────────────────────────────────────────────────────────────────────────────┘\u001b[39m"
      ]
     },
     "execution_count": 122,
     "metadata": {},
     "output_type": "execute_result"
    },
    {
     "name": "stderr",
     "output_type": "stream",
     "text": [
      "WARNING: both GLMakie and Base export \"Text\"; uses of it in module Main must be qualified\n"
     ]
    }
   ],
   "source": [
    "# here's ds\n",
    "ds"
   ]
  },
  {
   "cell_type": "code",
   "execution_count": 143,
   "metadata": {},
   "outputs": [
    {
     "data": {
      "text/plain": [
       "\u001b[90m╭──────────────────────────────────────────────────────────────────────────────╮\u001b[39m\n",
       "\u001b[90m│ \u001b[39m\u001b[38;5;209m4-element \u001b[39mDimGroupByArray{RasterStack{(:air,), @NamedTuple{air::Float64}, 2, @NamedTuple{air::SubArray{Float64, 2, Array{Float64, 3}, Tuple{Base.Slice{Base.OneTo{Int64}}, Base.Slice{Base.OneTo{Int64}}, Int64}, true}}, Tuple{X{Mapped{Float32, Vector{Float32}, DimensionalData.Dimensions.Lookups.ForwardOrdered, DimensionalData.Dimensions.Lookups.Regular{Float32}, DimensionalData.Dimensions.Lookups.Points, DimensionalData.Dimensions.Lookups.Metadata{Rasters.NCDsource, Dict{String, Any}}, EPSG{1}, EPSG{1}, X{Colon}}}, Y{Mapped{Float32, Vector{Float32}, DimensionalData.Dimensions.Lookups.ReverseOrdered, DimensionalData.Dimensions.Lookups.Regular{Float32}, DimensionalData.Dimensions.Lookups.Points, DimensionalData.Dimensions.Lookups.Metadata{Rasters.NCDsource, Dict{String, Any}}, EPSG{1}, EPSG{1}, Y{Colon}}}}, Tuple{Ti{DimensionalData.Dimensions.Lookups.Sampled{DateTime, SubArray{DateTime, 1, Vector{DateTime}, Tuple{UnitRange{Int64}}, true}, DimensionalData.Dimensions.Lookups.ForwardOrdered, DimensionalData.Dimensions.Lookups.Irregular{Tuple{DateTime, DateTime}}, DimensionalData.Dimensions.Lookups.Points, DimensionalData.Dimensions.Lookups.Metadata{Rasters.NCDsource, Dict{String, Any}}}}}, @NamedTuple{air::Tuple{X{Colon}, Y{Colon}}}, DimensionalData.Dimensions.Lookups.Metadata{Rasters.NCDsource, Dict{String, Any}}, @NamedTuple{air::DimensionalData.Dimensions.Lookups.Metadata{Rasters.NCDsource, Dict{String, Any}}}, Missing},1}\u001b[38;5;37m groupby\u001b[39m\u001b[90m │\u001b[39m\n",
       "\u001b[90m├──────────────────────────────────────────────────────────────────────── dims ┤\u001b[39m\n",
       "  \u001b[38;5;209m↓ \u001b[39m\u001b[38;5;209mTi\u001b[39m Categorical{Symbol} \u001b[38;5;209m[:Dec_Jan_Feb, :Mar_Apr_May, :Jun_Jul_Aug, :Sep_Oct_Nov]\u001b[39m \u001b[38;5;244mUnordered\u001b[39m\n",
       "\u001b[90m├──────────────────────────────────────────────────────────────────── metadata ┤\u001b[39m\n",
       "  Dict{Symbol, Any} with 1 entry:\n",
       "  :groupby => :Ti=>CyclicBins(month; cycle=12, step=3, start=12)…\n",
       "\u001b[90m├────────────────────────────────────────────────────────────────── group dims ┤\u001b[39m\n",
       "  \u001b[38;5;32m↓ \u001b[39m\u001b[38;5;32mX\u001b[39m, \u001b[38;5;81m→ \u001b[39m\u001b[38;5;81mY\u001b[39m, \u001b[38;5;209m↗ \u001b[39m\u001b[38;5;209mTi\u001b[39m\n",
       "\u001b[90m└──────────────────────────────────────────────────────────────────────────────┘\u001b[39m\n",
       " \u001b[38;5;209m:Dec_Jan_Feb\u001b[39m  \u001b[38;5;32m53\u001b[39m×\u001b[38;5;81m25\u001b[39m×\u001b[38;5;209m720\u001b[39m RasterStack\n",
       " \u001b[38;5;209m:Mar_Apr_May\u001b[39m  \u001b[38;5;32m53\u001b[39m×\u001b[38;5;81m25\u001b[39m×\u001b[38;5;209m736\u001b[39m RasterStack\n",
       " \u001b[38;5;209m:Jun_Jul_Aug\u001b[39m  \u001b[38;5;32m53\u001b[39m×\u001b[38;5;81m25\u001b[39m×\u001b[38;5;209m736\u001b[39m RasterStack\n",
       " \u001b[38;5;209m:Sep_Oct_Nov\u001b[39m  \u001b[38;5;32m53\u001b[39m×\u001b[38;5;81m25\u001b[39m×\u001b[38;5;209m728\u001b[39m RasterStack"
      ]
     },
     "execution_count": 143,
     "metadata": {},
     "output_type": "execute_result"
    }
   ],
   "source": [
    "groups = groupby(ds, Ti=>seasons())"
   ]
  },
  {
   "cell_type": "code",
   "execution_count": 145,
   "metadata": {},
   "outputs": [
    {
     "data": {
      "text/plain": [
       "\u001b[90m╭──────────────────────────────────────────────────────────────────────────────╮\u001b[39m\n",
       "\u001b[90m│ \u001b[39m\u001b[38;5;209m4-element \u001b[39mDimGroupByArray{RasterStack{(:air,), @NamedTuple{air::Float64}, 3, @NamedTuple{air::Array{Float64, 3}}, Tuple{X{Mapped{Float32, Vector{Float32}, DimensionalData.Dimensions.Lookups.ForwardOrdered, DimensionalData.Dimensions.Lookups.Regular{Float32}, DimensionalData.Dimensions.Lookups.Points, DimensionalData.Dimensions.Lookups.Metadata{Rasters.NCDsource, Dict{String, Any}}, EPSG{1}, EPSG{1}, X{Colon}}}, Y{Mapped{Float32, Vector{Float32}, DimensionalData.Dimensions.Lookups.ReverseOrdered, DimensionalData.Dimensions.Lookups.Regular{Float32}, DimensionalData.Dimensions.Lookups.Points, DimensionalData.Dimensions.Lookups.Metadata{Rasters.NCDsource, Dict{String, Any}}, EPSG{1}, EPSG{1}, Y{Colon}}}, Ti{DimensionalData.Dimensions.Lookups.Sampled{DateTime, Vector{DateTime}, DimensionalData.Dimensions.Lookups.ForwardOrdered, DimensionalData.Dimensions.Lookups.Irregular{Tuple{DateTime, DateTime}}, DimensionalData.Dimensions.Lookups.Points, DimensionalData.Dimensions.Lookups.Metadata{Rasters.NCDsource, Dict{String, Any}}}}}, Tuple{}, @NamedTuple{air::Tuple{X{Colon}, Y{Colon}, Ti{Colon}}}, DimensionalData.Dimensions.Lookups.Metadata{Rasters.NCDsource, Dict{String, Any}}, @NamedTuple{air::DimensionalData.Dimensions.Lookups.Metadata{Rasters.NCDsource, Dict{String, Any}}}, Nothing},1}\u001b[90m │\u001b[39m\n",
       "\u001b[90m├──────────────────────────────────────────────────────────────────────── dims ┤\u001b[39m\n",
       "  \u001b[38;5;209m↓ \u001b[39m\u001b[38;5;209mTi\u001b[39m Categorical{Symbol} \u001b[38;5;209m[:Dec_Jan_Feb, :Mar_Apr_May, :Jun_Jul_Aug, :Sep_Oct_Nov]\u001b[39m \u001b[38;5;244mUnordered\u001b[39m\n",
       "\u001b[90m├──────────────────────────────────────────────────────────────────── metadata ┤\u001b[39m\n",
       "  Dict{Symbol, Any} with 1 entry:\n",
       "  :groupby => :Ti=>CyclicBins(month; cycle=12, step=3, start=12)…\n",
       "\u001b[90m├────────────────────────────────────────────────────────────────── group dims ┤\u001b[39m\n",
       "  \u001b[38;5;32m↓ \u001b[39m\u001b[38;5;32mX\u001b[39m, \u001b[38;5;81m→ \u001b[39m\u001b[38;5;81mY\u001b[39m, \u001b[38;5;209m↗ \u001b[39m\u001b[38;5;209mTi\u001b[39m\n",
       "\u001b[90m└──────────────────────────────────────────────────────────────────────────────┘\u001b[39m\n",
       " \u001b[38;5;209m:Dec_Jan_Feb\u001b[39m  \u001b[38;5;32m53\u001b[39m×\u001b[38;5;81m25\u001b[39m×\u001b[38;5;209m1\u001b[39m RasterStack\n",
       " \u001b[38;5;209m:Mar_Apr_May\u001b[39m  \u001b[38;5;32m53\u001b[39m×\u001b[38;5;81m25\u001b[39m×\u001b[38;5;209m1\u001b[39m RasterStack\n",
       " \u001b[38;5;209m:Jun_Jul_Aug\u001b[39m  \u001b[38;5;32m53\u001b[39m×\u001b[38;5;81m25\u001b[39m×\u001b[38;5;209m1\u001b[39m RasterStack\n",
       " \u001b[38;5;209m:Sep_Oct_Nov\u001b[39m  \u001b[38;5;32m53\u001b[39m×\u001b[38;5;81m25\u001b[39m×\u001b[38;5;209m1\u001b[39m RasterStack"
      ]
     },
     "execution_count": 145,
     "metadata": {},
     "output_type": "execute_result"
    }
   ],
   "source": [
    "# make a seasonal mean\n",
    "seasonal_mean = mean.(groups, dims=Ti)\n",
    "seasonal_mean"
   ]
  },
  {
   "cell_type": "code",
   "execution_count": 154,
   "metadata": {},
   "outputs": [],
   "source": [
    "#TODO: Plot the mean map for every season"
   ]
  },
  {
   "cell_type": "markdown",
   "metadata": {},
   "source": [
    "### resample\n"
   ]
  },
  {
   "cell_type": "code",
   "execution_count": 61,
   "metadata": {},
   "outputs": [
    {
     "data": {
      "text/plain": [
       "\u001b[90m╭─────────────────────────────────────────────────╮\u001b[39m\n",
       "\u001b[90m│ \u001b[39m\u001b[38;5;209m24-element \u001b[39mDimGroupByArray{Raster{Float64,2},1}\u001b[90m │\u001b[39m\n",
       "\u001b[90m├─────────────────────────────────────────────────┴────────────────────── dims ┐\u001b[39m\n",
       "  \u001b[38;5;209m↓ \u001b[39m\u001b[38;5;209mTi\u001b[39m Sampled{Tuple{Int64, Int64}} \u001b[38;5;209m[(2013, 1), (2013, 2), …, (2014, 11), (2014, 12)]\u001b[39m \u001b[38;5;244mForwardOrdered\u001b[39m \u001b[38;5;244mIrregular\u001b[39m \u001b[38;5;244mPoints\u001b[39m\n",
       "\u001b[90m├──────────────────────────────────────────────────────────────────── metadata ┤\u001b[39m\n",
       "  Dict{Symbol, Any} with 1 entry:\n",
       "  :groupby => :Ti=>yearmonth\n",
       "\u001b[90m├────────────────────────────────────────────────────────────────── group dims ┤\u001b[39m\n",
       "  \u001b[38;5;32m↓ \u001b[39m\u001b[38;5;32mX\u001b[39m, \u001b[38;5;81m→ \u001b[39m\u001b[38;5;81mY\u001b[39m\n",
       "\u001b[90m└──────────────────────────────────────────────────────────────────────────────┘\u001b[39m\n",
       " \u001b[38;5;209m(2013, 1)\u001b[39m   \u001b[38;5;32m53\u001b[39m×\u001b[38;5;81m25\u001b[39m Raster\n",
       " \u001b[38;5;209m(2013, 2)\u001b[39m   \u001b[38;5;32m53\u001b[39m×\u001b[38;5;81m25\u001b[39m Raster\n",
       " \u001b[38;5;209m(2013, 3)\u001b[39m   \u001b[38;5;32m53\u001b[39m×\u001b[38;5;81m25\u001b[39m Raster\n",
       " \u001b[38;5;209m(2013, 4)\u001b[39m   \u001b[38;5;32m53\u001b[39m×\u001b[38;5;81m25\u001b[39m Raster\n",
       " \u001b[38;5;209m(2013, 5)\u001b[39m   \u001b[38;5;32m53\u001b[39m×\u001b[38;5;81m25\u001b[39m Raster\n",
       " \u001b[38;5;209m(2013, 6)\u001b[39m   \u001b[38;5;32m53\u001b[39m×\u001b[38;5;81m25\u001b[39m Raster\n",
       " ⋮           \n",
       " \u001b[38;5;209m(2014, 8)\u001b[39m   \u001b[38;5;32m53\u001b[39m×\u001b[38;5;81m25\u001b[39m Raster\n",
       " \u001b[38;5;209m(2014, 9)\u001b[39m   \u001b[38;5;32m53\u001b[39m×\u001b[38;5;81m25\u001b[39m Raster\n",
       " \u001b[38;5;209m(2014, 10)\u001b[39m  \u001b[38;5;32m53\u001b[39m×\u001b[38;5;81m25\u001b[39m Raster\n",
       " \u001b[38;5;209m(2014, 11)\u001b[39m  \u001b[38;5;32m53\u001b[39m×\u001b[38;5;81m25\u001b[39m Raster\n",
       " \u001b[38;5;209m(2014, 12)\u001b[39m  \u001b[38;5;32m53\u001b[39m×\u001b[38;5;81m25\u001b[39m Raster"
      ]
     },
     "execution_count": 61,
     "metadata": {},
     "output_type": "execute_result"
    }
   ],
   "source": [
    "# Reduce the time dimension to monthly means \n",
    "monthlymeans = dropdims.(mean.(groupby(ds.air, Ti=>yearmonth), dims=Ti), dims=Ti)"
   ]
  },
  {
   "cell_type": "markdown",
   "metadata": {},
   "source": [
    "### weighted\n"
   ]
  },
  {
   "cell_type": "code",
   "execution_count": 115,
   "metadata": {},
   "outputs": [
    {
     "data": {
      "text/plain": [
       "\u001b[90m╭──────────────────────────────────╮\u001b[39m\n",
       "\u001b[90m│ \u001b[39m\u001b[38;5;209m25-element \u001b[39mRaster{Float64,1}\u001b[38;5;37m air\u001b[39m\u001b[90m │\u001b[39m\n",
       "\u001b[90m├──────────────────────────────────┴───────────────────────────────────── dims ┐\u001b[39m\n",
       "  \u001b[38;5;209m↓ \u001b[39m\u001b[38;5;209mY\u001b[39m Mapped{Float32} \u001b[38;5;209m[75.0, 72.5, …, 17.5, 15.0]\u001b[39m \u001b[38;5;244mReverseOrdered\u001b[39m \u001b[38;5;244mRegular\u001b[39m \u001b[38;5;244mPoints\u001b[39m\n",
       "\u001b[90m├──────────────────────────────────────────────────────────────────── metadata ┤\u001b[39m\n",
       "  Metadata{Rasters.NCDsource}\u001b[90m of \u001b[39mDict{String, Any} with 13 entries:\n",
       "  \"long_name\"    => \"4xDaily Air temperature at sigma level 995\"\n",
       "  \"scale_factor\" => 0.01\n",
       "  \"GRIB_name\"    => \"TMP\"\n",
       "  \"precision\"    => 2\n",
       "  \"var_desc\"     => \"Air temperature\"\n",
       "  \"actual_range\" => Float32[185.16, 322.1]\n",
       "  \"statistic\"    => \"Individual Obs\"\n",
       "  \"GRIB_id\"      => 11\n",
       "  \"myattrs\"      => \"Mine\"\n",
       "  \"dataset\"      => \"NMC Reanalysis\"\n",
       "  \"units\"        => \"degK\"\n",
       "  \"parent_stat\"  => \"Other\"\n",
       "  \"level_desc\"   => \"Surface\"\n",
       "\u001b[90m├────────────────────────────────────────────────────────────────────── raster ┤\u001b[39m\n",
       "\u001b[90m  extent: \u001b[39mExtent(Y = (15.0f0, 75.0f0),)\n",
       "\n",
       "\u001b[90m  crs: \u001b[39mEPSG:4326\n",
       "\u001b[90m  mappedcrs: \u001b[39mEPSG:4326\n",
       "\u001b[90m└──────────────────────────────────────────────────────────────────────────────┘\u001b[39m\n",
       " \u001b[38;5;209m75.0\u001b[39m  257.822\n",
       "  ⋮    "
      ]
     },
     "execution_count": 115,
     "metadata": {},
     "output_type": "execute_result"
    }
   ],
   "source": [
    "# weight by cell_area and take mean over (time, lon)\n",
    "#ds.weighted(cell_area).mean([\"lon\", \"time\"]).air.plot(y=\"lat\");\n",
    "weightedmean = dropdims(mean(ds.air, dims=(X, Ti)), dims=(X,Ti))\n",
    "weightedmean"
   ]
  },
  {
   "cell_type": "code",
   "execution_count": 118,
   "metadata": {},
   "outputs": [
    {
     "name": "stdout",
     "output_type": "stream",
     "text": [
      "y = Y{Mapped{Float32, Vector{Float32}, DimensionalData.Dimensions.Lookups.ReverseOrdered, DimensionalData.Dimensions.Lookups.Regular{Float32}, DimensionalData.Dimensions.Lookups.Points, DimensionalData.Dimensions.Lookups.Metadata{Rasters.NCDsource, Dict{String, Any}}, EPSG{1}, EPSG{1}, Y{Colon}}}(Float32[75.0, 72.5, 70.0, 67.5, 65.0, 62.5, 60.0, 57.5, 55.0, 52.5, 50.0, 47.5, 45.0, 42.5, 40.0, 37.5, 35.0, 32.5, 30.0, 27.5, 25.0, 22.5, 20.0, 17.5, 15.0])\n"
     ]
    },
    {
     "data": {
      "text/plain": [
       "\u001b[38;5;209mY\u001b[39m Mapped{Float32} \u001b[38;5;244mReverseOrdered\u001b[39m \u001b[38;5;244mRegular\u001b[39m \u001b[38;5;244mDimensionalData.Dimensions.Lookups.Points\u001b[39m\n",
       "\u001b[90mwrapping: \u001b[39m25-element Vector{Float32}:\n",
       " 75.0\n",
       " 72.5\n",
       " 70.0\n",
       " 67.5\n",
       " 65.0\n",
       " 62.5\n",
       " 60.0\n",
       " 57.5\n",
       " 55.0\n",
       " 52.5\n",
       " 50.0\n",
       " 47.5\n",
       " 45.0\n",
       " 42.5\n",
       " 40.0\n",
       " 37.5\n",
       " 35.0\n",
       " 32.5\n",
       " 30.0\n",
       " 27.5\n",
       " 25.0\n",
       " 22.5\n",
       " 20.0\n",
       " 17.5\n",
       " 15.0"
      ]
     },
     "execution_count": 118,
     "metadata": {},
     "output_type": "execute_result"
    }
   ],
   "source": [
    "y = dims(weightedmean, Y)\n",
    "@show y"
   ]
  },
  {
   "cell_type": "code",
   "execution_count": 133,
   "metadata": {},
   "outputs": [
    {
     "data": {
      "image/png": "[encoded data removed]",
      "text/html": [
       "<img width=600 height=450 style='object-fit: contain; height: auto;' src=\"data:image/png;base64, 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\"/>"
      ]
     },
     "execution_count": 133,
     "metadata": {},
     "output_type": "execute_result"
    }
   ],
   "source": [
    "nx = X(reverse(Float32[75.0, 72.5, 70.0, 67.5, 65.0, 62.5, 60.0, 57.5, 55.0, 52.5, 50.0, 47.5, 45.0, 42.5, 40.0, 37.5, 35.0, 32.5, 30.0, 27.5, 25.0, 22.5, 20.0, 17.5, 15.0]))\n",
    "ny = Y(reverse(Float32[75.0, 72.5, 70.0, 67.5, 65.0, 62.5, 60.0, 57.5, 55.0, 52.5, 50.0, 47.5, 45.0, 42.5, 40.0, 37.5, 35.0, 32.5, 30.0, 27.5, 25.0, 22.5, 20.0, 17.5, 15.0]))\n",
    "\n",
    "narr = DimArray(rand(25,25), (ny, nx))\n",
    "fig, ax, pl = plot(narr)"
   ]
  },
  {
   "cell_type": "code",
   "execution_count": 135,
   "metadata": {},
   "outputs": [
    {
     "data": {
      "text/plain": [
       "\u001b[90m╭────────────────────────────────╮\u001b[39m\n",
       "\u001b[90m│ \u001b[39m\u001b[38;5;209m25-element \u001b[39mDimArray{Float64,1}\u001b[90m │\u001b[39m\n",
       "\u001b[90m├────────────────────────────────┴─────────────────────────────────────── dims ┐\u001b[39m\n",
       "  \u001b[38;5;209m↓ \u001b[39m\u001b[38;5;209mY\u001b[39m Sampled{Float32} \u001b[38;5;209m[15.0, 17.5, …, 72.5, 75.0]\u001b[39m \u001b[38;5;244mForwardOrdered\u001b[39m \u001b[38;5;244mIrregular\u001b[39m \u001b[38;5;244mPoints\u001b[39m\n",
       "\u001b[90m└──────────────────────────────────────────────────────────────────────────────┘\u001b[39m\n",
       " \u001b[38;5;209m15.0\u001b[39m  0.0524976\n",
       " \u001b[38;5;209m17.5\u001b[39m  0.448537\n",
       " \u001b[38;5;209m20.0\u001b[39m  0.140383\n",
       " \u001b[38;5;209m22.5\u001b[39m  0.255699\n",
       " \u001b[38;5;209m25.0\u001b[39m  0.943593\n",
       " \u001b[38;5;209m27.5\u001b[39m  0.207551\n",
       " \u001b[38;5;209m30.0\u001b[39m  0.805292\n",
       " \u001b[38;5;209m32.5\u001b[39m  0.268144\n",
       " \u001b[38;5;209m35.0\u001b[39m  0.0403911\n",
       "  ⋮    \n",
       " \u001b[38;5;209m57.5\u001b[39m  0.565343\n",
       " \u001b[38;5;209m60.0\u001b[39m  0.338049\n",
       " \u001b[38;5;209m62.5\u001b[39m  0.330381\n",
       " \u001b[38;5;209m65.0\u001b[39m  0.0571293\n",
       " \u001b[38;5;209m67.5\u001b[39m  0.375037\n",
       " \u001b[38;5;209m70.0\u001b[39m  0.974702\n",
       " \u001b[38;5;209m72.5\u001b[39m  0.0011732\n",
       " \u001b[38;5;209m75.0\u001b[39m  0.620473"
      ]
     },
     "execution_count": 135,
     "metadata": {},
     "output_type": "execute_result"
    }
   ],
   "source": [
    "nsingle = DimArray(rand(25), ny)"
   ]
  },
  {
   "cell_type": "code",
   "execution_count": 136,
   "metadata": {},
   "outputs": [
    {
     "data": {
      "image/png": "[encoded data removed]",
      "text/html": [
       "<img width=600 height=450 style='object-fit: contain; height: auto;' src=\"data:image/png;base64, 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\"/>"
      ]
     },
     "execution_count": 136,
     "metadata": {},
     "output_type": "execute_result"
    }
   ],
   "source": [
    "fig, ax, pl = plot(nsingle)"
   ]
  },
  {
   "cell_type": "code",
   "execution_count": 138,
   "metadata": {},
   "outputs": [
    {
     "data": {
      "text/plain": [
       "Observable(GeometryBasics.HyperRectangle{2, Float32}(Float32[-0.20000002, -0.047503244], Float32[26.4, 1.0708817]))\n",
       "    0 => map((::Makie.var\"#1456#1457\")(\u001b[90mbbox\u001b[39m, \u001b[90mlimits\u001b[39m, \u001b[90maspect\u001b[39m)\u001b[90m @\u001b[39m \u001b[90mMakie\u001b[39m \u001b[90m~/.julia/packages/Makie/ND0gA/src/makielayout/\u001b[39m\u001b[90m\u001b[4mhelpers.jl:16\u001b[24m\u001b[39m)\n",
       "    0 => map(Makie.xlimits)\n",
       "    0 => map(Makie.ylimits)\n",
       "    0 => map(_selection_vertices(\u001b[90max_scene\u001b[39m, \u001b[90mouter\u001b[39m, \u001b[90minner\u001b[39m)\u001b[90m @\u001b[39m \u001b[90mMakie\u001b[39m \u001b[90m~/.julia/packages/Makie/ND0gA/src/makielayout/\u001b[39m\u001b[90m\u001b[4minteractions.jl:124\u001b[24m\u001b[39m)\n",
       "    -2 => onany(update_axis_camera(\u001b[90mcamera\u001b[39m::\u001b[1mCamera\u001b[22m, \u001b[90mt\u001b[39m, \u001b[90mlims\u001b[39m, \u001b[90mxrev\u001b[39m::\u001b[1mBool\u001b[22m, \u001b[90myrev\u001b[39m::\u001b[1mBool\u001b[22m)\u001b[90m @\u001b[39m \u001b[90mMakie\u001b[39m \u001b[90m~/.julia/packages/Makie/ND0gA/src/makielayout/blocks/\u001b[39m\u001b[90m\u001b[4maxis.jl:75\u001b[24m\u001b[39m)\n"
      ]
     },
     "execution_count": 138,
     "metadata": {},
     "output_type": "execute_result"
    }
   ],
   "source": [
    "ax.finallimits"
   ]
  },
  {
   "cell_type": "markdown",
   "metadata": {},
   "source": [
    "---\n",
    "\n",
    "## Visualization\n",
    "\n",
    "(`.plot`)\n",
    "\n",
    "\n",
    "We have seen very simple plots earlier. Xarray also lets you easily visualize\n",
    "3D and 4D datasets by presenting multiple facets (or panels or subplots) showing\n",
    "variations across rows and/or columns."
   ]
  },
  {
   "cell_type": "code",
   "execution_count": null,
   "metadata": {},
   "outputs": [],
   "source": [
    "# facet the seasonal_mean\n",
    "seasonal_mean.air.plot(col=\"season\", col_wrap=2);"
   ]
  },
  {
   "cell_type": "code",
   "execution_count": null,
   "metadata": {},
   "outputs": [],
   "source": [
    "# contours\n",
    "seasonal_mean.air.plot.contour(col=\"season\", levels=20, add_colorbar=True);"
   ]
  },
  {
   "cell_type": "code",
   "execution_count": null,
   "metadata": {},
   "outputs": [],
   "source": [
    "# line plots too? wut\n",
    "seasonal_mean.air.mean(\"lon\").plot.line(hue=\"season\", y=\"lat\");"
   ]
  },
  {
   "cell_type": "markdown",
   "metadata": {},
   "source": [
    "For more see the [user guide](https://docs.xarray.dev/en/stable/plotting.html), the [gallery](https://docs.xarray.dev/en/stable/examples/visualization_gallery.html), and [the tutorial material](https://tutorial.xarray.dev/fundamentals/04.0_plotting.html)."
   ]
  },
  {
   "cell_type": "markdown",
   "metadata": {},
   "source": [
    "---\n",
    "\n",
    "## Reading and writing files\n",
    "\n",
    "Xarray supports many disk formats. Below is a small example using netCDF. For\n",
    "more see the [documentation](https://docs.xarray.dev/en/stable/user-guide/io.html)\n"
   ]
  },
  {
   "cell_type": "code",
   "execution_count": null,
   "metadata": {},
   "outputs": [],
   "source": [
    "# write to netCDF\n",
    "ds.to_netcdf(\"my-example-dataset.nc\")"
   ]
  },
  {
   "cell_type": "markdown",
   "metadata": {},
   "source": [
    "```{note}\n",
    "To avoid the `SerializationWarning` you can assign a _FillValue for any NaNs in 'air' array by adding the keyword argument encoding=dict(air={_FillValue=-9999})\n",
    "```"
   ]
  },
  {
   "cell_type": "code",
   "execution_count": null,
   "metadata": {},
   "outputs": [],
   "source": [
    "# read from disk\n",
    "fromdisk = xr.open_dataset(\"my-example-dataset.nc\")\n",
    "fromdisk"
   ]
  },
  {
   "cell_type": "code",
   "execution_count": null,
   "metadata": {},
   "outputs": [],
   "source": [
    "# check that the two are identical\n",
    "ds.identical(fromdisk)"
   ]
  },
  {
   "cell_type": "markdown",
   "metadata": {},
   "source": [
    "```{tip}\n",
    "A common use case to read datasets that are a collection of many netCDF\n",
    "files. See the [documentation](https://docs.xarray.dev/en/stable/user-guide/io.html#reading-multi-file-datasets) for how\n",
    "to handle that.\n",
    "```\n",
    "\n",
    "Finally to read other file formats, you might find yourself reading in the data using a different library and then creating a DataArray([docs](https://docs.xarray.dev/en/stable/user-guide/data-structures.html#creating-a-dataarray), [tutorial](https://tutorial.xarray.dev/fundamentals/01.1_creating_data_structures.html)) from scratch. For example, you might use `h5py` to open an HDF5 file and then create a Dataset from that.\n",
    "For MATLAB files you might use `scipy.io.loadmat` or `h5py` depending on the version of MATLAB file you're opening and then construct a Dataset."
   ]
  },
  {
   "cell_type": "markdown",
   "metadata": {},
   "source": [
    "---\n",
    "\n",
    "## The scientific python ecosystem\n",
    "\n",
    "Xarray ties in to the larger scientific python ecosystem and in turn many\n",
    "packages build on top of xarray. A long list of such packages is here:\n",
    "<https://docs.xarray.dev/en/stable/related-projects.html>.\n",
    "\n",
    "Now we will demonstrate some cool features.\n"
   ]
  },
  {
   "cell_type": "markdown",
   "metadata": {},
   "source": [
    "### Pandas: tabular data structures\n",
    "\n",
    "You can easily [convert](https://docs.xarray.dev/en/stable/pandas.html) between xarray and [pandas](https://pandas.pydata.org/) structures. This allows you to conveniently use the extensive pandas \n",
    "ecosystem of packages (like [seaborn](https://seaborn.pydata.org/)) for your work.\n"
   ]
  },
  {
   "cell_type": "code",
   "execution_count": null,
   "metadata": {},
   "outputs": [],
   "source": [
    "# convert to pandas dataframe\n",
    "df = ds.isel(time=slice(10)).to_dataframe()\n",
    "df"
   ]
  },
  {
   "cell_type": "code",
   "execution_count": null,
   "metadata": {},
   "outputs": [],
   "source": [
    "# convert dataframe to xarray\n",
    "df.to_xarray()"
   ]
  },
  {
   "cell_type": "markdown",
   "metadata": {},
   "source": [
    "### Alternative array types\n",
    "\n",
    "This notebook has focused on Numpy arrays. Xarray can wrap [other array](https://docs.xarray.dev/en/stable/user-guide/duckarrays.html) types! For example:\n",
    "\n",
    "<img src=\"https://docs.dask.org/en/stable/_images/dask_horizontal.svg\" width=\"20%\"> [distributed parallel arrays](https://docs.dask.org/en/latest/array.html) & [Xarray user guide on Dask](https://docs.xarray.dev/en/stable/user-guide/dask.html)\n",
    "\n",
    "<img src=\"https://raw.githubusercontent.com/pydata/sparse/master/docs/logo.svg\" width=\"15%\"> **pydata/sparse** : [sparse arrays](https://sparse.pydata.org)\n",
    "\n",
    "<img src=\"https://raw.githubusercontent.com/cupy/cupy.dev/master/images/cupy_logo.png\" width=\"22%\"> [GPU arrays](https://cupy.dev) & [cupy-xarray](https://cupy-xarray.readthedocs.io/)\n",
    "\n",
    "<img src=\"https://pint.readthedocs.io/en/stable/_static/logo-full.jpg\" width=\"10%\"> **pint** : [unit-aware arrays](https://pint.readthedocs.io) & [pint-xarray](https://github.com/xarray-contrib/pint-xarray)\n"
   ]
  },
  {
   "cell_type": "markdown",
   "metadata": {},
   "source": [
    "### Dask\n",
    "\n",
    "Dask cuts up NumPy arrays into blocks and parallelizes your analysis code across\n",
    "these blocks\n",
    "\n",
    "<img src=\"https://raw.githubusercontent.com/dask/dask/main/docs/source/images/dask-array.svg\" style=\"width:45%\">\n"
   ]
  },
  {
   "cell_type": "code",
   "execution_count": null,
   "metadata": {},
   "outputs": [],
   "source": [
    "# demonstrate dask dataset\n",
    "dasky = xr.tutorial.open_dataset(\n",
    "    \"air_temperature\",\n",
    "    chunks={\"time\": 10},  # 10 time steps in each block\n",
    ")\n",
    "\n",
    "dasky.air"
   ]
  },
  {
   "cell_type": "markdown",
   "metadata": {},
   "source": [
    "All computations with dask-backed xarray objects are lazy, allowing you to build\n",
    "up a complicated chain of analysis steps quickly\n"
   ]
  },
  {
   "cell_type": "code",
   "execution_count": null,
   "metadata": {},
   "outputs": [],
   "source": [
    "# demonstrate lazy mean\n",
    "dasky.air.mean(\"lat\")"
   ]
  },
  {
   "cell_type": "markdown",
   "metadata": {},
   "source": [
    "To get concrete values, call `.compute` or `.load`\n"
   ]
  },
  {
   "cell_type": "code",
   "execution_count": null,
   "metadata": {},
   "outputs": [],
   "source": [
    "# \"compute\" the mean\n",
    "dasky.air.mean(\"lat\").compute()"
   ]
  },
  {
   "cell_type": "markdown",
   "metadata": {},
   "source": [
    "### HoloViz\n",
    "\n",
    "Quickly generate interactive plots from your data!\n",
    "\n",
    "The [`hvplot` package](https://hvplot.holoviz.org/user_guide/Gridded_Data.html) attaches itself to all\n",
    "xarray objects under the `.hvplot` namespace. So instead of using `.plot` use `.hvplot`"
   ]
  },
  {
   "cell_type": "code",
   "execution_count": null,
   "metadata": {},
   "outputs": [],
   "source": [
    "import hvplot.xarray\n",
    "\n",
    "ds.air.hvplot(groupby=\"time\", clim=(270, 300), widget_location='bottom')"
   ]
  },
  {
   "cell_type": "markdown",
   "metadata": {},
   "source": [
    "```{note}\n",
    "The time slider will only work if you're executing the notebook, rather than viewing the website\n",
    "```"
   ]
  },
  {
   "cell_type": "markdown",
   "metadata": {},
   "source": [
    "### cf_xarray \n",
    "\n",
    "[cf_xarray](https://cf-xarray.readthedocs.io/) is a project that tries to\n",
    "let you make use of other CF attributes that xarray ignores. It attaches itself\n",
    "to all xarray objects under the `.cf` namespace.\n",
    "\n",
    "Where xarray allows you to specify dimension names for analysis, `cf_xarray`\n",
    "lets you specify logical names like `\"latitude\"` or `\"longitude\"` instead as\n",
    "long as the appropriate CF attributes are set.\n",
    "\n",
    "For example, the `\"longitude\"` dimension in different files might be labelled as: (lon, LON, long, x…), but cf_xarray let's you always refer to the logical name `\"longitude\"` in your code:"
   ]
  },
  {
   "cell_type": "code",
   "execution_count": null,
   "metadata": {},
   "outputs": [],
   "source": [
    "import cf_xarray"
   ]
  },
  {
   "cell_type": "code",
   "execution_count": null,
   "metadata": {},
   "outputs": [],
   "source": [
    "# describe cf attributes in dataset\n",
    "ds.air.cf"
   ]
  },
  {
   "cell_type": "markdown",
   "metadata": {},
   "source": [
    "The following `mean` operation will work with any dataset that has appropriate\n",
    "attributes set that allow detection of the \"latitude\" variable (e.g.\n",
    "`units: \"degress_north\"` or `standard_name: \"latitude\"`)\n"
   ]
  },
  {
   "cell_type": "code",
   "execution_count": null,
   "metadata": {},
   "outputs": [],
   "source": [
    "# demonstrate equivalent of .mean(\"lat\")\n",
    "ds.air.cf.mean(\"latitude\")"
   ]
  },
  {
   "cell_type": "code",
   "execution_count": null,
   "metadata": {},
   "outputs": [],
   "source": [
    "# demonstrate indexing\n",
    "ds.air.cf.sel(longitude=242.5, method=\"nearest\")"
   ]
  },
  {
   "cell_type": "markdown",
   "metadata": {},
   "source": [
    "### Other cool packages\n",
    "\n",
    "- [xgcm](https://xgcm.readthedocs.io/) : grid-aware operations with xarray\n",
    "  objects\n",
    "- [xrft](https://xrft.readthedocs.io/) : fourier transforms with xarray\n",
    "- [xclim](https://xclim.readthedocs.io/) : calculating climate indices with\n",
    "  xarray objects\n",
    "- [intake-xarray](https://intake-xarray.readthedocs.io/) : forget about file\n",
    "  paths\n",
    "- [rioxarray](https://corteva.github.io/rioxarray/stable/index.html) : raster\n",
    "  files and xarray\n",
    "- [xesmf](https://xesmf.readthedocs.io/) : regrid using ESMF\n",
    "- [MetPy](https://unidata.github.io/MetPy/latest/index.html) : tools for working\n",
    "  with weather data\n",
    "\n",
    "Check the Xarray [Ecosystem](https://docs.xarray.dev/en/stable/ecosystem.html) page and [this tutorial](https://tutorial.xarray.dev/intermediate/xarray_ecosystem.html) for even more packages and demonstrations."
   ]
  },
  {
   "cell_type": "markdown",
   "metadata": {},
   "source": [
    "## Next\n",
    "\n",
    "1. Read the [tutorial](https://tutorial.xarray.dev) material and [user guide](https://docs.xarray.dev/en/stable/user-guide/index.html)\n",
    "1. See the description of [common terms](https://docs.xarray.dev/en/stable/terminology.html) used in the xarray documentation: \n",
    "1. Answers to common questions on \"how to do X\" with Xarray are [here](https://docs.xarray.dev/en/stable/howdoi.html)\n",
    "1. Ryan Abernathey has a book on data analysis with a [chapter on Xarray](https://earth-env-data-science.github.io/lectures/xarray/xarray_intro.html)\n",
    "1. [Project Pythia](https://projectpythia.org/) has [foundational](https://foundations.projectpythia.org/landing-page.html) and more [advanced](https://cookbooks.projectpythia.org/) material on Xarray. Pythia also aggregates other [Python learning resources](https://projectpythia.org/resource-gallery.html).\n",
    "1. The [Xarray Github Discussions](https://github.com/pydata/xarray/discussions) and [Pangeo Discourse](https://discourse.pangeo.io/) are good places to ask questions.\n",
    "1. Tell your friends! Tweet!\n",
    "\n",
    "\n",
    "## Welcome!\n",
    "\n",
    "DimensionalData and the whole Julia data analyiss ecosystem is an open-source project and gladly welcomes all kinds of contributions. This could include reporting bugs, discussing new enhancements, contributing code, helping answer user questions, contributing documentation (even small edits like fixing spelling mistakes or rewording to make the text clearer). Welcome!"
   ]
  }
 ],
 "metadata": {
  "@webio": {
   "lastCommId": null,
   "lastKernelId": null
  },
  "kernelspec": {
   "display_name": "Julia 1.10.2",
   "language": "julia",
   "name": "julia-1.10"
  },
  "language_info": {
   "file_extension": ".jl",
   "mimetype": "application/julia",
   "name": "julia",
   "version": "1.10.2"
  },
  "toc": {
   "base_numbering": 1,
   "nav_menu": {},
   "number_sections": true,
   "sideBar": true,
   "skip_h1_title": false,
   "title_cell": "Table of Contents",
   "title_sidebar": "Contents",
   "toc_cell": true,
   "toc_position": {},
   "toc_section_display": true,
   "toc_window_display": true
  }
 },
 "nbformat": 4,
 "nbformat_minor": 4
}
